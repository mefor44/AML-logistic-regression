{
 "cells": [
  {
   "cell_type": "code",
   "execution_count": 220,
   "metadata": {},
   "outputs": [],
   "source": [
    "import numpy as np\n",
    "import pandas as pd\n",
    "from sklearn.metrics import log_loss\n",
    "from sklearn.datasets import make_classification\n",
    "from statsmodels.stats.outliers_influence import variance_inflation_factor\n",
    "import matplotlib.pyplot as plt\n",
    "from icecream import ic\n",
    "from pathlib import Path\n",
    "import random\n",
    "from sklearn.model_selection import train_test_split"
   ]
  },
  {
   "cell_type": "code",
   "execution_count": null,
   "metadata": {},
   "outputs": [],
   "source": [
    "RANDOM_STATE = 21"
   ]
  },
  {
   "cell_type": "code",
   "execution_count": null,
   "metadata": {},
   "outputs": [],
   "source": [
    "random.seed(RANDOM_STATE)"
   ]
  },
  {
   "cell_type": "code",
   "execution_count": 290,
   "metadata": {},
   "outputs": [],
   "source": [
    "def calculate_vif_(X, thresh = 5.0):\n",
    "    variables = list(range(X.shape[1]))\n",
    "    dropped = True\n",
    "    while dropped:\n",
    "        dropped = False\n",
    "        vif = [variance_inflation_factor(X.iloc[:, variables].values, ix)\n",
    "               for ix in range(X.iloc[:, variables].shape[1])]\n",
    "        maxloc = vif.index(max(vif))\n",
    "        if max(vif) > thresh:\n",
    "            print(f\"dropping {X.iloc[:, variables].columns[maxloc]} at index: {maxloc}\")\n",
    "            del variables[maxloc]\n",
    "            dropped = True\n",
    "\n",
    "    print('Remaining variables:')\n",
    "    print(X.columns[variables])\n",
    "    return X.iloc[:, variables]"
   ]
  },
  {
   "cell_type": "code",
   "execution_count": 333,
   "metadata": {},
   "outputs": [],
   "source": [
    "def drop_correlated(X, thresh = 0.95):\n",
    "    # Create correlation matrix\n",
    "    corr_matrix = X.corr().abs()\n",
    "    ic(corr_matrix)\n",
    "\n",
    "    # Select upper triangle of correlation matrix\n",
    "    upper = corr_matrix.where(np.triu(np.ones(corr_matrix.shape), k=1).astype(np.bool))\n",
    "\n",
    "    # Find features with correlation greater than 0.95\n",
    "    to_drop = [column for column in upper.columns if any(upper[column] > 0.95)]\n",
    "\n",
    "    # Drop features \n",
    "    X.drop(to_drop, axis=1, inplace=True)\n",
    "    return X"
   ]
  },
  {
   "cell_type": "markdown",
   "metadata": {},
   "source": [
    "## Preparing the first data set (Credit risk data)"
   ]
  },
  {
   "cell_type": "code",
   "execution_count": 291,
   "metadata": {},
   "outputs": [
    {
     "name": "stdout",
     "output_type": "stream",
     "text": [
      "dropping ACCESS_CREDIT at index: 2\n",
      "dropping SHORT_TERM_LIQUIDITY at index: 3\n",
      "dropping PRODUCT_DEMAND at index: 0\n",
      "dropping MEDIUM_TERM_LIQUIDITY at index: 2\n",
      "dropping OWNERS_MANAGEMENT at index: 0\n",
      "dropping PROFITABILITY at index: 0\n",
      "Remaining variables:\n",
      "Index(['GROUP_FLAG', 'TURNOVER', 'INDUSTRY_Electricity, Gas and Water ',\n",
      "       'INDUSTRY_Extractive Industries ', 'INDUSTRY_Hotels and Leisure',\n",
      "       'INDUSTRY_Manufacturing',\n",
      "       'INDUSTRY_Office Machinery and Computer Industries', 'INDUSTRY_Other',\n",
      "       'INDUSTRY_Property and Construction Sectors', 'INDUSTRY_Trade',\n",
      "       'INDUSTRY_Transport, Storage and Communications Infrastructure'],\n",
      "      dtype='object')\n"
     ]
    }
   ],
   "source": [
    "df = pd.read_csv(\"credit-data.csv\")\n",
    "df.drop([\"CUSTOMER_ID\", \"ASSESSMENT_YEAR\"],axis = 1, inplace = True)\n",
    "df.dropna(inplace = True) #drops 3 observations\n",
    "df = pd.get_dummies(df, drop_first = True)\n",
    "y1 = df.DEFAULT_FLAG.to_numpy()\n",
    "X1 = df.drop(\"DEFAULT_FLAG\", axis = 1)\n",
    "X1 = calculate_vif_(X1, thresh = 10).to_numpy()\n",
    "X1_train, X1_test, y1_train, y1_test = train_test_split(X1, y1, train_size = 0.8, random_state = RANDOM_STATE, stratify = y1)"
   ]
  },
  {
   "cell_type": "markdown",
   "metadata": {},
   "source": [
    "## Preparing the banknote authentication dataset"
   ]
  },
  {
   "cell_type": "code",
   "execution_count": null,
   "metadata": {},
   "outputs": [],
   "source": [
    "df = pd.read_csv(\"data_banknote_authentication.txt\", header=None)\n",
    "df.rename(columns = {0:\"Variance\", 1:\"Skewness\", 2:\"Curtosis\", 3:\"Entropy\", 4:\"Inauthentic\" }, inplace = True)\n",
    "df.dropna(inplace = True)\n",
    "df = pd.get_dummies(df, drop_first = True)\n",
    "y1 = df.Inauthentic.to_numpy()\n",
    "X1 = df.drop(\"Inauthentic\", axis = 1)\n",
    "X1 = calculate_vif_(X1, thresh=10).to_numpy()\n",
    "X1_train, X1_test, y1_train, y1_test = train_test_split(X1, y1, train_size = 0.8, random_state = RANDOM_STATE, stratify = y1)"
   ]
  },
  {
   "cell_type": "markdown",
   "metadata": {},
   "source": [
    "## Preparing the NBA dataset"
   ]
  },
  {
   "cell_type": "code",
   "execution_count": 364,
   "metadata": {},
   "outputs": [
    {
     "name": "stderr",
     "output_type": "stream",
     "text": [
      "ic| corr_matrix:                GP       MIN       PTS       FGM       FGA       FG%   3P Made  \\\n",
      "                 GP       1.000000  0.590596  0.539069  0.543000  0.517395  0.296987  0.108195   \n",
      "                 MIN      0.590596  1.000000  0.911746  0.902864  0.910194  0.208341  0.389474   \n",
      "                 PTS      0.539069  0.911746  1.000000  0.990874  0.979676  0.261587  0.345289   \n",
      "                 FGM      0.543000  0.902864  0.990874  1.000000  0.980117  0.297113  0.287956   \n",
      "                 FGA      0.517395  0.910194  0.979676  0.980117  1.000000  0.135815  0.388860   \n",
      "                 FG%      0.296987  0.208341  0.261587  0.297113  0.135815  1.000000  0.291573   \n",
      "                 3P Made  0.108195  0.389474  0.345289  0.287956  0.388860  0.291573  1.000000   \n",
      "                 3PA      0.099626  0.402814  0.355198  0.297898  0.412053  0.347680  0.982579   \n",
      "                 3P%      0.038209  0.165997  0.151072  0.119493  0.197160  0.330690  0.589855   \n",
      "                 FTM      0.483185  0.791089  0.896245  0.848146  0.826244  0.253381  0.155717   \n",
      "                 FTA      0.480136  0.779813  0.880826  0.840667  0.805507  0.306360  0.093059   \n",
      "                 FT%      0.197743  0.236160  0.254404  0.219423  0.264405  0.150996  0.312256   \n",
      "                 OREB     0.400184  0.573655  0.576421  0.597468  0.505547  0.512346  0.218210   \n",
      "                 DREB     0.467467  0.747065  0.696560  0.705191  0.642752  0.411103  0.018688   \n",
      "                 REB      0.460390  0.710853  0.679002  0.692678  0.616497  0.466126  0.070865   \n",
      "                 AST      0.374311  0.629147  0.551561  0.532261  0.589038  0.103546  0.374314   \n",
      "                 STL      0.452726  0.757050  0.674937  0.662457  0.689771  0.061130  0.305146   \n",
      "                 BLK      0.276700  0.401011  0.390496  0.400744  0.325503  0.390786  0.155955   \n",
      "                 TOV      0.518693  0.826431  0.850272  0.834343  0.845952  0.126429  0.257015   \n",
      "                 \n",
      "                               3PA       3P%       FTM       FTA       FT%      OREB      DREB  \\\n",
      "                 GP       0.099626  0.038209  0.483185  0.480136  0.197743  0.400184  0.467467   \n",
      "                 MIN      0.402814  0.165997  0.791089  0.779813  0.236160  0.573655  0.747065   \n",
      "                 PTS      0.355198  0.151072  0.896245  0.880826  0.254404  0.576421  0.696560   \n",
      "                 FGM      0.297898  0.119493  0.848146  0.840667  0.219423  0.597468  0.705191   \n",
      "                 FGA      0.412053  0.197160  0.826244  0.805507  0.264405  0.505547  0.642752   \n",
      "                 FG%      0.347680  0.330690  0.253381  0.306360  0.150996  0.512346  0.411103   \n",
      "                 3P Made  0.982579  0.589855  0.155717  0.093059  0.312256  0.218210  0.018688   \n",
      "                 3PA      1.000000  0.582337  0.170463  0.105784  0.320901  0.231050  0.013611   \n",
      "                 3P%      0.582337  1.000000  0.030320  0.032333  0.326372  0.288759  0.122949   \n",
      "                 FTM      0.170463  0.030320  1.000000  0.980626  0.253125  0.586325  0.657652   \n",
      "                 FTA      0.105784  0.032333  0.980626  1.000000  0.110846  0.655408  0.704195   \n",
      "                 FT%      0.320901  0.326372  0.253125  0.110846  1.000000  0.147512  0.021901   \n",
      "                 OREB     0.231050  0.288759  0.586325  0.655408  0.147512  1.000000  0.838904   \n",
      "                 DREB     0.013611  0.122949  0.657652  0.704195  0.021901  0.838904  1.000000   \n",
      "                 REB      0.079111  0.191071  0.657194  0.714267  0.070799  0.932874  0.978199   \n",
      "                 AST      0.408066  0.262120  0.474403  0.427141  0.292877  0.010736  0.189380   \n",
      "                 STL      0.336757  0.194329  0.599534  0.579737  0.202791  0.287982  0.413893   \n",
      "                 BLK      0.169245  0.242274  0.412565  0.473501  0.160008  0.649201  0.687627   \n",
      "                 TOV      0.282496  0.108277  0.804762  0.798856  0.195242  0.422708  0.572049   \n",
      "                 \n",
      "                               REB       AST       STL       BLK       TOV  \n",
      "                 GP       0.460390  0.374311  0.452726  0.276700  0.518693  \n",
      "                 MIN      0.710853  0.629147  0.757050  0.401011  0.826431  \n",
      "                 PTS      0.679002  0.551561  0.674937  0.390496  0.850272  \n",
      "                 FGM      0.692678  0.532261  0.662457  0.400744  0.834343  \n",
      "                 FGA      0.616497  0.589038  0.689771  0.325503  0.845952  \n",
      "                 FG%      0.466126  0.103546  0.061130  0.390786  0.126429  \n",
      "                 3P Made  0.070865  0.374314  0.305146  0.155955  0.257015  \n",
      "                 3PA      0.079111  0.408066  0.336757  0.169245  0.282496  \n",
      "                 3P%      0.191071  0.262120  0.194329  0.242274  0.108277  \n",
      "                 FTM      0.657194  0.474403  0.599534  0.412565  0.804762  \n",
      "                 FTA      0.714267  0.427141  0.579737  0.473501  0.798856  \n",
      "                 FT%      0.070799  0.292877  0.202791  0.160008  0.195242  \n",
      "                 OREB     0.932874  0.010736  0.287982  0.649201  0.422708  \n",
      "                 DREB     0.978199  0.189380  0.413893  0.687627  0.572049  \n",
      "                 REB      1.000000  0.121302  0.382942  0.699615  0.538216  \n",
      "                 AST      0.121302  1.000000  0.751109  0.083851  0.747442  \n",
      "                 STL      0.382942  0.751109  1.000000  0.136144  0.742301  \n",
      "                 BLK      0.699615  0.083851  0.136144  1.000000  0.284679  \n",
      "                 TOV      0.538216  0.747442  0.742301  0.284679  1.000000  \n"
     ]
    },
    {
     "name": "stdout",
     "output_type": "stream",
     "text": [
      "dropping MIN at index: 1\n",
      "dropping FG% at index: 2\n",
      "dropping PTS at index: 1\n",
      "dropping TOV at index: 10\n",
      "dropping GP at index: 0\n",
      "dropping DREB at index: 5\n",
      "dropping STL at index: 6\n",
      "dropping FTM at index: 2\n",
      "dropping FT% at index: 2\n",
      "Remaining variables:\n",
      "Index(['3P Made', '3P%', 'OREB', 'AST', 'BLK'], dtype='object')\n"
     ]
    }
   ],
   "source": [
    "df = pd.read_csv(\"nba_logreg.csv\")\n",
    "df.drop([\"Name\"],axis = 1, inplace = True)\n",
    "df.dropna(inplace = True)\n",
    "df = pd.get_dummies(df, drop_first = True)\n",
    "y1 = df.TARGET_5Yrs.to_numpy()\n",
    "X1 = df.drop(\"TARGET_5Yrs\", axis = 1)\n",
    "X1 = drop_correlated(X1)\n",
    "X1 = calculate_vif_(X1, thresh=5).to_numpy()\n",
    "X1_train, X1_test, y1_train, y1_test = train_test_split(X1, y1, train_size = 0.8, random_state = RANDOM_STATE, stratify = y1)"
   ]
  },
  {
   "cell_type": "code",
   "execution_count": 283,
   "metadata": {},
   "outputs": [
    {
     "data": {
      "text/html": [
       "<div>\n",
       "<style scoped>\n",
       "    .dataframe tbody tr th:only-of-type {\n",
       "        vertical-align: middle;\n",
       "    }\n",
       "\n",
       "    .dataframe tbody tr th {\n",
       "        vertical-align: top;\n",
       "    }\n",
       "\n",
       "    .dataframe thead th {\n",
       "        text-align: right;\n",
       "    }\n",
       "</style>\n",
       "<table border=\"1\" class=\"dataframe\">\n",
       "  <thead>\n",
       "    <tr style=\"text-align: right;\">\n",
       "      <th></th>\n",
       "      <th>GP</th>\n",
       "      <th>MIN</th>\n",
       "      <th>PTS</th>\n",
       "      <th>FGM</th>\n",
       "      <th>FGA</th>\n",
       "      <th>FG%</th>\n",
       "      <th>3P Made</th>\n",
       "      <th>3PA</th>\n",
       "      <th>3P%</th>\n",
       "      <th>FTM</th>\n",
       "      <th>FTA</th>\n",
       "      <th>FT%</th>\n",
       "      <th>OREB</th>\n",
       "      <th>DREB</th>\n",
       "      <th>REB</th>\n",
       "      <th>AST</th>\n",
       "      <th>STL</th>\n",
       "      <th>BLK</th>\n",
       "      <th>TOV</th>\n",
       "      <th>TARGET_5Yrs</th>\n",
       "    </tr>\n",
       "  </thead>\n",
       "  <tbody>\n",
       "    <tr>\n",
       "      <th>0</th>\n",
       "      <td>36</td>\n",
       "      <td>27.4</td>\n",
       "      <td>7.4</td>\n",
       "      <td>2.6</td>\n",
       "      <td>7.6</td>\n",
       "      <td>34.7</td>\n",
       "      <td>0.5</td>\n",
       "      <td>2.1</td>\n",
       "      <td>25.0</td>\n",
       "      <td>1.6</td>\n",
       "      <td>2.3</td>\n",
       "      <td>69.9</td>\n",
       "      <td>0.7</td>\n",
       "      <td>3.4</td>\n",
       "      <td>4.1</td>\n",
       "      <td>1.9</td>\n",
       "      <td>0.4</td>\n",
       "      <td>0.4</td>\n",
       "      <td>1.3</td>\n",
       "      <td>0.0</td>\n",
       "    </tr>\n",
       "    <tr>\n",
       "      <th>1</th>\n",
       "      <td>35</td>\n",
       "      <td>26.9</td>\n",
       "      <td>7.2</td>\n",
       "      <td>2.0</td>\n",
       "      <td>6.7</td>\n",
       "      <td>29.6</td>\n",
       "      <td>0.7</td>\n",
       "      <td>2.8</td>\n",
       "      <td>23.5</td>\n",
       "      <td>2.6</td>\n",
       "      <td>3.4</td>\n",
       "      <td>76.5</td>\n",
       "      <td>0.5</td>\n",
       "      <td>2.0</td>\n",
       "      <td>2.4</td>\n",
       "      <td>3.7</td>\n",
       "      <td>1.1</td>\n",
       "      <td>0.5</td>\n",
       "      <td>1.6</td>\n",
       "      <td>0.0</td>\n",
       "    </tr>\n",
       "    <tr>\n",
       "      <th>2</th>\n",
       "      <td>74</td>\n",
       "      <td>15.3</td>\n",
       "      <td>5.2</td>\n",
       "      <td>2.0</td>\n",
       "      <td>4.7</td>\n",
       "      <td>42.2</td>\n",
       "      <td>0.4</td>\n",
       "      <td>1.7</td>\n",
       "      <td>24.4</td>\n",
       "      <td>0.9</td>\n",
       "      <td>1.3</td>\n",
       "      <td>67.0</td>\n",
       "      <td>0.5</td>\n",
       "      <td>1.7</td>\n",
       "      <td>2.2</td>\n",
       "      <td>1.0</td>\n",
       "      <td>0.5</td>\n",
       "      <td>0.3</td>\n",
       "      <td>1.0</td>\n",
       "      <td>0.0</td>\n",
       "    </tr>\n",
       "    <tr>\n",
       "      <th>3</th>\n",
       "      <td>58</td>\n",
       "      <td>11.6</td>\n",
       "      <td>5.7</td>\n",
       "      <td>2.3</td>\n",
       "      <td>5.5</td>\n",
       "      <td>42.6</td>\n",
       "      <td>0.1</td>\n",
       "      <td>0.5</td>\n",
       "      <td>22.6</td>\n",
       "      <td>0.9</td>\n",
       "      <td>1.3</td>\n",
       "      <td>68.9</td>\n",
       "      <td>1.0</td>\n",
       "      <td>0.9</td>\n",
       "      <td>1.9</td>\n",
       "      <td>0.8</td>\n",
       "      <td>0.6</td>\n",
       "      <td>0.1</td>\n",
       "      <td>1.0</td>\n",
       "      <td>1.0</td>\n",
       "    </tr>\n",
       "    <tr>\n",
       "      <th>4</th>\n",
       "      <td>48</td>\n",
       "      <td>11.5</td>\n",
       "      <td>4.5</td>\n",
       "      <td>1.6</td>\n",
       "      <td>3.0</td>\n",
       "      <td>52.4</td>\n",
       "      <td>0.0</td>\n",
       "      <td>0.1</td>\n",
       "      <td>0.0</td>\n",
       "      <td>1.3</td>\n",
       "      <td>1.9</td>\n",
       "      <td>67.4</td>\n",
       "      <td>1.0</td>\n",
       "      <td>1.5</td>\n",
       "      <td>2.5</td>\n",
       "      <td>0.3</td>\n",
       "      <td>0.3</td>\n",
       "      <td>0.4</td>\n",
       "      <td>0.8</td>\n",
       "      <td>1.0</td>\n",
       "    </tr>\n",
       "  </tbody>\n",
       "</table>\n",
       "</div>"
      ],
      "text/plain": [
       "   GP   MIN  PTS  FGM  FGA   FG%  3P Made  3PA   3P%  FTM  FTA   FT%  OREB  \\\n",
       "0  36  27.4  7.4  2.6  7.6  34.7      0.5  2.1  25.0  1.6  2.3  69.9   0.7   \n",
       "1  35  26.9  7.2  2.0  6.7  29.6      0.7  2.8  23.5  2.6  3.4  76.5   0.5   \n",
       "2  74  15.3  5.2  2.0  4.7  42.2      0.4  1.7  24.4  0.9  1.3  67.0   0.5   \n",
       "3  58  11.6  5.7  2.3  5.5  42.6      0.1  0.5  22.6  0.9  1.3  68.9   1.0   \n",
       "4  48  11.5  4.5  1.6  3.0  52.4      0.0  0.1   0.0  1.3  1.9  67.4   1.0   \n",
       "\n",
       "   DREB  REB  AST  STL  BLK  TOV  TARGET_5Yrs  \n",
       "0   3.4  4.1  1.9  0.4  0.4  1.3          0.0  \n",
       "1   2.0  2.4  3.7  1.1  0.5  1.6          0.0  \n",
       "2   1.7  2.2  1.0  0.5  0.3  1.0          0.0  \n",
       "3   0.9  1.9  0.8  0.6  0.1  1.0          1.0  \n",
       "4   1.5  2.5  0.3  0.3  0.4  0.8          1.0  "
      ]
     },
     "execution_count": 283,
     "metadata": {},
     "output_type": "execute_result"
    }
   ],
   "source": [
    "df.head()"
   ]
  },
  {
   "cell_type": "markdown",
   "metadata": {},
   "source": [
    "## Preparing the ionosphere dataset"
   ]
  },
  {
   "cell_type": "code",
   "execution_count": 343,
   "metadata": {},
   "outputs": [
    {
     "name": "stdout",
     "output_type": "stream",
     "text": [
      "dropping 8 at index: 7\n",
      "dropping 14 at index: 12\n",
      "dropping 4 at index: 3\n",
      "dropping 20 at index: 16\n",
      "dropping 34_g at index: 29\n",
      "dropping 16 at index: 12\n"
     ]
    },
    {
     "name": "stderr",
     "output_type": "stream",
     "text": [
      "ic| corr_matrix:           0         2         3         5         7         9         10  \\\n",
      "                 0   1.000000  0.302034  0.006529  0.127606  0.027079  0.051883  0.034138   \n",
      "                 2   0.302034  1.000000  0.143365  0.025768  0.008717  0.047916  0.325016   \n",
      "                 3   0.006529  0.143365  1.000000  0.190308  0.255003  0.207697  0.190090   \n",
      "                 5   0.127606  0.025768  0.190308  1.000000  0.274747  0.200080  0.291447   \n",
      "                 7   0.027079  0.008717  0.255003  0.274747  1.000000  0.373567  0.364003   \n",
      "                 9"
     ]
    },
    {
     "name": "stdout",
     "output_type": "stream",
     "text": [
      "dropping 6 at index: 4\n",
      "Remaining variables:\n",
      "Index([ 0,  2,  3,  5,  7,  9, 10, 11, 12, 13, 15, 17, 18, 19, 21, 22, 23, 24,\n",
      "       25, 26, 27, 28, 29, 30, 31, 32, 33],\n",
      "      dtype='object')\n"
     ]
    },
    {
     "name": "stderr",
     "output_type": "stream",
     "text": [
      "   0.051883  0.047916  0.207697  0.200080  0.373567  1.000000  0.337374   \n",
      "                 10  0.034138  0.325016  0.190090  0.291447  0.364003  0.337374  1.000000   \n",
      "                 11  0.072216  0.169981  0.315877  0.163933  0.429146  0.441505  0.217968   \n",
      "                 12  0.102558  0.217597  0.149216  0.307197  0.355875  0.406358  0.619217   \n",
      "                 13  0.199230  0.164550  0.236604  0.135206  0.253740  0.323813  0.216747   \n",
      "                 15  0.100474  0.094301  0.185872  0.157740  0.419673  0.334135  0.031705   \n",
      "                 17  0.076019  0.172002  0.147451  0.188073  0.068717  0.130752  0.107085   \n",
      "                 18  0.200237  0.285280  0.332213  0.208571  0.400523  0.471665  0.590598   \n",
      "                 19  0.019230  0.150800  0.167244  0.061261  0.077624  0.001418  0.128132   \n",
      "                 21  0.153902  0.138065  0.035401  0.132422  0.212007  0.040414  0.325267   \n",
      "                 22  0.011772  0.250832  0.143719  0.215778  0.270624  0.318463  0.561689   \n",
      "                 23  0.082586  0.012570  0.164196  0.286541  0.007045  0.101850  0.172768   \n",
      "                 24  0.016717  0.304898  0.104632  0.177576  0.179928  0.254785  0.365821   \n",
      "                 25  0.149789  0.073202  0.236987  0.041787  0.133023  0.043680  0.131849   \n",
      "                 26  0.203100  0.077911  0.046910  0.175433  0.254130  0.250947  0.292281   \n",
      "                 27  0.010725  0.123345  0.000743  0.068775  0.072373  0.072018  0.197369   \n",
      "                 28  0.133632  0.344459  0.041090  0.029392  0.139725  0.123296  0.396851   \n",
      "                 29  0.121415  0.057890  0.342301  0.158090  0.078585  0.008578  0.074600   \n",
      "                 30  0.167031  0.246653  0.172276  0.100240  0.166682  0.155661  0.294646   \n",
      "                 31  0.100914  0.009332  0.122788  0.316802  0.152381  0.015640  0.023922   \n",
      "                 32  0.162962  0.263343  0.153964  0.016899  0.200860  0.203629  0.339506   \n",
      "                 33  0.010788  0.000584  0.034608  0.185215  0.360610  0.098104  0.152225   \n",
      "                 \n",
      "                           11        12        13  ...        24        25        26        27  \\\n",
      "                 0   0.072216  0.102558  0.199230  ...  0.016717  0.149789  0.203100  0.010725   \n",
      "                 2   0.169981  0.217597  0.164550  ...  0.304898  0.073202  0.077911  0.123345   \n",
      "                 3   0.315877  0.149216  0.236604  ...  0.104632  0.236987  0.046910  0.000743   \n",
      "                 5   0.163933  0.307197  0.135206  ...  0.177576  0.041787  0.175433  0.068775   \n",
      "                 7   0.429146  0.355875  0.253740  ...  0.179928  0.133023  0.254130  0.072373   \n",
      "                 9   0.441505  0.406358  0.323813  ...  0.254785  0.043680  0.250947  0.072018   \n",
      "                 10  0.217968  0.619217  0.216747  ...  0.365821  0.131849  0.292281  0.197369   \n",
      "                 11  1.000000  0.241755  0.422930  ...  0.233369  0.076828  0.227890  0.061292   \n",
      "                 12  0.241755  1.000000  0.092755  ...  0.364645  0.197266  0.290095  0.146800   \n",
      "                 13  0.422930  0.092755  1.000000  ...  0.209360  0.070563  0.313597  0.066965   \n",
      "                 15  0.356078  0.183445  0.188398  ...  0.265366  0.179892  0.313300  0.219421   \n",
      "                 17  0.077798  0.015798  0.237243  ...  0.175657  0.415094  0.199799  0.289871   \n",
      "                 18  0.374571  0.570487  0.291325  ...  0.549837  0.173517  0.424692  0.205673   \n",
      "                 19  0.143439  0.220222  0.377866  ...  0.200276  0.397429  0.165945  0.272236   \n",
      "                 21  0.038893  0.288088  0.199325  ...  0.078714  0.396342  0.031281  0.407093   \n",
      "                 22  0.360763  0.530798  0.315493  ...  0.533583  0.051802  0.569176  0.207700   \n",
      "                 23  0.175459  0.169411  0.190690  ...  0.080108  0.352872  0.036682  0.376951   \n",
      "                 24  0.233369  0.364645  0.209360  ...  1.000000  0.077006  0.503526  0.176257   \n",
      "                 25  0.076828  0.197266  0.070563  ...  0.077006  1.000000  0.011314  0.432426   \n",
      "                 26  0.227890  0.290095  0.313597  ...  0.503526  0.011314  1.000000  0.058253   \n",
      "                 27  0.061292  0.146800  0.066965  ...  0.176257  0.432426  0.058253  1.000000   \n",
      "                 28  0.208294  0.277995  0.215050  ...  0.650908  0.113499  0.509070  0.042002   \n",
      "                 29  0.138842  0.094400  0.095677  ...  0.013639  0.281075  0.163412  0.385475   \n",
      "                 30  0.208855  0.355473  0.147949  ...  0.516121  0.162707  0.376400  0.008136   \n",
      "                 31  0.010276  0.041629  0.067790  ...  0.134478  0.340692  0.160318  0.500801   \n",
      "                 32  0.181166  0.473780  0.096091  ...  0.460692  0.085966  0.469326  0.124826   \n",
      "                 33  0.066584  0.065131  0.096444  ...  0.111086  0.221630  0.082969  0.376772   \n",
      "                 \n",
      "                           28        29        30        31        32        33  \n",
      "                 0   0.133632  0.121415  0.167031  0.100914  0.162962  0.010788  \n",
      "                 2   0.344459  0.057890  0.246653  0.009332  0.263343  0.000584  \n",
      "                 3   0.041090  0.342301  0.172276  0.122788  0.153964  0.034608  \n",
      "                 5   0.029392  0.158090  0.100240  0.316802  0.016899  0.185215  \n",
      "                 7   0.139725  0.078585  0.166682  0.152381  0.200860  0.360610  \n",
      "                 9   0.123296  0.008578  0.155661  0.015640  0.203629  0.098104  \n",
      "                 10  0.396851  0.074600  0.294646  0.023922  0.339506  0.152225  \n",
      "                 11  0.208294  0.138842  0.208855  0.010276  0.181166  0.066584  \n",
      "                 12  0.277995  0.094400  0.355473  0.041629  0.473780  0.065131  \n",
      "                 13  0.215050  0.095677  0.147949  0.067790  0.096091  0.096444  \n",
      "                 15  0.159639  0.146052  0.183578  0.101401  0.179906  0.241702  \n",
      "                 17  0.118047  0.067712  0.158096  0.256970  0.059076  0.054113  \n",
      "                 18  0.473187  0.085579  0.418580  0.124713  0.446093  0.001458  \n",
      "                 19  0.213057  0.396781  0.305049  0.125374  0.107816  0.188940  \n",
      "                 21  0.086614  0.323712  0.075714  0.207718  0.090417  0.132848  \n",
      "                 22  0.540443  0.165890  0.538973  0.160531  0.503426  0.049284  \n",
      "                 23  0.167937  0.364626  0.127822  0.084291  0.211597  0.094685  \n",
      "                 24  0.650908  0.013639  0.516121  0.134478  0.460692  0.111086  \n",
      "                 25  0.113499  0.281075  0.162707  0.340692  0.085966  0.221630  \n",
      "                 26  0.509070  0.163412  0.376400  0.160318  0.469326  0.082969  \n",
      "                 27  0.042002  0.385475  0.008136  0.500801  0.124826  0.376772  \n",
      "                 28  1.000000  0.011000  0.553855  0.055997  0.579684  0.082504  \n",
      "                 29  0.011000  1.000000  0.163586  0.297085  0.180566  0.391271  \n",
      "                 30  0.553855  0.163586  1.000000  0.028877  0.692408  0.037579  \n",
      "                 31  0.055997  0.297085  0.028877  1.000000  0.012998  0.514992  \n",
      "                 32  0.579684  0.180566  0.692408  0.012998  1.000000  0.131840  \n",
      "                 33  0.082504  0.391271  0.037579  0.514992  0.131840  1.000000  \n",
      "                 \n",
      "                 [27 rows x 27 columns]\n"
     ]
    }
   ],
   "source": [
    "df = pd.read_csv(\"ionosphere.data\", header=None)\n",
    "df.dropna(inplace = True)\n",
    "df = pd.get_dummies(df, drop_first = True)\n",
    "y1 = df['34_g'].to_numpy()\n",
    "X1 = df.drop('34_g', axis = 1)\n",
    "X1 = df.drop(1, axis = 1)\n",
    "X1 = calculate_vif_(X1, thresh=5)\n",
    "X1 = drop_correlated(X1).to_numpy()\n",
    "X1_train, X1_test, y1_train, y1_test = train_test_split(X1, y1, train_size = 0.8, random_state = RANDOM_STATE, stratify = y1)"
   ]
  },
  {
   "cell_type": "markdown",
   "metadata": {},
   "source": [
    "## Preparing the second data set (Coke data)"
   ]
  },
  {
   "cell_type": "code",
   "execution_count": 224,
   "metadata": {},
   "outputs": [],
   "source": [
    "df = pd.read_excel(\"coke-data.xls\")\n",
    "y2 = df.coke.to_numpy()\n",
    "X2 = df.drop(\"coke\", axis = 1)\n",
    "#X2 = calculate_vif_(X2, thresh = 10).to_numpy()\n",
    "X2_train, X2_test, y2_train, y2_test = train_test_split(X2, y2, train_size = 0.8, random_state = RANDOM_STATE, stratify = y2)"
   ]
  },
  {
   "cell_type": "markdown",
   "metadata": {},
   "source": [
    "## Preparing the third data set (Phone contract data)"
   ]
  },
  {
   "cell_type": "code",
   "execution_count": 226,
   "metadata": {},
   "outputs": [],
   "source": [
    "df = pd.read_excel(\"phoneContract-data.xlsx\")\n",
    "df.drop(\"lp\", axis = 1, inplace = True)\n",
    "y3 = df.y_1_0.to_numpy()\n",
    "X3 = df.drop(\"y_1_0\", axis = 1)\n",
    "#X3 = calculate_vif_(X3, thresh = 10).to_numpy()\n",
    "X3_train, X3_test, y3_train, y3_test = train_test_split(X3, y3, train_size = 0.8, random_state = RANDOM_STATE, stratify = y3)"
   ]
  },
  {
   "cell_type": "code",
   "execution_count": 227,
   "metadata": {},
   "outputs": [
    {
     "name": "stdout",
     "output_type": "stream",
     "text": [
      "dropping 2 at index: 0\n",
      "dropping 22 at index: 19\n",
      "dropping 4 at index: 1\n",
      "dropping 24 at index: 19\n",
      "dropping 11 at index: 7\n",
      "dropping 26 at index: 19\n",
      "dropping 23 at index: 17\n",
      "dropping 31 at index: 22\n",
      "dropping 30 at index: 21\n",
      "dropping 8 at index: 4\n",
      "dropping 12 at index: 6\n",
      "dropping 29 at index: 18\n",
      "dropping 6 at index: 2\n",
      "dropping 7 at index: 2\n",
      "dropping 5 at index: 1\n",
      "dropping 27 at index: 13\n",
      "dropping 14 at index: 4\n",
      "dropping 10 at index: 2\n",
      "dropping 3 at index: 0\n",
      "dropping 19 at index: 6\n",
      "dropping 17 at index: 4\n",
      "dropping 25 at index: 7\n",
      "dropping 9 at index: 0\n",
      "dropping 20 at index: 4\n",
      "dropping 21 at index: 4\n",
      "dropping 16 at index: 2\n",
      "Remaining variables:\n",
      "Int64Index([13, 15, 18, 28], dtype='int64')\n"
     ]
    }
   ],
   "source": [
    "Cancer = pd.read_csv(\"wdbc.data\", header=None)\n",
    "Cancer.iloc[:,1] = (Cancer[1] == \"M\").astype(int)\n",
    "Cancer = Cancer.drop(columns=[0])\n",
    "Y = Cancer[1].to_numpy()\n",
    "X = Cancer.loc[:,2:]\n",
    "X = calculate_vif_(X)\n",
    "X = X.to_numpy()\n",
    "X_normalized = (X - X.mean(0)) / X.std(0)\n",
    "X_train, X_test, Y_train, Y_test = train_test_split(X_normalized, Y)"
   ]
  },
  {
   "cell_type": "code",
   "execution_count": 228,
   "metadata": {},
   "outputs": [
    {
     "name": "stdout",
     "output_type": "stream",
     "text": [
      "dropping SepalLengthCm at index: 0\n",
      "dropping PetalLengthCm at index: 1\n",
      "Remaining variables:\n",
      "Index(['SepalWidthCm', 'PetalWidthCm'], dtype='object')\n"
     ]
    }
   ],
   "source": [
    "# add a dataset to test multiclass\n",
    "df = pd.read_csv(\"Iris.csv\")\n",
    "df.drop(\"Id\", axis = 1, inplace = True)\n",
    "X = calculate_vif_(df.drop(\"Species\", axis = 1, inplace = False)).to_numpy()\n",
    "y = pd.get_dummies(df.Species, drop_first = False).to_numpy()\n",
    "X_multi_train, X_multi_test, Y_multi_train, Y_multi_test = train_test_split(X, y, random_state=RANDOM_STATE)"
   ]
  },
  {
   "cell_type": "code",
   "execution_count": 229,
   "metadata": {},
   "outputs": [],
   "source": [
    "from sklearn.model_selection import train_test_split\n",
    "Cancer = pd.read_csv(\"wdbc.data\", header=None)\n",
    "Cancer.iloc[:,1] = (Cancer[1] == \"M\").astype(int)\n",
    "Cancer = Cancer.drop(columns=[0])"
   ]
  },
  {
   "cell_type": "code",
   "execution_count": null,
   "metadata": {},
   "outputs": [],
   "source": []
  },
  {
   "cell_type": "code",
   "execution_count": 230,
   "metadata": {},
   "outputs": [
    {
     "ename": "FileNotFoundError",
     "evalue": "[Errno 2] No such file or directory: '../Labs/lab2_logistic_regression/SAheart.data'",
     "output_type": "error",
     "traceback": [
      "\u001B[0;31m---------------------------------------------------------------------------\u001B[0m",
      "\u001B[0;31mFileNotFoundError\u001B[0m                         Traceback (most recent call last)",
      "\u001B[0;32m<ipython-input-230-b53f72ac2d0f>\u001B[0m in \u001B[0;36m<module>\u001B[0;34m\u001B[0m\n\u001B[1;32m      1\u001B[0m \u001B[0mpath\u001B[0m \u001B[0;34m=\u001B[0m \u001B[0mPath\u001B[0m\u001B[0;34m(\u001B[0m\u001B[0;34m\"../Labs/lab2_logistic_regression/SAheart.data\"\u001B[0m\u001B[0;34m)\u001B[0m\u001B[0;34m\u001B[0m\u001B[0;34m\u001B[0m\u001B[0m\n\u001B[0;32m----> 2\u001B[0;31m \u001B[0mdf\u001B[0m \u001B[0;34m=\u001B[0m \u001B[0mpd\u001B[0m\u001B[0;34m.\u001B[0m\u001B[0mread_csv\u001B[0m\u001B[0;34m(\u001B[0m\u001B[0mpath\u001B[0m\u001B[0;34m,\u001B[0m \u001B[0msep\u001B[0m \u001B[0;34m=\u001B[0m \u001B[0;34m\",\"\u001B[0m\u001B[0;34m)\u001B[0m\u001B[0;34m\u001B[0m\u001B[0;34m\u001B[0m\u001B[0m\n\u001B[0m\u001B[1;32m      3\u001B[0m \u001B[0mdf\u001B[0m \u001B[0;34m=\u001B[0m \u001B[0mdf\u001B[0m\u001B[0;34m.\u001B[0m\u001B[0mdrop\u001B[0m\u001B[0;34m(\u001B[0m\u001B[0;34m\"row.names\"\u001B[0m\u001B[0;34m,\u001B[0m \u001B[0maxis\u001B[0m \u001B[0;34m=\u001B[0m \u001B[0;36m1\u001B[0m\u001B[0;34m)\u001B[0m\u001B[0;34m\u001B[0m\u001B[0;34m\u001B[0m\u001B[0m\n\u001B[1;32m      4\u001B[0m \u001B[0mdf\u001B[0m\u001B[0;34m[\u001B[0m\u001B[0;34m\"famhist_present\"\u001B[0m\u001B[0;34m]\u001B[0m \u001B[0;34m=\u001B[0m \u001B[0mpd\u001B[0m\u001B[0;34m.\u001B[0m\u001B[0mget_dummies\u001B[0m\u001B[0;34m(\u001B[0m\u001B[0mdf\u001B[0m\u001B[0;34m.\u001B[0m\u001B[0mfamhist\u001B[0m\u001B[0;34m)\u001B[0m\u001B[0;34m[\u001B[0m\u001B[0;34m\"Present\"\u001B[0m\u001B[0;34m]\u001B[0m \u001B[0;31m# famhist can be: present | absent\u001B[0m\u001B[0;34m\u001B[0m\u001B[0;34m\u001B[0m\u001B[0m\n\u001B[1;32m      5\u001B[0m \u001B[0mdf\u001B[0m\u001B[0;34m.\u001B[0m\u001B[0mdrop\u001B[0m\u001B[0;34m(\u001B[0m\u001B[0;34m\"famhist\"\u001B[0m\u001B[0;34m,\u001B[0m \u001B[0maxis\u001B[0m \u001B[0;34m=\u001B[0m \u001B[0;36m1\u001B[0m\u001B[0;34m,\u001B[0m \u001B[0minplace\u001B[0m \u001B[0;34m=\u001B[0m \u001B[0;32mTrue\u001B[0m\u001B[0;34m)\u001B[0m\u001B[0;34m\u001B[0m\u001B[0;34m\u001B[0m\u001B[0m\n",
      "\u001B[0;32m~/miniconda3/lib/python3.7/site-packages/pandas/io/parsers.py\u001B[0m in \u001B[0;36mread_csv\u001B[0;34m(filepath_or_buffer, sep, delimiter, header, names, index_col, usecols, squeeze, prefix, mangle_dupe_cols, dtype, engine, converters, true_values, false_values, skipinitialspace, skiprows, skipfooter, nrows, na_values, keep_default_na, na_filter, verbose, skip_blank_lines, parse_dates, infer_datetime_format, keep_date_col, date_parser, dayfirst, cache_dates, iterator, chunksize, compression, thousands, decimal, lineterminator, quotechar, quoting, doublequote, escapechar, comment, encoding, dialect, error_bad_lines, warn_bad_lines, delim_whitespace, low_memory, memory_map, float_precision, storage_options)\u001B[0m\n\u001B[1;32m    603\u001B[0m     \u001B[0mkwds\u001B[0m\u001B[0;34m.\u001B[0m\u001B[0mupdate\u001B[0m\u001B[0;34m(\u001B[0m\u001B[0mkwds_defaults\u001B[0m\u001B[0;34m)\u001B[0m\u001B[0;34m\u001B[0m\u001B[0;34m\u001B[0m\u001B[0m\n\u001B[1;32m    604\u001B[0m \u001B[0;34m\u001B[0m\u001B[0m\n\u001B[0;32m--> 605\u001B[0;31m     \u001B[0;32mreturn\u001B[0m \u001B[0m_read\u001B[0m\u001B[0;34m(\u001B[0m\u001B[0mfilepath_or_buffer\u001B[0m\u001B[0;34m,\u001B[0m \u001B[0mkwds\u001B[0m\u001B[0;34m)\u001B[0m\u001B[0;34m\u001B[0m\u001B[0;34m\u001B[0m\u001B[0m\n\u001B[0m\u001B[1;32m    606\u001B[0m \u001B[0;34m\u001B[0m\u001B[0m\n\u001B[1;32m    607\u001B[0m \u001B[0;34m\u001B[0m\u001B[0m\n",
      "\u001B[0;32m~/miniconda3/lib/python3.7/site-packages/pandas/io/parsers.py\u001B[0m in \u001B[0;36m_read\u001B[0;34m(filepath_or_buffer, kwds)\u001B[0m\n\u001B[1;32m    455\u001B[0m \u001B[0;34m\u001B[0m\u001B[0m\n\u001B[1;32m    456\u001B[0m     \u001B[0;31m# Create the parser.\u001B[0m\u001B[0;34m\u001B[0m\u001B[0;34m\u001B[0m\u001B[0;34m\u001B[0m\u001B[0m\n\u001B[0;32m--> 457\u001B[0;31m     \u001B[0mparser\u001B[0m \u001B[0;34m=\u001B[0m \u001B[0mTextFileReader\u001B[0m\u001B[0;34m(\u001B[0m\u001B[0mfilepath_or_buffer\u001B[0m\u001B[0;34m,\u001B[0m \u001B[0;34m**\u001B[0m\u001B[0mkwds\u001B[0m\u001B[0;34m)\u001B[0m\u001B[0;34m\u001B[0m\u001B[0;34m\u001B[0m\u001B[0m\n\u001B[0m\u001B[1;32m    458\u001B[0m \u001B[0;34m\u001B[0m\u001B[0m\n\u001B[1;32m    459\u001B[0m     \u001B[0;32mif\u001B[0m \u001B[0mchunksize\u001B[0m \u001B[0;32mor\u001B[0m \u001B[0miterator\u001B[0m\u001B[0;34m:\u001B[0m\u001B[0;34m\u001B[0m\u001B[0;34m\u001B[0m\u001B[0m\n",
      "\u001B[0;32m~/miniconda3/lib/python3.7/site-packages/pandas/io/parsers.py\u001B[0m in \u001B[0;36m__init__\u001B[0;34m(self, f, engine, **kwds)\u001B[0m\n\u001B[1;32m    812\u001B[0m             \u001B[0mself\u001B[0m\u001B[0;34m.\u001B[0m\u001B[0moptions\u001B[0m\u001B[0;34m[\u001B[0m\u001B[0;34m\"has_index_names\"\u001B[0m\u001B[0;34m]\u001B[0m \u001B[0;34m=\u001B[0m \u001B[0mkwds\u001B[0m\u001B[0;34m[\u001B[0m\u001B[0;34m\"has_index_names\"\u001B[0m\u001B[0;34m]\u001B[0m\u001B[0;34m\u001B[0m\u001B[0;34m\u001B[0m\u001B[0m\n\u001B[1;32m    813\u001B[0m \u001B[0;34m\u001B[0m\u001B[0m\n\u001B[0;32m--> 814\u001B[0;31m         \u001B[0mself\u001B[0m\u001B[0;34m.\u001B[0m\u001B[0m_engine\u001B[0m \u001B[0;34m=\u001B[0m \u001B[0mself\u001B[0m\u001B[0;34m.\u001B[0m\u001B[0m_make_engine\u001B[0m\u001B[0;34m(\u001B[0m\u001B[0mself\u001B[0m\u001B[0;34m.\u001B[0m\u001B[0mengine\u001B[0m\u001B[0;34m)\u001B[0m\u001B[0;34m\u001B[0m\u001B[0;34m\u001B[0m\u001B[0m\n\u001B[0m\u001B[1;32m    815\u001B[0m \u001B[0;34m\u001B[0m\u001B[0m\n\u001B[1;32m    816\u001B[0m     \u001B[0;32mdef\u001B[0m \u001B[0mclose\u001B[0m\u001B[0;34m(\u001B[0m\u001B[0mself\u001B[0m\u001B[0;34m)\u001B[0m\u001B[0;34m:\u001B[0m\u001B[0;34m\u001B[0m\u001B[0;34m\u001B[0m\u001B[0m\n",
      "\u001B[0;32m~/miniconda3/lib/python3.7/site-packages/pandas/io/parsers.py\u001B[0m in \u001B[0;36m_make_engine\u001B[0;34m(self, engine)\u001B[0m\n\u001B[1;32m   1043\u001B[0m             )\n\u001B[1;32m   1044\u001B[0m         \u001B[0;31m# error: Too many arguments for \"ParserBase\"\u001B[0m\u001B[0;34m\u001B[0m\u001B[0;34m\u001B[0m\u001B[0;34m\u001B[0m\u001B[0m\n\u001B[0;32m-> 1045\u001B[0;31m         \u001B[0;32mreturn\u001B[0m \u001B[0mmapping\u001B[0m\u001B[0;34m[\u001B[0m\u001B[0mengine\u001B[0m\u001B[0;34m]\u001B[0m\u001B[0;34m(\u001B[0m\u001B[0mself\u001B[0m\u001B[0;34m.\u001B[0m\u001B[0mf\u001B[0m\u001B[0;34m,\u001B[0m \u001B[0;34m**\u001B[0m\u001B[0mself\u001B[0m\u001B[0;34m.\u001B[0m\u001B[0moptions\u001B[0m\u001B[0;34m)\u001B[0m  \u001B[0;31m# type: ignore[call-arg]\u001B[0m\u001B[0;34m\u001B[0m\u001B[0;34m\u001B[0m\u001B[0m\n\u001B[0m\u001B[1;32m   1046\u001B[0m \u001B[0;34m\u001B[0m\u001B[0m\n\u001B[1;32m   1047\u001B[0m     \u001B[0;32mdef\u001B[0m \u001B[0m_failover_to_python\u001B[0m\u001B[0;34m(\u001B[0m\u001B[0mself\u001B[0m\u001B[0;34m)\u001B[0m\u001B[0;34m:\u001B[0m\u001B[0;34m\u001B[0m\u001B[0;34m\u001B[0m\u001B[0m\n",
      "\u001B[0;32m~/miniconda3/lib/python3.7/site-packages/pandas/io/parsers.py\u001B[0m in \u001B[0;36m__init__\u001B[0;34m(self, src, **kwds)\u001B[0m\n\u001B[1;32m   1860\u001B[0m \u001B[0;34m\u001B[0m\u001B[0m\n\u001B[1;32m   1861\u001B[0m         \u001B[0;31m# open handles\u001B[0m\u001B[0;34m\u001B[0m\u001B[0;34m\u001B[0m\u001B[0;34m\u001B[0m\u001B[0m\n\u001B[0;32m-> 1862\u001B[0;31m         \u001B[0mself\u001B[0m\u001B[0;34m.\u001B[0m\u001B[0m_open_handles\u001B[0m\u001B[0;34m(\u001B[0m\u001B[0msrc\u001B[0m\u001B[0;34m,\u001B[0m \u001B[0mkwds\u001B[0m\u001B[0;34m)\u001B[0m\u001B[0;34m\u001B[0m\u001B[0;34m\u001B[0m\u001B[0m\n\u001B[0m\u001B[1;32m   1863\u001B[0m         \u001B[0;32massert\u001B[0m \u001B[0mself\u001B[0m\u001B[0;34m.\u001B[0m\u001B[0mhandles\u001B[0m \u001B[0;32mis\u001B[0m \u001B[0;32mnot\u001B[0m \u001B[0;32mNone\u001B[0m\u001B[0;34m\u001B[0m\u001B[0;34m\u001B[0m\u001B[0m\n\u001B[1;32m   1864\u001B[0m         \u001B[0;32mfor\u001B[0m \u001B[0mkey\u001B[0m \u001B[0;32min\u001B[0m \u001B[0;34m(\u001B[0m\u001B[0;34m\"storage_options\"\u001B[0m\u001B[0;34m,\u001B[0m \u001B[0;34m\"encoding\"\u001B[0m\u001B[0;34m,\u001B[0m \u001B[0;34m\"memory_map\"\u001B[0m\u001B[0;34m,\u001B[0m \u001B[0;34m\"compression\"\u001B[0m\u001B[0;34m)\u001B[0m\u001B[0;34m:\u001B[0m\u001B[0;34m\u001B[0m\u001B[0;34m\u001B[0m\u001B[0m\n",
      "\u001B[0;32m~/miniconda3/lib/python3.7/site-packages/pandas/io/parsers.py\u001B[0m in \u001B[0;36m_open_handles\u001B[0;34m(self, src, kwds)\u001B[0m\n\u001B[1;32m   1361\u001B[0m             \u001B[0mcompression\u001B[0m\u001B[0;34m=\u001B[0m\u001B[0mkwds\u001B[0m\u001B[0;34m.\u001B[0m\u001B[0mget\u001B[0m\u001B[0;34m(\u001B[0m\u001B[0;34m\"compression\"\u001B[0m\u001B[0;34m,\u001B[0m \u001B[0;32mNone\u001B[0m\u001B[0;34m)\u001B[0m\u001B[0;34m,\u001B[0m\u001B[0;34m\u001B[0m\u001B[0;34m\u001B[0m\u001B[0m\n\u001B[1;32m   1362\u001B[0m             \u001B[0mmemory_map\u001B[0m\u001B[0;34m=\u001B[0m\u001B[0mkwds\u001B[0m\u001B[0;34m.\u001B[0m\u001B[0mget\u001B[0m\u001B[0;34m(\u001B[0m\u001B[0;34m\"memory_map\"\u001B[0m\u001B[0;34m,\u001B[0m \u001B[0;32mFalse\u001B[0m\u001B[0;34m)\u001B[0m\u001B[0;34m,\u001B[0m\u001B[0;34m\u001B[0m\u001B[0;34m\u001B[0m\u001B[0m\n\u001B[0;32m-> 1363\u001B[0;31m             \u001B[0mstorage_options\u001B[0m\u001B[0;34m=\u001B[0m\u001B[0mkwds\u001B[0m\u001B[0;34m.\u001B[0m\u001B[0mget\u001B[0m\u001B[0;34m(\u001B[0m\u001B[0;34m\"storage_options\"\u001B[0m\u001B[0;34m,\u001B[0m \u001B[0;32mNone\u001B[0m\u001B[0;34m)\u001B[0m\u001B[0;34m,\u001B[0m\u001B[0;34m\u001B[0m\u001B[0;34m\u001B[0m\u001B[0m\n\u001B[0m\u001B[1;32m   1364\u001B[0m         )\n\u001B[1;32m   1365\u001B[0m \u001B[0;34m\u001B[0m\u001B[0m\n",
      "\u001B[0;32m~/miniconda3/lib/python3.7/site-packages/pandas/io/common.py\u001B[0m in \u001B[0;36mget_handle\u001B[0;34m(path_or_buf, mode, encoding, compression, memory_map, is_text, errors, storage_options)\u001B[0m\n\u001B[1;32m    645\u001B[0m                 \u001B[0mencoding\u001B[0m\u001B[0;34m=\u001B[0m\u001B[0mioargs\u001B[0m\u001B[0;34m.\u001B[0m\u001B[0mencoding\u001B[0m\u001B[0;34m,\u001B[0m\u001B[0;34m\u001B[0m\u001B[0;34m\u001B[0m\u001B[0m\n\u001B[1;32m    646\u001B[0m                 \u001B[0merrors\u001B[0m\u001B[0;34m=\u001B[0m\u001B[0merrors\u001B[0m\u001B[0;34m,\u001B[0m\u001B[0;34m\u001B[0m\u001B[0;34m\u001B[0m\u001B[0m\n\u001B[0;32m--> 647\u001B[0;31m                 \u001B[0mnewline\u001B[0m\u001B[0;34m=\u001B[0m\u001B[0;34m\"\"\u001B[0m\u001B[0;34m,\u001B[0m\u001B[0;34m\u001B[0m\u001B[0;34m\u001B[0m\u001B[0m\n\u001B[0m\u001B[1;32m    648\u001B[0m             )\n\u001B[1;32m    649\u001B[0m         \u001B[0;32melse\u001B[0m\u001B[0;34m:\u001B[0m\u001B[0;34m\u001B[0m\u001B[0;34m\u001B[0m\u001B[0m\n",
      "\u001B[0;31mFileNotFoundError\u001B[0m: [Errno 2] No such file or directory: '../Labs/lab2_logistic_regression/SAheart.data'"
     ]
    }
   ],
   "source": [
    "path = Path(\"../Labs/lab2_logistic_regression/SAheart.data\")\n",
    "df = pd.read_csv(path, sep = \",\")\n",
    "df = df.drop(\"row.names\", axis = 1)\n",
    "df[\"famhist_present\"] = pd.get_dummies(df.famhist)[\"Present\"] # famhist can be: present | absent\n",
    "df.drop(\"famhist\", axis = 1, inplace = True)\n",
    "\n",
    "X = df.drop(\"chd\", axis = 1, inplace=False).to_numpy()\n",
    "y = df.chd.to_numpy()"
   ]
  },
  {
   "cell_type": "code",
   "execution_count": null,
   "metadata": {},
   "outputs": [],
   "source": []
  },
  {
   "cell_type": "code",
   "execution_count": 3,
   "metadata": {},
   "outputs": [],
   "source": [
    "df = pd.read_csv(\"data.simple.test.10000.csv\")\n",
    "df[\"predict\"] = pd.get_dummies(df.cls, drop_first = True)\n",
    "df.drop(\"cls\", axis = 1, inplace = True)\n",
    "\n",
    "X = df.drop(\"predict\", axis = 1, inplace = False).to_numpy()\n",
    "y = df.predict.to_numpy()"
   ]
  },
  {
   "cell_type": "code",
   "execution_count": 74,
   "metadata": {},
   "outputs": [],
   "source": [
    "#multiclass\n",
    "df = pd.read_csv(\"Iris.csv\")\n",
    "df.drop(\"Id\", axis = 1, inplace = True)\n",
    "X = df.drop(\"Species\", axis = 1, inplace = False).to_numpy()\n",
    "y = pd.get_dummies(df.Species, drop_first = False).to_numpy()\n"
   ]
  },
  {
   "cell_type": "code",
   "execution_count": 183,
   "metadata": {},
   "outputs": [],
   "source": [
    "a = np.random.normal(loc = 5, size = (4,1))\n",
    "X = np.random.normal(size = (4,4))"
   ]
  },
  {
   "cell_type": "code",
   "execution_count": 198,
   "metadata": {},
   "outputs": [
    {
     "data": {
      "text/plain": [
       "array([[ -4.04974479,  -4.18799392,  -3.29439688,   6.8390388 ],\n",
       "       [  1.0370668 ,   1.07695354,   1.70801861,  -9.02168428],\n",
       "       [ -8.23941684,   1.76495676,   2.76678308,  -2.66326346],\n",
       "       [-15.97538503,  -3.11095196,  -7.4652715 ,   1.45880529]])"
      ]
     },
     "execution_count": 198,
     "metadata": {},
     "output_type": "execute_result"
    }
   ],
   "source": [
    "a * X"
   ]
  },
  {
   "cell_type": "code",
   "execution_count": 186,
   "metadata": {},
   "outputs": [
    {
     "data": {
      "text/plain": [
       "array([[5.41000668],\n",
       "       [5.17813934],\n",
       "       [6.18265834],\n",
       "       [5.79558743]])"
      ]
     },
     "execution_count": 186,
     "metadata": {},
     "output_type": "execute_result"
    }
   ],
   "source": [
    "a"
   ]
  },
  {
   "cell_type": "code",
   "execution_count": null,
   "metadata": {},
   "outputs": [],
   "source": []
  },
  {
   "cell_type": "code",
   "execution_count": 75,
   "metadata": {},
   "outputs": [],
   "source": [
    "df = make_classification(n_samples=100, n_features=20, n_informative = 2,\n",
    "                         n_redundant = 1 , n_repeated=0, n_classes=2, n_clusters_per_class = 2)\n",
    "X = df[0]\n",
    "y = df[1]"
   ]
  },
  {
   "cell_type": "code",
   "execution_count": 390,
   "metadata": {},
   "outputs": [],
   "source": [
    "from scipy.special import expit\n",
    "\n",
    "\n",
    "class logit():\n",
    "    def __init__(self, exog, endog, add_intercept = True):\n",
    "        if len(endog.shape) > 1:\n",
    "            self.y = endog # T x 1\n",
    "        elif len(endog.shape) == 1:\n",
    "            self.y = endog.reshape(-1,1)\n",
    "        if add_intercept == True:\n",
    "            self.X = np.concatenate((np.ones(shape = (exog.shape[0], 1)), exog), axis = 1) # T x k\n",
    "        elif add_intercept == False:\n",
    "            self.X = exog\n",
    "        #self.b = np.linalg.inv(self.X.T @ self.X) @ self.X.T @ self.y # k x 1, initialized with LS estimator\n",
    "        if self.y.shape[1] == 1:\n",
    "            self.b = np.random.normal(size = (self.X.shape[1],1))\n",
    "            self.multiclass = 0\n",
    "        elif self.y.shape[1] > 1:# b - k x J (where J - number or classes)\n",
    "            self.b = np.random.normal(size = (self.X.shape[1], self.y.shape[1]))\n",
    "            self.multiclass = 1\n",
    "            \n",
    "\n",
    "    \n",
    "    def sigmoid(x): # returns output with the same dimensions as x \n",
    "        return 1 / (1 + np.exp(-x))\n",
    "    \n",
    "    def cross_entrophy(y_true, y_pred): #returns a scalar value\n",
    "        # epsilon = 1e-5 ? why?\n",
    "        return -np.sum(y_true * np.log(y_pred, out=np.zeros_like(y_pred), where=(y_pred!=0)) + (1 - y_true) * np.log(1 - y_pred, out=np.zeros_like(1-y_pred), where=(1-y_pred!=0)))\n",
    "    \n",
    "    def cross_entrophy_der(X, y, b): # returns X.shape[0] x k vector \n",
    "        p_hat = logit.sigmoid(X @ b) # T x 1\n",
    "        return X * (p_hat - y)  # X.shape[0] x k\n",
    "    \"\"\"\n",
    "    def softmax(X, b):\n",
    "        return np.exp(X @ b) / np.sum(np.exp(X @ b))\n",
    "    \"\"\"\n",
    "    def softmax(x):\n",
    "        # Compute softmax values for each sets of scores in x.\n",
    "        e_x = np.exp(x - np.max(x))\n",
    "        return e_x / e_x.sum(axis = 0)\n",
    "    \n",
    "    def loglikelihood_multiclass(X, y, b):\n",
    "        # X - T x k\n",
    "        # y - T x J\n",
    "        # b - k x J\n",
    "        return np.sum(((X @ b) * y)[:,:-1]) - np.sum(np.log(1 + np.sum(np.exp(X @ b[:,:-1]), axis = 1)))\n",
    "                                                   \n",
    "    def loglikelihood_multiclass_der(X, y, b):\n",
    "        # X - T x k\n",
    "        # y - T x J\n",
    "        # b - k x J\n",
    "        return X.T @ (y - logit.softmax(X @ b))[:,:-1]\n",
    "    \n",
    "    def predict_proba(self, X): # returns X.shape[0] x 1 vector\n",
    "        if self.multiclass == 1:\n",
    "            return logit.softmax(X @ self.b)\n",
    "        else:\n",
    "            return logit.sigmoid(X @ self.b)\n",
    "        \n",
    "    def predict_y(self, X, threshold = 0.5): # returns X.shape[0] x 1 vector\n",
    "        p_hat = 1 / (1 + np.exp( - X @ self.b))\n",
    "        if self.multiclass==0:\n",
    "            return np.array([1 if i[0] > threshold else 0 for i in p_hat]).reshape(-1,1)\n",
    "        else:\n",
    "            results = np.zeros(shape=p_hat.shape)\n",
    "            for i in range(0, len(p_hat)):\n",
    "                results[i][np.argmax(p_hat[i])] = 1\n",
    "            return results\n",
    "    \n",
    "    \n",
    "    def accuracy(self, X, y):\n",
    "        y_hat = logit.predict_y(self, X)\n",
    "        truths = y_hat == y\n",
    "        ts = [np.prod(t) for t in truths]\n",
    "        correct_num = np.sum(ts)\n",
    "        return correct_num / X.shape[0]\n",
    "\n",
    "    def recall(self, X, y):\n",
    "        y_hat = logit.predict_y(self, X)\n",
    "        if not self.multiclass:\n",
    "            same = y[y_hat == y]\n",
    "            true_positives = np.sum(same[same == 1])\n",
    "            different = y[y_hat != y]\n",
    "            false_negatives = np.sum(different[different == 1])\n",
    "        else:\n",
    "            true_positives = 0\n",
    "            false_negatives = 0\n",
    "            truths = y_hat == y\n",
    "            ts = [np.prod(t) for t in truths]\n",
    "            same = y[ts]\n",
    "            fs = [not np.prod(t) for t in truths]\n",
    "            different = y[fs]\n",
    "            for i in range(0, self.y.shape[1]):\n",
    "                mask = np.zeros(shape=(self.y.shape[1]))\n",
    "                mask[i] = 1\n",
    "                true_positives += np.sum(same[same == mask])\n",
    "                false_negatives += np.sum(different[different == mask])\n",
    "        return true_positives/(false_negatives+true_positives)\n",
    "    \n",
    "    def precision(self, X, y):\n",
    "        y_hat = logit.predict_y(self, X)\n",
    "        if not self.multiclass:\n",
    "            same = y[y_hat == y]\n",
    "            true_positives = np.sum(same[same == 1])\n",
    "            different = y_hat[y_hat != y]\n",
    "            false_positives = np.sum(different[different == 1])\n",
    "        else:\n",
    "            true_positives = 0\n",
    "            false_positives = 0\n",
    "            truths = y_hat == y\n",
    "            ts = [np.prod(t) for t in truths]\n",
    "            same = y[ts]\n",
    "            fs = [not np.prod(t) for t in truths]\n",
    "            different = y_hat[fs]\n",
    "            for i in range(0, self.y.shape[1]):\n",
    "                mask = np.zeros(shape=(self.y.shape[1]))\n",
    "                mask[i] = 1\n",
    "                true_positives += np.sum(same[same == mask])\n",
    "                false_positives += np.sum(different[different == mask])\n",
    "        return true_positives/(false_positives+true_positives)\n",
    "    \n",
    "    def f_measure(self, X, y):\n",
    "        precision = self.precision(X, y)\n",
    "        recall = self.recall(X, y)\n",
    "        return 2 * ( precision * recall) / (precision + recall)\n",
    "    \n",
    "    def r2(self, y):\n",
    "        p_hat = logit.sigmoid(self.X @ self.b)\n",
    "        lnL1 = logit.cross_entrophy(self.y, p_hat)\n",
    "        y_hat = np.mean(y)\n",
    "        lnL2 = y_hat * np.log(y_hat) + (1 - y_hat) * np.log(1 - y_hat)\n",
    "        return 1-lnL1/lnL2\n",
    "    \n",
    "    \n",
    "    def fit(self, stop_condition = 0.001, lr = 0.001, method = \"GD\", verbose = False,\n",
    "           max_iter = 300):\n",
    "        # list with losses obtained when running the learing process\n",
    "        loss = []\n",
    "        betas = []\n",
    "        # p - vector of probabilities, shape T x 1\n",
    "        p = logit.sigmoid(self.X @ self.b)\n",
    "        loss.append(logit.cross_entrophy(self.y, p))\n",
    "        betas.append(self.b)\n",
    "        # condtion (when satisfied algorithm will stop)\n",
    "        cond = 1\n",
    "        # iteration counter\n",
    "        i = 1\n",
    "        \n",
    "        \n",
    "        while cond > stop_condition and i < max_iter:\n",
    "            \n",
    "            if method == \"GD\":\n",
    "                if self.multiclass == 1:\n",
    "                    gradient = logit.loglikelihood_multiclass_der(self.X, self.y, self.b) / X.shape[0]\n",
    "                    print(gradient.shape, self.y.shape)\n",
    "                    gradient = np.append(gradient, np.zeros(shape = (gradient.shape[0],1)), axis = 1)  \n",
    "                else:\n",
    "                    gradient = np.mean(logit.cross_entrophy_der(self.X, self.y, self.b), axis = 0).reshape(-1,1)\n",
    "                    \n",
    "                # updating weights\n",
    "                beta_old = self.b\n",
    "                self.b = beta_old - lr * gradient\n",
    "                betas.append(self.b)\n",
    "                \n",
    "                # update the value of condition\n",
    "                cond = np.max(np.abs((beta_old - self.b) / beta_old))\n",
    "                #print(cond)\n",
    "\n",
    "                # loss function after one iteration\n",
    "                p = logit.predict_proba(self, self.X)\n",
    "                if self.multiclass == 1:\n",
    "                    loss.append(logit.loglikelihood_multiclass(self.X, self.y, self.b))\n",
    "                else:\n",
    "                    loss.append(logit.cross_entrophy(self.y, p))\n",
    "                    \n",
    "            \n",
    "            elif method == \"SGD\":\n",
    "                for j in range(self.X.shape[0]):\n",
    "                    gradient = logit.cross_entrophy_der(self.X[j,:].reshape(1,-1), self.y[j,:], self.b).reshape(-1,1)\n",
    "                    beta_old = self.b\n",
    "                    self.b = beta_old - lr * gradient\n",
    "                    cond = np.max(np.abs((beta_old - self.b) / beta_old))\n",
    "                    \n",
    "                    # loss function after one calculation\n",
    "                    betas.append(self.b)       \n",
    "                    p = logit.sigmoid(self.X @ self.b)\n",
    "                    loss.append(logit.cross_entrophy(self.y, p))\n",
    "                    \n",
    "                    if cond < stop_condition:\n",
    "                        print(\"Breaking\")\n",
    "                        break\n",
    "                print(cond)\n",
    "                    \n",
    "                    \n",
    "\n",
    "            elif method == \"IRLS\":                       \n",
    "                p = logit.sigmoid(self.X @ self.b).reshape(-1,1)\n",
    "                # diagonal T x T matrix with values \"p_i * (1-p_i)\" on the diagonal\n",
    "                W = np.diag(np.diag(p @ (1 - p).T)) + 1e-6\n",
    "                # T x 1 wector of transformed response variable\n",
    "                z = self.X @ self.b + np.linalg.inv(W) @ (self.y - p)\n",
    "                \n",
    "                # updating beta \n",
    "                beta_old = self.b\n",
    "                self.b = np.linalg.inv(self.X.T @ W @ self.X) @ self.X.T @ W @ z\n",
    "                betas.append(self.b)\n",
    "                # updating condition\n",
    "                cond = np.max(np.abs((beta_old - self.b) / beta_old))\n",
    "                # loss function after one iteration\n",
    "                p = logit.predict_proba(self, self.X)\n",
    "                loss.append(logit.cross_entrophy(self.y, p))\n",
    "                \n",
    "            elif method == \"IRLS2\":\n",
    "                p = logit.sigmoid(self.X @ self.b).reshape(-1,1)\n",
    "                W = p * (1 - p) + 1e-6# vector\n",
    " \n",
    "                # T x 1 wector of transformed response variable\n",
    "                z = self.X @ self.b + (1 / W) * (self.y - p)\n",
    "                X_temp = W * self.X\n",
    "                # updating beta \n",
    "                beta_old = self.b\n",
    "                self.b = np.linalg.inv(self.X.T @ X_temp) @ X_temp.T @ z\n",
    "                betas.append(self.b)\n",
    "                # updating condition\n",
    "                cond = np.max(np.abs((beta_old - self.b) / beta_old))\n",
    "                # loss function after one iteration\n",
    "                p = logit.predict_proba(self, self.X)\n",
    "                loss.append(logit.cross_entrophy(self.y, p))\n",
    "                \n",
    "            elif method == \"IRLS3\":\n",
    "                p = logit.sigmoid(self.X @ self.b).reshape(-1,1)\n",
    "                W = p * (1 - p)# vector\n",
    "                X_temp = W * self.X\n",
    "                beta_old = self.b\n",
    "                self.b = self.b + np.linalg.inv(self.X.T @ X_temp) @ self.X.T @ (self.y - p)\n",
    "                betas.append(self.b)\n",
    "                # updating condition\n",
    "                cond = np.max(np.abs((beta_old - self.b) / beta_old))\n",
    "                # loss function after one iteration\n",
    "                p = logit.predict_proba(self, self.X)\n",
    "                loss.append(logit.cross_entrophy(self.y, p))\n",
    "                \n",
    "                \n",
    "                \n",
    "            if verbose == True:\n",
    "                print(\"iteration\", i, \"loss function value =\", loss[-1])\n",
    "                \n",
    "            i+=1\n",
    "            \n",
    "\n",
    "        #print(cond)\n",
    "        return loss, betas\n",
    "    "
   ]
  },
  {
   "cell_type": "code",
   "execution_count": 391,
   "metadata": {},
   "outputs": [
    {
     "name": "stdout",
     "output_type": "stream",
     "text": [
      "iteration 1 loss function value = 15240.46140053981\n",
      "iteration 2 loss function value = 15085.83527232244\n",
      "iteration 3 loss function value = 14931.209841531538\n",
      "iteration 4 loss function value = 14776.5851132746\n",
      "iteration 5 loss function value = 14621.961093095357\n",
      "iteration 6 loss function value = 14467.337787012144\n",
      "iteration 7 loss function value = 14312.715201560057\n",
      "iteration 8 loss function value = 14158.093343837394\n",
      "iteration 9 loss function value = 14003.472221556849\n",
      "iteration 10 loss function value = 13848.851843101997\n",
      "iteration 11 loss function value = 13694.232217589686\n",
      "iteration 12 loss function value = 13539.61335493904\n",
      "iteration 13 loss function value = 13384.995265947833\n",
      "iteration 14 loss function value = 13230.37796237713\n",
      "iteration 15 loss function value = 13075.761457045173\n",
      "iteration 16 loss function value = 12921.145763931667\n",
      "iteration 17 loss function value = 12766.53089829368\n",
      "iteration 18 loss function value = 12611.916876794661\n",
      "iteration 19 loss function value = 12457.303717648165\n",
      "iteration 20 loss function value = 12302.691440778148\n",
      "iteration 21 loss function value = 12148.080067997927\n",
      "iteration 22 loss function value = 11993.469623210225\n",
      "iteration 23 loss function value = 11838.860132630936\n",
      "iteration 24 loss function value = 11684.251625039826\n",
      "iteration 25 loss function value = 11529.644132061538\n",
      "iteration 26 loss function value = 11375.037688481074\n",
      "iteration 27 loss function value = 11220.432332598208\n",
      "iteration 28 loss function value = 11065.828106626152\n",
      "iteration 29 loss function value = 10911.225057140404\n",
      "iteration 30 loss function value = 10756.623235584673\n",
      "iteration 31 loss function value = 10602.022698841733\n",
      "iteration 32 loss function value = 10447.423509878141\n",
      "iteration 33 loss function value = 10292.825738473279\n",
      "iteration 34 loss function value = 10138.229462044485\n",
      "iteration 35 loss function value = 9983.63476658202\n",
      "iteration 36 loss function value = 9829.04174770959\n",
      "iteration 37 loss function value = 9674.450511888603\n",
      "iteration 38 loss function value = 9519.861177787134\n",
      "iteration 39 loss function value = 9365.273877837924\n",
      "iteration 40 loss function value = 9210.68876001347\n",
      "iteration 41 loss function value = 9056.105989850968\n",
      "iteration 42 loss function value = 8901.525752765017\n",
      "iteration 43 loss function value = 8746.948256692429\n",
      "iteration 44 loss function value = 8592.373735120962\n",
      "iteration 45 loss function value = 8437.802450562584\n",
      "iteration 46 loss function value = 8283.234698542781\n",
      "iteration 47 loss function value = 8128.67081219014\n",
      "iteration 48 loss function value = 7974.111167526197\n",
      "iteration 49 loss function value = 7819.556189574641\n",
      "iteration 50 loss function value = 7665.006359432517\n",
      "iteration 51 loss function value = 7510.4622224754075\n",
      "iteration 52 loss function value = 7355.924397905179\n",
      "iteration 53 loss function value = 7201.393589895262\n",
      "iteration 54 loss function value = 7046.870600647471\n",
      "iteration 55 loss function value = 6892.356345750254\n",
      "iteration 56 loss function value = 6737.851872326612\n",
      "iteration 57 loss function value = 6583.358380588119\n",
      "iteration 58 loss function value = 6428.877249579984\n",
      "iteration 59 loss function value = 6274.410068124364\n",
      "iteration 60 loss function value = 6119.95867226414\n",
      "iteration 61 loss function value = 5965.525190901907\n",
      "iteration 62 loss function value = 5811.112101853092\n",
      "iteration 63 loss function value = 5656.722301233191\n",
      "iteration 64 loss function value = 5502.359190038719\n",
      "iteration 65 loss function value = 5348.026783042003\n",
      "iteration 66 loss function value = 5193.7298468134795\n",
      "iteration 67 loss function value = 5039.474075962962\n",
      "iteration 68 loss function value = 4885.266319759942\n",
      "iteration 69 loss function value = 4731.114875434123\n",
      "iteration 70 loss function value = 4577.02987005754\n",
      "iteration 71 loss function value = 4423.023760498887\n",
      "iteration 72 loss function value = 4269.111991245196\n",
      "iteration 73 loss function value = 4115.313863894667\n",
      "iteration 74 loss function value = 3961.6536911682497\n",
      "iteration 75 loss function value = 3808.1623341240384\n",
      "iteration 76 loss function value = 3654.879256133338\n",
      "iteration 77 loss function value = 3501.8552738032845\n",
      "iteration 78 loss function value = 3349.1562463412424\n",
      "iteration 79 loss function value = 3196.8680232388274\n",
      "iteration 80 loss function value = 3045.103065573663\n",
      "iteration 81 loss function value = 2894.009262166976\n",
      "iteration 82 loss function value = 2743.7815573866847\n",
      "iteration 83 loss function value = 2594.677043755991\n",
      "iteration 84 loss function value = 2447.0340544382343\n",
      "iteration 85 loss function value = 2301.29536048737\n",
      "iteration 86 loss function value = 2158.0346216974376\n",
      "iteration 87 loss function value = 2017.9835343424807\n",
      "iteration 88 loss function value = 1882.054498090688\n",
      "iteration 89 loss function value = 1751.350056984953\n",
      "iteration 90 loss function value = 1627.146327450468\n",
      "iteration 91 loss function value = 1510.835275962919\n",
      "iteration 92 loss function value = 1403.8150442982785\n",
      "iteration 93 loss function value = 1307.3337115649883\n",
      "iteration 94 loss function value = 1222.3168768221424\n",
      "iteration 95 loss function value = 1149.2256851203258\n",
      "iteration 96 loss function value = 1087.977547660431\n",
      "iteration 97 loss function value = 1037.9261526276937\n",
      "iteration 98 loss function value = 997.9056136937876\n",
      "iteration 99 loss function value = 966.3941275056603\n",
      "iteration 100 loss function value = 941.7843013272394\n",
      "iteration 101 loss function value = 922.6163111865703\n",
      "iteration 102 loss function value = 907.6799988814182\n",
      "iteration 103 loss function value = 896.0169957120828\n",
      "iteration 104 loss function value = 886.8832335848333\n",
      "iteration 105 loss function value = 879.7054577405036\n",
      "iteration 106 loss function value = 874.0430787392738\n",
      "iteration 107 loss function value = 869.5574653214708\n",
      "iteration 108 loss function value = 865.9880143556411\n",
      "iteration 109 loss function value = 863.1337618822613\n",
      "iteration 110 loss function value = 860.8393465002553\n",
      "iteration 111 loss function value = 858.9843280407774\n",
      "iteration 112 loss function value = 857.475066933692\n",
      "iteration 113 loss function value = 856.2385469123534\n",
      "iteration 114 loss function value = 855.2176684573711\n",
      "iteration 115 loss function value = 854.3676544483874\n",
      "iteration 116 loss function value = 853.6532974590257\n",
      "iteration 117 loss function value = 853.0468450425406\n",
      "iteration 118 loss function value = 852.5263698181675\n",
      "iteration 119 loss function value = 852.0745090357921\n",
      "iteration 120 loss function value = 851.6774866455702\n",
      "iteration 121 loss function value = 851.3243521121735\n",
      "iteration 122 loss function value = 851.0063861011779\n",
      "iteration 123 loss function value = 850.7166350873204\n",
      "iteration 124 loss function value = 850.4495459042093\n",
      "iteration 125 loss function value = 850.2006780246778\n",
      "iteration 126 loss function value = 849.9664764875685\n",
      "iteration 127 loss function value = 849.7440922831595\n",
      "iteration 128 loss function value = 849.5312399818961\n",
      "iteration 129 loss function value = 849.3260846671571\n",
      "iteration 130 loss function value = 849.1271519820602\n",
      "iteration 131 loss function value = 848.9332564495755\n",
      "iteration 132 loss function value = 848.7434442696019\n",
      "iteration 133 loss function value = 848.5569476077621\n",
      "iteration 134 loss function value = 848.3731480226295\n",
      "iteration 135 loss function value = 848.1915471719717\n",
      "iteration 136 loss function value = 848.0117433256705\n",
      "iteration 137 loss function value = 847.8334125171555\n",
      "iteration 138 loss function value = 847.6562934048345\n",
      "iteration 139 loss function value = 847.4801751042538\n",
      "GD accuracy: 0.5700846660395108\n",
      "GD recall: 0.632375189107413\n",
      "GD precision: 0.6613924050632911\n",
      "GD F measure: 0.6465583913379737\n"
     ]
    }
   ],
   "source": [
    "#np.seterr(divide='ignore', invalid='ignore')\n",
    "model1 = logit(X1_train, y1_train ,add_intercept = True)\n",
    "loss1, betas1 = model1.fit(method = \"GD\", verbose = True, max_iter = 140, lr = 0.001, stop_condition = 0.00001 )\n",
    "print(\"GD accuracy:\", model1.accuracy(model1.X, model1.y))\n",
    "print(\"GD recall:\", model1.recall(model1.X, model1.y))\n",
    "print(\"GD precision:\", model1.precision(model1.X, model1.y))\n",
    "print(\"GD F measure:\", model1.f_measure(model1.X, model1.y))\n",
    "#print(betas1[-1])"
   ]
  },
  {
   "cell_type": "code",
   "execution_count": 393,
   "metadata": {},
   "outputs": [
    {
     "data": {
      "text/plain": [
       "[<matplotlib.lines.Line2D at 0x7fbce413cd68>]"
      ]
     },
     "execution_count": 393,
     "metadata": {},
     "output_type": "execute_result"
    },
    {
     "data": {
      "image/png": "[encoded data removed]",
      "text/plain": [
       "<Figure size 432x288 with 1 Axes>"
      ]
     },
     "metadata": {
      "needs_background": "light"
     },
     "output_type": "display_data"
    }
   ],
   "source": [
    "plt.plot(loss1)"
   ]
  },
  {
   "cell_type": "code",
   "execution_count": 367,
   "metadata": {},
   "outputs": [
    {
     "name": "stdout",
     "output_type": "stream",
     "text": [
      "Breaking\n",
      "0.0\n",
      "iteration 1 loss function value = 19720.32886478088\n",
      "SGD accuracy: 0.3791157102539981\n",
      "SGD recall: 0.0030257186081694403\n",
      "SGD precision: 0.6666666666666666\n",
      "SGD F measure: 0.006024096385542168\n"
     ]
    }
   ],
   "source": [
    "model2 = logit(X1_train, y1_train ,add_intercept = True)\n",
    "loss2, betas2 = model2.fit(method = \"SGD\", verbose = True, max_iter = 100, lr = 0.00005, stop_condition = 0.00000001)\n",
    "print(\"SGD accuracy:\", model2.accuracy(model2.X, model2.y))\n",
    "print(\"SGD recall:\", model2.recall(model2.X, model2.y))\n",
    "print(\"SGD precision:\", model2.precision(model2.X, model2.y))\n",
    "print(\"SGD F measure:\", model2.f_measure(model2.X, model2.y))"
   ]
  },
  {
   "cell_type": "code",
   "execution_count": 361,
   "metadata": {},
   "outputs": [
    {
     "name": "stdout",
     "output_type": "stream",
     "text": [
      "iteration 1 loss function value = 4.3276493499897967e-13\n",
      "iteration 2 loss function value = -0.0\n",
      "iteration 3 loss function value = -0.0\n",
      "iteration 4 loss function value = -0.0\n",
      "iteration 5 loss function value = 386.8872513023671\n",
      "iteration 6 loss function value = -0.0\n",
      "iteration 7 loss function value = 634.87484106185\n",
      "iteration 8 loss function value = -0.0\n",
      "iteration 9 loss function value = 336.1323515000149\n",
      "IRLS accuracy: 0.5512699905926622\n",
      "IRLS recall: 0.32223903177004537\n",
      "IRLS precision: 0.8801652892561983\n",
      "IRLS F measure: 0.47176079734219273\n"
     ]
    },
    {
     "name": "stderr",
     "output_type": "stream",
     "text": [
      "/Users/karolinabogacka/miniconda3/lib/python3.7/site-packages/ipykernel_launcher.py:25: RuntimeWarning: overflow encountered in exp\n",
      "/Users/karolinabogacka/miniconda3/lib/python3.7/site-packages/ipykernel_launcher.py:65: RuntimeWarning: overflow encountered in exp\n"
     ]
    }
   ],
   "source": [
    "model3 = logit(X1_train, y1_train, add_intercept = True)\n",
    "loss3, betas3 = model3.fit(method = \"IRLS2\", verbose = True, max_iter = 10, lr = 0.01, stop_condition = 0.0001)\n",
    "print(\"IRLS accuracy:\", model3.accuracy(model3.X, model3.y))\n",
    "print(\"IRLS recall:\", model3.recall(model3.X, model3.y))\n",
    "print(\"IRLS precision:\", model3.precision(model3.X, model3.y))\n",
    "print(\"IRLS F measure:\", model3.f_measure(model3.X, model3.y))"
   ]
  },
  {
   "cell_type": "code",
   "execution_count": 372,
   "metadata": {},
   "outputs": [
    {
     "name": "stdout",
     "output_type": "stream",
     "text": [
      "iteration 1 loss function value = 13252.242056691979\n",
      "iteration 2 loss function value = -0.0\n",
      "iteration 3 loss function value = 564.6481135418726\n",
      "iteration 4 loss function value = 706.9897832542265\n",
      "iteration 5 loss function value = -0.0\n",
      "iteration 6 loss function value = 597.1591426686355\n",
      "iteration 7 loss function value = 516.7722554004529\n",
      "iteration 8 loss function value = -0.0\n",
      "iteration 9 loss function value = -0.0\n",
      "IRLS accuracy: 0.6218250235183443\n",
      "IRLS recall: 1.0\n",
      "IRLS precision: 0.6218250235183443\n",
      "IRLS F measure: 0.7668213457076566\n"
     ]
    },
    {
     "name": "stderr",
     "output_type": "stream",
     "text": [
      "/Users/karolinabogacka/miniconda3/lib/python3.7/site-packages/ipykernel_launcher.py:25: RuntimeWarning: overflow encountered in exp\n"
     ]
    }
   ],
   "source": [
    "model3 = null_logit(X1_train, y1_train, add_intercept = True)\n",
    "loss3, betas3 = model3.fit(method = \"IRLS2\", verbose = True, max_iter = 10, lr = 0.01, stop_condition = 0.0001)\n",
    "print(\"IRLS accuracy:\", model3.accuracy(model3.X, model3.y))\n",
    "print(\"IRLS recall:\", model3.recall(model3.X, model3.y))\n",
    "print(\"IRLS precision:\", model3.precision(model3.X, model3.y))\n",
    "print(\"IRLS F measure:\", model3.f_measure(model3.X, model3.y))"
   ]
  },
  {
   "cell_type": "code",
   "execution_count": 238,
   "metadata": {},
   "outputs": [
    {
     "name": "stdout",
     "output_type": "stream",
     "text": [
      "(3, 2) (112, 3)\n",
      "iteration 1 loss function value = -492.3152994735067\n",
      "(3, 2) (112, 3)\n",
      "iteration 2 loss function value = -493.2447863468226\n",
      "(3, 2) (112, 3)\n",
      "iteration 3 loss function value = -494.17488437275904\n",
      "(3, 2) (112, 3)\n",
      "iteration 4 loss function value = -495.1055865736217\n",
      "(3, 2) (112, 3)\n",
      "iteration 5 loss function value = -496.0368860465529\n",
      "(3, 2) (112, 3)\n",
      "iteration 6 loss function value = -496.9687759628642\n",
      "(3, 2) (112, 3)\n",
      "iteration 7 loss function value = -497.9012495673719\n",
      "(3, 2) (112, 3)\n",
      "iteration 8 loss function value = -498.83430017773503\n",
      "(3, 2) (112, 3)\n",
      "iteration 9 loss function value = -499.7679211837955\n",
      "(3, 2) (112, 3)\n",
      "iteration 10 loss function value = -500.7021060469223\n",
      "(3, 2) (112, 3)\n",
      "iteration 11 loss function value = -501.6368482993565\n",
      "(3, 2) (112, 3)\n",
      "iteration 12 loss function value = -502.5721415435608\n",
      "(3, 2) (112, 3)\n",
      "iteration 13 loss function value = -503.5079794515715\n",
      "(3, 2) (112, 3)\n",
      "iteration 14 loss function value = -504.44435576435296\n",
      "(3, 2) (112, 3)\n",
      "iteration 15 loss function value = -505.38126429115596\n",
      "(3, 2) (112, 3)\n",
      "iteration 16 loss function value = -506.31869890887896\n",
      "(3, 2) (112, 3)\n",
      "iteration 17 loss function value = -507.2566535614323\n",
      "(3, 2) (112, 3)\n",
      "iteration 18 loss function value = -508.19512225910586\n",
      "(3, 2) (112, 3)\n",
      "iteration 19 loss function value = -509.13409907794016\n",
      "(3, 2) (112, 3)\n",
      "iteration 20 loss function value = -510.0735781591013\n",
      "(3, 2) (112, 3)\n",
      "iteration 21 loss function value = -511.013553708258\n",
      "(3, 2) (112, 3)\n",
      "iteration 22 loss function value = -511.9540199949636\n",
      "(3, 2) (112, 3)\n",
      "iteration 23 loss function value = -512.894971352041\n",
      "(3, 2) (112, 3)\n",
      "iteration 24 loss function value = -513.8364021749712\n",
      "(3, 2) (112, 3)\n",
      "iteration 25 loss function value = -514.7783069212854\n",
      "(3, 2) (112, 3)\n",
      "iteration 26 loss function value = -515.720680109961\n",
      "(3, 2) (112, 3)\n",
      "iteration 27 loss function value = -516.6635163208216\n",
      "(3, 2) (112, 3)\n",
      "iteration 28 loss function value = -517.6068101939396\n",
      "(3, 2) (112, 3)\n",
      "iteration 29 loss function value = -518.550556429044\n",
      "(3, 2) (112, 3)\n",
      "iteration 30 loss function value = -519.4947497849319\n",
      "(3, 2) (112, 3)\n",
      "iteration 31 loss function value = -520.4393850788822\n",
      "(3, 2) (112, 3)\n",
      "iteration 32 loss function value = -521.3844571860755\n",
      "(3, 2) (112, 3)\n",
      "iteration 33 loss function value = -522.3299610390159\n",
      "(3, 2) (112, 3)\n",
      "iteration 34 loss function value = -523.2758916269589\n",
      "(3, 2) (112, 3)\n",
      "iteration 35 loss function value = -524.2222439953406\n",
      "(3, 2) (112, 3)\n",
      "iteration 36 loss function value = -525.1690132452133\n",
      "(3, 2) (112, 3)\n",
      "iteration 37 loss function value = -526.1161945326837\n",
      "(3, 2) (112, 3)\n",
      "iteration 38 loss function value = -527.0637830683557\n",
      "(3, 2) (112, 3)\n",
      "iteration 39 loss function value = -528.0117741167774\n",
      "GD accuracy: 0.4375\n",
      "GD recall: 0.64\n",
      "GD precision: 0.64\n",
      "GD F measure: 0.64\n"
     ]
    }
   ],
   "source": [
    "#np.seterr(divide='ignore', invalid='ignore')\n",
    "model_multi_1 = logit(X_multi_train, Y_multi_train ,add_intercept = True)\n",
    "loss_multi_1, betas_multi_1 = model_multi_1.fit(method = \"GD\", verbose = True, max_iter = 40, lr = 0.005, stop_condition = 0.00001 )\n",
    "print(\"GD accuracy:\", model_multi_1.accuracy(model_multi_1.X, model_multi_1.y))\n",
    "print(\"GD recall:\", model_multi_1.recall(model_multi_1.X, model_multi_1.y))\n",
    "print(\"GD precision:\", model_multi_1.precision(model_multi_1.X, model_multi_1.y))\n",
    "print(\"GD F measure:\", model_multi_1.f_measure(model_multi_1.X, model_multi_1.y))\n",
    "\n",
    "#print(betas1[-1])"
   ]
  },
  {
   "cell_type": "code",
   "execution_count": 239,
   "metadata": {},
   "outputs": [
    {
     "name": "stdout",
     "output_type": "stream",
     "text": [
      "0.49560670340617846\n",
      "iteration 1 loss function value = 650.3890397935866\n",
      "0.11575064616929981\n",
      "iteration 2 loss function value = 646.9259759496636\n",
      "0.06307686888907338\n",
      "iteration 3 loss function value = 645.2665331334093\n",
      "0.04269389589476775\n",
      "iteration 4 loss function value = 644.1156219346889\n",
      "0.03196770159084282\n",
      "iteration 5 loss function value = 643.3444420548839\n",
      "0.025384914166119626\n",
      "iteration 6 loss function value = 642.9322751773345\n",
      "0.020951070499141133\n",
      "iteration 7 loss function value = 642.87105540838\n",
      "0.017771511795995804\n",
      "iteration 8 loss function value = 643.1559462032535\n",
      "0.015385898382926493\n",
      "iteration 9 loss function value = 643.7839136814873\n",
      "0.013533568954377972\n",
      "iteration 10 loss function value = 644.7531479141736\n",
      "0.012056088108727256\n",
      "iteration 11 loss function value = 646.0626248013489\n",
      "0.010851738854655983\n",
      "iteration 12 loss function value = 647.7116935695116\n",
      "0.009852306554409645\n",
      "iteration 13 loss function value = 649.6996454088808\n",
      "0.009010384761677285\n",
      "iteration 14 loss function value = 652.0252516688372\n",
      "0.008292035119554094\n",
      "iteration 15 loss function value = 654.686291536683\n",
      "0.0076723427623271705\n",
      "iteration 16 loss function value = 657.6791140595237\n",
      "0.007132618579985353\n",
      "iteration 17 loss function value = 660.9982905806195\n",
      "0.006658578781562236\n",
      "iteration 18 loss function value = 664.636407630939\n",
      "0.006239125881201365\n",
      "iteration 19 loss function value = 668.584029142462\n",
      "0.005865511687586815\n",
      "iteration 20 loss function value = 672.8298276589387\n",
      "0.005530749804453193\n",
      "iteration 21 loss function value = 677.360856384103\n",
      "0.005229195217076651\n",
      "iteration 22 loss function value = 682.1629151450477\n",
      "0.004956238286865116\n",
      "iteration 23 loss function value = 687.2209571403735\n",
      "0.004708078642456817\n",
      "iteration 24 loss function value = 692.5194885262373\n",
      "0.0044815558340334065\n",
      "iteration 25 loss function value = 698.0429253274981\n",
      "0.004274020919609805\n",
      "iteration 26 loss function value = 703.7758870109107\n",
      "0.004083237950200501\n",
      "iteration 27 loss function value = 709.703419534068\n",
      "0.003907307544774726\n",
      "iteration 28 loss function value = 715.8111507623685\n",
      "0.003744606955807254\n",
      "iteration 29 loss function value = 722.0853873773602\n",
      "0.003593742566683865\n",
      "iteration 30 loss function value = 728.513165264182\n",
      "0.003453511850958564\n",
      "iteration 31 loss function value = 735.0822657833401\n",
      "0.0033228726020275616\n",
      "iteration 32 loss function value = 741.7812091961515\n",
      "0.003200917804368763\n",
      "iteration 33 loss function value = 748.5992345224206\n",
      "0.00308685492788664\n",
      "iteration 34 loss function value = 755.5262728344677\n",
      "0.0029799887286288827\n",
      "iteration 35 loss function value = 762.5529187531271\n",
      "0.0028797068621622826\n",
      "iteration 36 loss function value = 769.670402993022\n",
      "0.002785467781143146\n",
      "iteration 37 loss function value = 776.8705672250796\n",
      "0.0026967905109187003\n",
      "iteration 38 loss function value = 784.1458414295212\n",
      "0.0026132459873175157\n",
      "iteration 39 loss function value = 791.4892232455873\n",
      "0.0025344497073040463\n",
      "iteration 40 loss function value = 798.8942584237208\n",
      "0.0024600554921819858\n",
      "iteration 41 loss function value = 806.3550214936392\n",
      "0.002389750199350358\n",
      "iteration 42 loss function value = 813.8660957679385\n",
      "0.002323249245888051\n",
      "iteration 43 loss function value = 821.4225520968507\n",
      "0.0022703929988680347\n",
      "iteration 44 loss function value = 829.0199260366805\n",
      "0.002235712160706304\n",
      "iteration 45 loss function value = 836.6541931811844\n",
      "0.0022022518143930943\n",
      "iteration 46 loss function value = 844.3217428318823\n",
      "0.002169935227107276\n",
      "iteration 47 loss function value = 852.0193502353375\n",
      "0.0021386929039983456\n",
      "iteration 48 loss function value = 859.7441476057081\n",
      "0.002108461860256785\n",
      "iteration 49 loss function value = 867.4935944981739\n",
      "0.0020791849568219346\n",
      "iteration 50 loss function value = 875.2654477751901\n",
      "0.0020508102928890972\n",
      "iteration 51 loss function value = 883.0577318118814\n",
      "0.002023290649827846\n",
      "iteration 52 loss function value = 890.868709122226\n",
      "0.001996582982244098\n",
      "iteration 53 loss function value = 898.6968519040546\n",
      "0.0019706479527630844\n",
      "iteration 54 loss function value = 906.5408147388607\n",
      "0.001945449507766456\n",
      "iteration 55 loss function value = 914.399408991354\n",
      "0.0019209544917912946\n",
      "iteration 56 loss function value = 922.2715786807098\n",
      "0.001897132298639823\n",
      "iteration 57 loss function value = 930.156378618067\n",
      "0.001873954557470348\n",
      "iteration 58 loss function value = 938.0529542444071\n",
      "0.0018513948522455072\n",
      "iteration 59 loss function value = 945.9605242158497\n",
      "0.0018294284729478722\n",
      "iteration 60 loss function value = 953.8783646927034\n",
      "0.0018080321969271087\n",
      "iteration 61 loss function value = 961.8057963476961\n",
      "0.001787184098653878\n",
      "iteration 62 loss function value = 969.7421736459673\n",
      "0.001766863386041454\n",
      "iteration 63 loss function value = 977.686876187299\n",
      "0.0017470502613655913\n",
      "iteration 64 loss function value = 985.6393021559647\n",
      "0.0017277258047009192\n",
      "iteration 65 loss function value = 993.5988637354658\n",
      "0.0017088718776899665\n",
      "iteration 66 loss function value = 1001.5649845869068\n",
      "0.0016904710453991673\n",
      "iteration 67 loss function value = 1009.5370983521256\n",
      "0.0016725065139869826\n",
      "iteration 68 loss function value = 1017.5146491877512\n",
      "0.0016549620819230812\n",
      "iteration 69 loss function value = 1025.497091943717\n",
      "0.0016378221025564036\n",
      "iteration 70 loss function value = 1033.4838954135198\n",
      "0.0016210714559250264\n",
      "iteration 71 loss function value = 1041.4745435437906\n",
      "0.0016046955278442097\n",
      "iteration 72 loss function value = 1049.4685387236602\n",
      "0.001588680194483981\n",
      "iteration 73 loss function value = 1057.465404859117\n",
      "0.0015730118108517304\n",
      "iteration 74 loss function value = 1065.4646892746837\n",
      "0.0015576772018284742\n",
      "iteration 75 loss function value = 1073.4659652239602\n",
      "0.0015426636546574128\n",
      "iteration 76 loss function value = 1081.46883442049\n",
      "0.0015279589120267745\n",
      "iteration 77 loss function value = 1089.4729283876313\n",
      "0.001513551165142707\n",
      "iteration 78 loss function value = 1097.477908971312\n",
      "0.0014994290464160108\n",
      "iteration 79 loss function value = 1105.4834691573947\n",
      "0.0014855816215841814\n",
      "iteration 80 loss function value = 1113.4893350343075\n",
      "0.0014719983812626401\n",
      "iteration 81 loss function value = 1121.4952615611346\n",
      "0.0014586692320430643\n",
      "iteration 82 loss function value = 1129.5010368799265\n",
      "0.0014455844873365968\n",
      "iteration 83 loss function value = 1137.506477447901\n",
      "0.0014327348581990428\n",
      "iteration 84 loss function value = 1145.5114305618404\n",
      "0.001420111444373802\n",
      "iteration 85 loss function value = 1153.5157719740193\n",
      "0.0014077057257479784\n",
      "iteration 86 loss function value = 1161.5194038139566\n",
      "0.001395509554360239\n",
      "iteration 87 loss function value = 1169.5222583912848\n",
      "0.0013835151470156222\n",
      "iteration 88 loss function value = 1177.5242891731396\n",
      "0.0013717150784795728\n",
      "iteration 89 loss function value = 1185.5254785068005\n",
      "0.0013601022751445551\n",
      "iteration 90 loss function value = 1193.525833651775\n",
      "0.0013486700089858404\n",
      "iteration 91 loss function value = 1201.5253834670598\n",
      "0.0013374118915804904\n",
      "iteration 92 loss function value = 1209.5241797223732\n",
      "0.001326321867925511\n",
      "iteration 93 loss function value = 1217.5222980580083\n",
      "0.0013153942097907196\n",
      "iteration 94 loss function value = 1225.5198338020725\n",
      "0.0013046235083614649\n",
      "iteration 95 loss function value = 1233.5169042702396\n",
      "0.0012940046659606454\n",
      "iteration 96 loss function value = 1241.5136438367333\n",
      "0.0012835328866990145\n",
      "iteration 97 loss function value = 1249.5102032503048\n",
      "0.0012732036659677496\n",
      "iteration 98 loss function value = 1257.5067482227792\n",
      "0.001263012778754983\n",
      "iteration 99 loss function value = 1265.503460292869\n",
      "SGD accuracy: 0.33035714285714285\n",
      "SGD recall: 0.5989304812834224\n",
      "SGD precision: 0.5989304812834224\n",
      "SGD F measure: 0.5989304812834224\n"
     ]
    }
   ],
   "source": [
    "model_multi_2 = logit(X_multi_train, Y_multi_train ,add_intercept = True)\n",
    "loss_multi_2, betas_multi_2 = model_multi_2.fit(method = \"SGD\", verbose = True, max_iter = 100, lr = 0.01, stop_condition = 0.00000001)\n",
    "print(\"SGD accuracy:\", model_multi_2.accuracy(model_multi_2.X, model_multi_2.y))\n",
    "print(\"SGD recall:\", model_multi_2.recall(model_multi_2.X, model_multi_2.y))\n",
    "print(\"SGD precision:\", model_multi_2.precision(model_multi_1.X, model_multi_1.y))\n",
    "print(\"SGD F measure:\", model_multi_2.f_measure(model_multi_1.X, model_multi_1.y))"
   ]
  },
  {
   "cell_type": "code",
   "execution_count": 42,
   "metadata": {},
   "outputs": [
    {
     "data": {
      "text/plain": [
       "(426, 5)"
      ]
     },
     "execution_count": 42,
     "metadata": {},
     "output_type": "execute_result"
    }
   ],
   "source": [
    "model2.X.shape"
   ]
  },
  {
   "cell_type": "code",
   "execution_count": 118,
   "metadata": {},
   "outputs": [
    {
     "data": {
      "text/plain": [
       "0.09816091954022989"
      ]
     },
     "execution_count": 118,
     "metadata": {},
     "output_type": "execute_result"
    }
   ],
   "source": [
    "y1_train.mean()"
   ]
  },
  {
   "cell_type": "code",
   "execution_count": 119,
   "metadata": {},
   "outputs": [
    {
     "data": {
      "text/plain": [
       "0.09028256374913853"
      ]
     },
     "execution_count": 119,
     "metadata": {},
     "output_type": "execute_result"
    }
   ],
   "source": [
    "y1_test.mean()"
   ]
  },
  {
   "cell_type": "code",
   "execution_count": 43,
   "metadata": {},
   "outputs": [
    {
     "data": {
      "text/plain": [
       "array([[ 1.12697804,  1.8836361 ,  0.53816435, -1.15908311]])"
      ]
     },
     "execution_count": 43,
     "metadata": {},
     "output_type": "execute_result"
    }
   ],
   "source": [
    "betas2[-1].reshape(1,-1)[:,1:]"
   ]
  },
  {
   "cell_type": "code",
   "execution_count": 45,
   "metadata": {},
   "outputs": [
    {
     "name": "stdout",
     "output_type": "stream",
     "text": [
      "0.9038793103448276\n"
     ]
    },
    {
     "data": {
      "text/plain": [
       "array([[-1.92093266e-12, -1.88008283e-12, -1.86066965e-12,\n",
       "        -1.73261110e-12, -1.86054453e-12, -1.80848485e-12,\n",
       "        -1.23179421e-14, -1.14656623e-07, -2.63900412e-16,\n",
       "         1.18071756e-16, -7.73609476e-16, -1.31709861e-14,\n",
       "        -1.67427823e-15, -9.21501045e-16,  1.63446256e-15,\n",
       "        -7.53259397e-15, -2.06003973e-15]])"
      ]
     },
     "execution_count": 45,
     "metadata": {},
     "output_type": "execute_result"
    }
   ],
   "source": [
    "from sklearn.linear_model import LogisticRegression\n",
    "\n",
    "model = LogisticRegression(solver = \"lbfgs\", fit_intercept=True, max_iter=1000)\n",
    "model.fit(X1_train, y1_train)\n",
    "print(model.score(X1_train, y1_train))\n",
    "model.coef_"
   ]
  },
  {
   "cell_type": "code",
   "execution_count": 27,
   "metadata": {},
   "outputs": [
    {
     "name": "stdout",
     "output_type": "stream",
     "text": [
      "Optimization terminated successfully.\n",
      "         Current function value: 0.229942\n",
      "         Iterations 8\n"
     ]
    },
    {
     "data": {
      "text/plain": [
       "0.9144396551724138"
      ]
     },
     "execution_count": 27,
     "metadata": {},
     "output_type": "execute_result"
    }
   ],
   "source": [
    "from statsmodels.discrete.discrete_model import Logit\n",
    "\n",
    "#X = df.drop(\"chd\", axis = 1, inplace=False)\n",
    "#y = df.chd\n",
    "\n",
    "model = Logit(endog = y1_train, exog = X1_train)\n",
    "res = model.fit()\n",
    "np.sum((res.predict(X1_train) > 0.5) == y1_train) / X1_train.shape[0]"
   ]
  },
  {
   "cell_type": "code",
   "execution_count": 387,
   "metadata": {},
   "outputs": [
    {
     "data": {
      "text/plain": [
       "(150, 2)"
      ]
     },
     "execution_count": 387,
     "metadata": {},
     "output_type": "execute_result"
    }
   ],
   "source": [
    "X.shape"
   ]
  },
  {
   "cell_type": "code",
   "execution_count": 126,
   "metadata": {},
   "outputs": [
    {
     "data": {
      "image/png": "[encoded data removed]",
      "text/plain": [
       "<Figure size 576x432 with 1 Axes>"
      ]
     },
     "metadata": {
      "needs_background": "light"
     },
     "output_type": "display_data"
    }
   ],
   "source": [
    "from mpl_toolkits.mplot3d import Axes3D\n",
    "\n",
    "fig = plt.figure(figsize = (8,6))\n",
    "ax = Axes3D(fig)\n",
    "\n",
    "sequence_containing_x_vals1 = [i[0][0] for i in betas1]\n",
    "sequence_containing_y_vals1 = [i[1][0] for i in betas1]\n",
    "sequence_containing_z_vals1 = loss1\n",
    "\n",
    "sequence_containing_x_vals2 = [i[0][0] for i in betas2]\n",
    "sequence_containing_y_vals2 = [i[1][0] for i in betas2]\n",
    "sequence_containing_z_vals2 = loss2\n",
    "\n",
    "\n",
    "ax.scatter(sequence_containing_x_vals2, sequence_containing_y_vals2, sequence_containing_z_vals2, marker = \"o\",\n",
    "          color = \"blue\", s = 5, alpha =0.3)\n",
    "ax.scatter(sequence_containing_x_vals1, sequence_containing_y_vals1, sequence_containing_z_vals1, marker = \"o\",\n",
    "          color = \"green\", s = 40)\n",
    "\n",
    "plt.title(\"3D statter plot\")\n",
    "ax.set_xlabel(\"Beta 1\")\n",
    "ax.set_ylabel(\"Beta 2\")\n",
    "ax.set_zlabel(\"Values of loss function\")\n",
    "plt.legend([\"GD\", \"SGD\"])\n",
    "plt.show()"
   ]
  }
 ],
 "metadata": {
  "kernelspec": {
   "display_name": "Python 3",
   "language": "python",
   "name": "python3"
  },
  "language_info": {
   "codemirror_mode": {
    "name": "ipython",
    "version": 3
   },
   "file_extension": ".py",
   "mimetype": "text/x-python",
   "name": "python",
   "nbconvert_exporter": "python",
   "pygments_lexer": "ipython3",
   "version": "3.7.3"
  }
 },
 "nbformat": 4,
 "nbformat_minor": 2
}