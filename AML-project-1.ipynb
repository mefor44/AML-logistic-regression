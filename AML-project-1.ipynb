{
 "cells": [
  {
   "cell_type": "code",
   "execution_count": 43,
   "metadata": {},
   "outputs": [],
   "source": [
    "import numpy as np\n",
    "import pandas as pd\n",
    "from sklearn.metrics import log_loss\n",
    "from sklearn.datasets import make_classification\n",
    "from statsmodels.stats.outliers_influence import variance_inflation_factor\n",
    "import matplotlib.pyplot as plt\n",
    "from icecream import ic\n",
    "from pathlib import Path\n",
    "import random\n",
    "from sklearn.model_selection import train_test_split\n",
    "random.seed(21)"
   ]
  },
  {
   "cell_type": "code",
   "execution_count": 41,
   "metadata": {},
   "outputs": [],
   "source": [
    "def calculate_vif_(X, thresh = 5.0):\n",
    "    variables = list(range(X.shape[1]))\n",
    "    dropped = True\n",
    "    while dropped:\n",
    "        dropped = False\n",
    "        vif = [variance_inflation_factor(X.iloc[:, variables].values, ix)\n",
    "               for ix in range(X.iloc[:, variables].shape[1])]\n",
    "        maxloc = vif.index(max(vif))\n",
    "        if max(vif) > thresh:\n",
    "            print(f\"dropping {X.iloc[:, variables].columns[maxloc]} at index: {maxloc}\")\n",
    "            del variables[maxloc]\n",
    "            dropped = True\n",
    "\n",
    "    print('Remaining variables:')\n",
    "    print(X.columns[variables])\n",
    "    return X.iloc[:, variables]"
   ]
  },
  {
   "cell_type": "markdown",
   "metadata": {},
   "source": [
    "## Preparing the first data set (Credit risk data)"
   ]
  },
  {
   "cell_type": "code",
   "execution_count": 44,
   "metadata": {},
   "outputs": [],
   "source": [
    "df = pd.read_csv(\"credit-data.csv\")\n",
    "df.drop([\"CUSTOMER_ID\", \"ASSESSMENT_YEAR\"],axis = 1, inplace = True)\n",
    "df.dropna(inplace = True) #drops 3 observations\n",
    "df = pd.get_dummies(df, drop_first = True)\n",
    "y1 = df.DEFAULT_FLAG.to_numpy()\n",
    "X1 = df.drop(\"DEFAULT_FLAG\", axis = 1).to_numpy()\n",
    "#X1 = calculate_vif_(X1, thresh = 100)\n",
    "X1_train, X1_test, y1_train, y1_test = train_test_split(X1, y1, train_size = 0.8, random_state = 21, stratify = y1)"
   ]
  },
  {
   "cell_type": "code",
   "execution_count": 51,
   "metadata": {},
   "outputs": [
    {
     "data": {
      "text/plain": [
       "(5801, 17)"
      ]
     },
     "execution_count": 51,
     "metadata": {},
     "output_type": "execute_result"
    }
   ],
   "source": [
    "X1.shape"
   ]
  },
  {
   "cell_type": "code",
   "execution_count": 5,
   "metadata": {},
   "outputs": [
    {
     "name": "stdout",
     "output_type": "stream",
     "text": [
      "dropping 2 at index: 0\n",
      "dropping 22 at index: 19\n",
      "dropping 4 at index: 1\n",
      "dropping 24 at index: 19\n",
      "dropping 11 at index: 7\n",
      "dropping 26 at index: 19\n",
      "dropping 23 at index: 17\n",
      "dropping 31 at index: 22\n",
      "dropping 30 at index: 21\n",
      "dropping 8 at index: 4\n",
      "dropping 12 at index: 6\n",
      "dropping 29 at index: 18\n",
      "dropping 6 at index: 2\n",
      "dropping 7 at index: 2\n",
      "dropping 5 at index: 1\n",
      "dropping 27 at index: 13\n",
      "dropping 14 at index: 4\n",
      "dropping 10 at index: 2\n",
      "dropping 3 at index: 0\n",
      "dropping 19 at index: 6\n",
      "dropping 17 at index: 4\n",
      "dropping 25 at index: 7\n",
      "dropping 9 at index: 0\n",
      "dropping 20 at index: 4\n",
      "dropping 21 at index: 4\n",
      "dropping 16 at index: 2\n",
      "Remaining variables:\n",
      "Int64Index([13, 15, 18, 28], dtype='int64')\n"
     ]
    }
   ],
   "source": [
    "Cancer = pd.read_csv(\"wdbc.data\", header=None)\n",
    "Cancer.iloc[:,1] = (Cancer[1] == \"M\").astype(int)\n",
    "Cancer = Cancer.drop(columns=[0])\n",
    "Y = Cancer[1].to_numpy()\n",
    "X = Cancer.loc[:,2:]\n",
    "X = calculate_vif_(X)\n",
    "X = X.to_numpy()\n",
    "X_normalized = (X - X.mean(0)) / X.std(0)\n",
    "X_train, X_test, Y_train, Y_test = train_test_split(X_normalized, Y)"
   ]
  },
  {
   "cell_type": "code",
   "execution_count": 150,
   "metadata": {},
   "outputs": [
    {
     "name": "stdout",
     "output_type": "stream",
     "text": [
      "dropping SepalLengthCm at index: 0\n",
      "dropping PetalLengthCm at index: 1\n",
      "Remaining variables:\n",
      "Index(['SepalWidthCm', 'PetalWidthCm'], dtype='object')\n"
     ]
    }
   ],
   "source": [
    "# add a dataset to test multiclass\n",
    "df = pd.read_csv(\"Iris.csv\")\n",
    "df.drop(\"Id\", axis = 1, inplace = True)\n",
    "X = calculate_vif_(df.drop(\"Species\", axis = 1, inplace = False)).to_numpy()\n",
    "y = pd.get_dummies(df.Species, drop_first = False).to_numpy()\n",
    "X_multi_train, X_multi_test, Y_multi_train, Y_multi_test = train_test_split(X, y, random_state=21)"
   ]
  },
  {
   "cell_type": "code",
   "execution_count": 34,
   "metadata": {},
   "outputs": [],
   "source": [
    "from sklearn.model_selection import train_test_split\n",
    "Cancer = pd.read_csv(\"wdbc.data\", header=None)\n",
    "Cancer.iloc[:,1] = (Cancer[1] == \"M\").astype(int)\n",
    "Cancer = Cancer.drop(columns=[0])"
   ]
  },
  {
   "cell_type": "code",
   "execution_count": 35,
   "metadata": {},
   "outputs": [
    {
     "data": {
      "text/plain": [
       "array([[9.053e-01, 1.534e+02, 5.373e-02, 7.119e-01],\n",
       "       [7.339e-01, 7.408e+01, 1.860e-02, 2.416e-01],\n",
       "       [7.869e-01, 9.403e+01, 3.832e-02, 4.504e-01],\n",
       "       ...,\n",
       "       [1.075e+00, 4.855e+01, 4.730e-02, 3.403e-01],\n",
       "       [1.595e+00, 8.622e+01, 7.117e-02, 9.387e-01],\n",
       "       [1.428e+00, 1.915e+01, 0.000e+00, 0.000e+00]])"
      ]
     },
     "execution_count": 35,
     "metadata": {},
     "output_type": "execute_result"
    }
   ],
   "source": []
  },
  {
   "cell_type": "code",
   "execution_count": 151,
   "metadata": {},
   "outputs": [],
   "source": [
    "path = Path(\"../Labs/lab2_logistic_regression/SAheart.data\")\n",
    "df = pd.read_csv(path, sep = \",\")\n",
    "df = df.drop(\"row.names\", axis = 1)\n",
    "df[\"famhist_present\"] = pd.get_dummies(df.famhist)[\"Present\"] # famhist can be: present | absent\n",
    "df.drop(\"famhist\", axis = 1, inplace = True)\n",
    "\n",
    "X = df.drop(\"chd\", axis = 1, inplace=False).to_numpy()\n",
    "y = df.chd.to_numpy()"
   ]
  },
  {
   "cell_type": "code",
   "execution_count": null,
   "metadata": {},
   "outputs": [],
   "source": []
  },
  {
   "cell_type": "code",
   "execution_count": 3,
   "metadata": {},
   "outputs": [],
   "source": [
    "df = pd.read_csv(\"data.simple.test.10000.csv\")\n",
    "df[\"predict\"] = pd.get_dummies(df.cls, drop_first = True)\n",
    "df.drop(\"cls\", axis = 1, inplace = True)\n",
    "\n",
    "X = df.drop(\"predict\", axis = 1, inplace = False).to_numpy()\n",
    "y = df.predict.to_numpy()"
   ]
  },
  {
   "cell_type": "code",
   "execution_count": 74,
   "metadata": {},
   "outputs": [],
   "source": [
    "#multiclass\n",
    "df = pd.read_csv(\"Iris.csv\")\n",
    "df.drop(\"Id\", axis = 1, inplace = True)\n",
    "X = df.drop(\"Species\", axis = 1, inplace = False).to_numpy()\n",
    "y = pd.get_dummies(df.Species, drop_first = False).to_numpy()\n"
   ]
  },
  {
   "cell_type": "code",
   "execution_count": 183,
   "metadata": {},
   "outputs": [],
   "source": [
    "a = np.random.normal(loc = 5, size = (4,1))\n",
    "X = np.random.normal(size = (4,4))"
   ]
  },
  {
   "cell_type": "code",
   "execution_count": 198,
   "metadata": {},
   "outputs": [
    {
     "data": {
      "text/plain": [
       "array([[ -4.04974479,  -4.18799392,  -3.29439688,   6.8390388 ],\n",
       "       [  1.0370668 ,   1.07695354,   1.70801861,  -9.02168428],\n",
       "       [ -8.23941684,   1.76495676,   2.76678308,  -2.66326346],\n",
       "       [-15.97538503,  -3.11095196,  -7.4652715 ,   1.45880529]])"
      ]
     },
     "execution_count": 198,
     "metadata": {},
     "output_type": "execute_result"
    }
   ],
   "source": [
    "a * X"
   ]
  },
  {
   "cell_type": "code",
   "execution_count": 186,
   "metadata": {},
   "outputs": [
    {
     "data": {
      "text/plain": [
       "array([[5.41000668],\n",
       "       [5.17813934],\n",
       "       [6.18265834],\n",
       "       [5.79558743]])"
      ]
     },
     "execution_count": 186,
     "metadata": {},
     "output_type": "execute_result"
    }
   ],
   "source": [
    "a"
   ]
  },
  {
   "cell_type": "code",
   "execution_count": null,
   "metadata": {},
   "outputs": [],
   "source": []
  },
  {
   "cell_type": "code",
   "execution_count": 75,
   "metadata": {},
   "outputs": [],
   "source": [
    "df = make_classification(n_samples=100, n_features=20, n_informative = 2,\n",
    "                         n_redundant = 1 , n_repeated=0, n_classes=2, n_clusters_per_class = 2)\n",
    "X = df[0]\n",
    "y = df[1]"
   ]
  },
  {
   "cell_type": "code",
   "execution_count": 31,
   "metadata": {},
   "outputs": [],
   "source": [
    "from scipy.special import expit\n",
    "\n",
    "\n",
    "class logit():\n",
    "    def __init__(self, exog, endog, add_intercept = True):\n",
    "        if len(endog.shape) > 1:\n",
    "            self.y = endog # T x 1\n",
    "        elif len(endog.shape) == 1:\n",
    "            self.y = endog.reshape(-1,1)\n",
    "        if add_intercept == True:\n",
    "            self.X = np.concatenate((np.ones(shape = (exog.shape[0], 1)), exog), axis = 1) # T x k\n",
    "        elif add_intercept == False:\n",
    "            self.X = exog\n",
    "        #self.b = np.linalg.inv(self.X.T @ self.X) @ self.X.T @ self.y # k x 1, initialized with LS estimator\n",
    "        if self.y.shape[1] == 1:\n",
    "            self.b = np.random.normal(size = (self.X.shape[1],1))\n",
    "            self.multiclass = 0\n",
    "        elif self.y.shape[1] > 1:# b - k x J (where J - number or classes)\n",
    "            self.b = np.random.normal(size = (self.X.shape[1], self.y.shape[1]))\n",
    "            self.multiclass = 1\n",
    "            \n",
    "\n",
    "    \n",
    "    def sigmoid(x): # returns output with the same dimensions as x \n",
    "        return 1 / (1 + np.exp(-x))\n",
    "    \n",
    "    def cross_entrophy(y_true, y_pred): #returns a scalar value\n",
    "        # epsilon = 1e-5 ? why?\n",
    "        return -np.sum(y_true * np.log(y_pred, out=np.zeros_like(y_pred), where=(y_pred!=0)) + (1 - y_true) * np.log(1 - y_pred, out=np.zeros_like(1-y_pred), where=(1-y_pred!=0)))\n",
    "    \n",
    "    def cross_entrophy_der(X, y, b): # returns X.shape[0] x k vector \n",
    "        p_hat = logit.sigmoid(X @ b) # T x 1\n",
    "        return X * (p_hat - y)  # X.shape[0] x k\n",
    "    \"\"\"\n",
    "    def softmax(X, b):\n",
    "        return np.exp(X @ b) / np.sum(np.exp(X @ b))\n",
    "    \"\"\"\n",
    "    def softmax(x):\n",
    "        # Compute softmax values for each sets of scores in x.\n",
    "        e_x = np.exp(x - np.max(x))\n",
    "        return e_x / e_x.sum(axis = 0)\n",
    "    \n",
    "    def loglikelihood_multiclass(X, y, b):\n",
    "        # X - T x k\n",
    "        # y - T x J\n",
    "        # b - k x J\n",
    "        return np.sum(((X @ b) * y)[:,:-1]) - np.sum(np.log(1 + np.sum(np.exp(X @ b[:,:-1]), axis = 1)))\n",
    "                                                   \n",
    "    def loglikelihood_multiclass_der(X, y, b):\n",
    "        # X - T x k\n",
    "        # y - T x J\n",
    "        # b - k x J\n",
    "        return X.T @ (y - logit.softmax(X @ b))[:,:-1]\n",
    "        \n",
    "    \n",
    "    \n",
    "    \n",
    "    def predict_proba(self, X): # returns X.shape[0] x 1 vector\n",
    "        if self.multiclass == 1:\n",
    "            return logit.softmax(X @ self.b)\n",
    "        else:\n",
    "            return logit.sigmoid(X @ self.b)\n",
    "        \n",
    "    def predict_y(self, X, threshold = 0.5): # returns X.shape[0] x 1 vector\n",
    "        p_hat = 1 / (1 + np.exp( - X @ self.b))\n",
    "        if self.multiclass==0:\n",
    "            return np.array([1 if i[0] > threshold else 0 for i in p_hat]).reshape(-1,1)\n",
    "        else:\n",
    "            results = np.zeros(shape=p_hat.shape)\n",
    "            for i in range(0, len(p_hat)):\n",
    "                results[i][np.argmax(p_hat[i])] = 1\n",
    "            return results\n",
    "    \n",
    "    \n",
    "    def accuracy(self, X, y):\n",
    "        y_hat = logit.predict_y(self, X)\n",
    "        truths = y_hat == y\n",
    "        ts = [np.prod(t) for t in truths]\n",
    "        correct_num = np.sum(ts)\n",
    "        return correct_num / X.shape[0]\n",
    "\n",
    "    def recall(self, X, y):\n",
    "        y_hat = logit.predict_y(self, X)\n",
    "        if not self.multiclass:\n",
    "            same = y[y_hat == y]\n",
    "            true_positives = np.sum(same[same == 1])\n",
    "            different = y[y_hat != y]\n",
    "            false_negatives = np.sum(different[different == 1])\n",
    "        else:\n",
    "            true_positives = 0\n",
    "            false_negatives = 0\n",
    "            truths = y_hat == y\n",
    "            ts = [np.prod(t) for t in truths]\n",
    "            same = y[ts]\n",
    "            fs = [not np.prod(t) for t in truths]\n",
    "            different = y[fs]\n",
    "            for i in range(0, self.y.shape[1]):\n",
    "                mask = np.zeros(shape=(self.y.shape[1]))\n",
    "                mask[i] = 1\n",
    "                true_positives += np.sum(same[same == mask])\n",
    "                false_negatives += np.sum(different[different == mask])\n",
    "        return true_positives/(false_negatives+true_positives)\n",
    "    \n",
    "    def precision(self, X, y):\n",
    "        y_hat = logit.predict_y(self, X)\n",
    "        if not self.multiclass:\n",
    "            same = y[y_hat == y]\n",
    "            true_positives = np.sum(same[same == 1])\n",
    "            different = y_hat[y_hat != y]\n",
    "            false_positives = np.sum(different[different == 1])\n",
    "        else:\n",
    "            true_positives = 0\n",
    "            false_positives = 0\n",
    "            truths = y_hat == y\n",
    "            ts = [np.prod(t) for t in truths]\n",
    "            same = y[ts]\n",
    "            fs = [not np.prod(t) for t in truths]\n",
    "            different = y_hat[fs]\n",
    "            for i in range(0, self.y.shape[1]):\n",
    "                mask = np.zeros(shape=(self.y.shape[1]))\n",
    "                mask[i] = 1\n",
    "                true_positives += np.sum(same[same == mask])\n",
    "                false_positives += np.sum(different[different == mask])\n",
    "        return true_positives/(false_positives+true_positives)\n",
    "    \n",
    "    def f_measure(self, X, y):\n",
    "        precision = self.precision(X, y)\n",
    "        recall = self.recall(X, y)\n",
    "        return 2 * ( precision * recall) / (precision + recall)\n",
    "    \n",
    "    \n",
    "    def fit(self, stop_condition = 0.001, lr = 0.001, method = \"GD\", verbose = False,\n",
    "           max_iter = 300):\n",
    "        # list with losses obtained when running the learing process\n",
    "        loss = []\n",
    "        betas = []\n",
    "        # p - vector of probabilities, shape T x 1\n",
    "        p = logit.sigmoid(self.X @ self.b)\n",
    "        loss.append(logit.cross_entrophy(self.y, p))\n",
    "        betas.append(self.b)\n",
    "        # condtion (when satisfied algorithm will stop)\n",
    "        cond = 1\n",
    "        # iteration counter\n",
    "        i = 1\n",
    "        \n",
    "        \n",
    "        while cond > stop_condition and i < max_iter:\n",
    "            \n",
    "            if method == \"GD\":\n",
    "                if self.multiclass == 1:\n",
    "                    gradient = logit.loglikelihood_multiclass_der(self.X, self.y, self.b) / X.shape[0]\n",
    "                    print(gradient.shape, self.y.shape)\n",
    "                    gradient = np.append(gradient, np.zeros(shape = (gradient.shape[0],1)), axis = 1)  \n",
    "                else:\n",
    "                    gradient = np.mean(logit.cross_entrophy_der(self.X, self.y, self.b), axis = 0).reshape(-1,1)\n",
    "                    \n",
    "                # updating weights\n",
    "                beta_old = self.b\n",
    "                self.b = beta_old - lr * gradient\n",
    "                betas.append(self.b)\n",
    "                \n",
    "                # update the value of condition\n",
    "                cond = np.max(np.abs((beta_old - self.b) / beta_old))\n",
    "                #print(cond)\n",
    "\n",
    "                # loss function after one iteration\n",
    "                p = logit.predict_proba(self, self.X)\n",
    "                if self.multiclass == 1:\n",
    "                    loss.append(logit.loglikelihood_multiclass(self.X, self.y, self.b))\n",
    "                else:\n",
    "                    loss.append(logit.cross_entrophy(self.y, p))\n",
    "                    \n",
    "            \n",
    "            elif method == \"SGD\":\n",
    "                for j in range(self.X.shape[0]):\n",
    "                    gradient = logit.cross_entrophy_der(self.X[j,:].reshape(1,-1), self.y[j,:], self.b).reshape(-1,1)\n",
    "                    beta_old = self.b\n",
    "                    self.b = beta_old - lr * gradient\n",
    "                    cond = np.max(np.abs((beta_old - self.b) / beta_old))\n",
    "                    \n",
    "                    # loss function after one calculation\n",
    "                    betas.append(self.b)       \n",
    "                    p = logit.sigmoid(self.X @ self.b)\n",
    "                    loss.append(logit.cross_entrophy(self.y, p))\n",
    "                    \n",
    "                    if cond < stop_condition:\n",
    "                        print(\"Breaking\")\n",
    "                        break\n",
    "                print(cond)\n",
    "                    \n",
    "                    \n",
    "\n",
    "            elif method == \"IRLS\":                       \n",
    "                p = logit.sigmoid(self.X @ self.b).reshape(-1,1)\n",
    "                # diagonal T x T matrix with values \"p_i * (1-p_i)\" on the diagonal\n",
    "                W = np.diag(np.diag(p @ (1 - p).T)) \n",
    "                # T x 1 wector of transformed response variable\n",
    "                z = self.X @ self.b + np.linalg.inv(W) @ (self.y - p)\n",
    "                \n",
    "                # updating beta \n",
    "                beta_old = self.b\n",
    "                self.b = np.linalg.inv(self.X.T @ W @ self.X) @ self.X.T @ W @ z\n",
    "                betas.append(self.b)\n",
    "                # updating condition\n",
    "                cond = np.max(np.abs((beta_old - self.b) / beta_old))\n",
    "                # loss function after one iteration\n",
    "                p = logit.predict_proba(self, self.X)\n",
    "                loss.append(logit.cross_entrophy(self.y, p))\n",
    "                \n",
    "            elif method == \"IRLS2\":\n",
    "                p = logit.sigmoid(self.X @ self.b).reshape(-1,1)\n",
    "                W = p * (1 - p)# vector\n",
    " \n",
    "                # T x 1 wector of transformed response variable\n",
    "                z = self.X @ self.b + (1 / W) * (self.y - p)\n",
    "                X_temp = W * self.X\n",
    "                # updating beta \n",
    "                beta_old = self.b\n",
    "                self.b = np.linalg.inv(self.X.T @ X_temp) @ X_temp.T @ z\n",
    "                betas.append(self.b)\n",
    "                # updating condition\n",
    "                cond = np.max(np.abs((beta_old - self.b) / beta_old))\n",
    "                # loss function after one iteration\n",
    "                p = logit.predict_proba(self, self.X)\n",
    "                loss.append(logit.cross_entrophy(self.y, p))\n",
    "                \n",
    "            elif method == \"IRLS3\":\n",
    "                p = logit.sigmoid(self.X @ self.b).reshape(-1,1)\n",
    "                W = p * (1 - p)# vector\n",
    "                X_temp = W * self.X\n",
    "                beta_old = self.b\n",
    "                self.b = self.b + np.linalg.inv(self.X.T @ X_temp) @ self.X.T @ (self.y - p)\n",
    "                betas.append(self.b)\n",
    "                # updating condition\n",
    "                cond = np.max(np.abs((beta_old - self.b) / beta_old))\n",
    "                # loss function after one iteration\n",
    "                p = logit.predict_proba(self, self.X)\n",
    "                loss.append(logit.cross_entrophy(self.y, p))\n",
    "                \n",
    "                \n",
    "                \n",
    "            if verbose == True:\n",
    "                print(\"iteration\", i, \"loss function value =\", loss[-1])\n",
    "                \n",
    "            i+=1\n",
    "            \n",
    "\n",
    "        #print(cond)\n",
    "        return loss, betas\n",
    "    "
   ]
  },
  {
   "cell_type": "code",
   "execution_count": 34,
   "metadata": {},
   "outputs": [
    {
     "name": "stdout",
     "output_type": "stream",
     "text": [
      "iteration 1 loss function value = 7207.808854742617\n",
      "iteration 2 loss function value = 7160.083708608063\n",
      "iteration 3 loss function value = 7113.009956846774\n",
      "iteration 4 loss function value = 7066.580398068734\n",
      "iteration 5 loss function value = 7020.787784965553\n",
      "iteration 6 loss function value = 6975.624830078514\n",
      "iteration 7 loss function value = 6931.084211449793\n",
      "iteration 8 loss function value = 6887.158578150477\n",
      "iteration 9 loss function value = 6843.840555679584\n",
      "iteration 10 loss function value = 6801.122751228897\n",
      "iteration 11 loss function value = 6758.997758808973\n",
      "iteration 12 loss function value = 6717.458164232257\n",
      "iteration 13 loss function value = 6676.496549949748\n",
      "iteration 14 loss function value = 6636.105499738275\n",
      "iteration 15 loss function value = 6596.277603235843\n",
      "iteration 16 loss function value = 6557.005460323108\n",
      "iteration 17 loss function value = 6518.281685349457\n",
      "iteration 18 loss function value = 6480.098911202645\n",
      "iteration 19 loss function value = 6442.44979322138\n",
      "iteration 20 loss function value = 6405.327012950661\n",
      "iteration 21 loss function value = 6368.723281740047\n",
      "iteration 22 loss function value = 6332.631344185458\n",
      "iteration 23 loss function value = 6297.043981415355\n",
      "iteration 24 loss function value = 6261.954014222608\n",
      "iteration 25 loss function value = 6227.3543060435295\n",
      "iteration 26 loss function value = 6193.237765785925\n",
      "iteration 27 loss function value = 6159.597350508198\n",
      "iteration 28 loss function value = 6126.426067951862\n",
      "iteration 29 loss function value = 6093.716978929935\n",
      "iteration 30 loss function value = 6061.463199573958\n",
      "iteration 31 loss function value = 6029.657903442513\n",
      "iteration 32 loss function value = 5998.294323494289\n",
      "iteration 33 loss function value = 5967.365753928856\n",
      "iteration 34 loss function value = 5936.8655518984715\n",
      "iteration 35 loss function value = 5906.78713909427\n",
      "iteration 36 loss function value = 5877.12400321034\n",
      "iteration 37 loss function value = 5847.869699289248\n",
      "iteration 38 loss function value = 5819.0178509525595\n",
      "iteration 39 loss function value = 5790.562151520056\n",
      "iteration 40 loss function value = 5762.496365021267\n",
      "iteration 41 loss function value = 5734.814327103031\n",
      "iteration 42 loss function value = 5707.509945836763\n",
      "iteration 43 loss function value = 5680.5772024290945\n",
      "iteration 44 loss function value = 5654.01015183958\n",
      "iteration 45 loss function value = 5627.802923309093\n",
      "iteration 46 loss function value = 5601.949720802503\n",
      "iteration 47 loss function value = 5576.444823369244\n",
      "iteration 48 loss function value = 5551.282585425253\n",
      "iteration 49 loss function value = 5526.457436959765\n",
      "iteration 50 loss function value = 5501.963883670375\n",
      "iteration 51 loss function value = 5477.796507029705\n",
      "iteration 52 loss function value = 5453.949964286964\n",
      "iteration 53 loss function value = 5430.418988407597\n",
      "iteration 54 loss function value = 5407.198387954172\n",
      "iteration 55 loss function value = 5384.283046911545\n",
      "iteration 56 loss function value = 5361.667924459287\n",
      "iteration 57 loss function value = 5339.3480546942865\n",
      "iteration 58 loss function value = 5317.318546306302\n",
      "iteration 59 loss function value = 5295.574582209237\n",
      "iteration 60 loss function value = 5274.111419130761\n",
      "iteration 61 loss function value = 5252.9243871628405\n",
      "iteration 62 loss function value = 5232.008889275666\n",
      "iteration 63 loss function value = 5211.360400797349\n",
      "iteration 64 loss function value = 5190.974468861719\n",
      "iteration 65 loss function value = 5170.846711826443\n",
      "iteration 66 loss function value = 5150.97281866358\n",
      "iteration 67 loss function value = 5131.348548324666\n",
      "iteration 68 loss function value = 5111.969729082295\n",
      "iteration 69 loss function value = 5092.832257850088\n",
      "iteration 70 loss function value = 5073.932099482876\n",
      "iteration 71 loss function value = 5055.26528605885\n",
      "iteration 72 loss function value = 5036.827916145335\n",
      "iteration 73 loss function value = 5018.616154049788\n",
      "iteration 74 loss function value = 5000.6262290575505\n",
      "iteration 75 loss function value = 4982.854434657797\n",
      "iteration 76 loss function value = 4965.297127759075\n",
      "iteration 77 loss function value = 4947.95072789576\n",
      "iteration 78 loss function value = 4930.811716426666\n",
      "iteration 79 loss function value = 4913.876635727023\n",
      "iteration 80 loss function value = 4897.142088374938\n",
      "iteration 81 loss function value = 4880.604736333423\n",
      "iteration 82 loss function value = 4864.261300129012\n",
      "iteration 83 loss function value = 4848.108558027908\n",
      "iteration 84 loss function value = 4832.1433452106\n",
      "iteration 85 loss function value = 4816.362552945788\n",
      "iteration 86 loss function value = 4800.763127764422\n",
      "iteration 87 loss function value = 4785.342070634652\n",
      "iteration 88 loss function value = 4770.096436138352\n",
      "iteration 89 loss function value = 4755.02333164994\n",
      "iteration 90 loss function value = 4740.119916518103\n",
      "iteration 91 loss function value = 4725.383401251017\n",
      "iteration 92 loss function value = 4710.811046705622\n",
      "iteration 93 loss function value = 4696.400163281469\n",
      "iteration 94 loss function value = 4682.148110119603\n",
      "iteration 95 loss function value = 4668.052294306964\n",
      "iteration 96 loss function value = 4654.110170086668\n",
      "iteration 97 loss function value = 4640.319238074607\n",
      "iteration 98 loss function value = 4626.677044482675\n",
      "iteration 99 loss function value = 4613.1811803489845\n",
      "iteration 100 loss function value = 4599.829280775337\n",
      "iteration 101 loss function value = 4586.619024172247\n",
      "iteration 102 loss function value = 4573.548131511763\n",
      "iteration 103 loss function value = 4560.614365588301\n",
      "iteration 104 loss function value = 4547.815530287702\n",
      "iteration 105 loss function value = 4535.1494698647075\n",
      "iteration 106 loss function value = 4522.614068228991\n",
      "iteration 107 loss function value = 4510.207248239918\n",
      "iteration 108 loss function value = 4497.926971010145\n",
      "iteration 109 loss function value = 4485.771235218172\n",
      "iteration 110 loss function value = 4473.7380764299405\n",
      "iteration 111 loss function value = 4461.825566429571\n",
      "iteration 112 loss function value = 4450.031812559286\n",
      "iteration 113 loss function value = 4438.35495706857\n",
      "iteration 114 loss function value = 4426.793176472644\n",
      "iteration 115 loss function value = 4415.34468092022\n",
      "iteration 116 loss function value = 4404.007713570616\n",
      "iteration 117 loss function value = 4392.780549980185\n",
      "iteration 118 loss function value = 4381.661497498098\n",
      "iteration 119 loss function value = 4370.648894671429\n",
      "iteration 120 loss function value = 4359.74111065956\n",
      "iteration 121 loss function value = 4348.936544657844\n",
      "iteration 122 loss function value = 4338.233625330509\n",
      "iteration 123 loss function value = 4327.630810252753\n",
      "iteration 124 loss function value = 4317.126585361981\n",
      "iteration 125 loss function value = 4306.719464418125\n",
      "iteration 126 loss function value = 4296.407988473\n",
      "iteration 127 loss function value = 4286.190725348599\n",
      "iteration 128 loss function value = 4276.066269124298\n",
      "iteration 129 loss function value = 4266.033239632851\n",
      "iteration 130 loss function value = 4256.090281965133\n",
      "iteration 131 loss function value = 4246.23606598352\n",
      "iteration 132 loss function value = 4236.469285843843\n",
      "iteration 133 loss function value = 4226.7886595258005\n",
      "iteration 134 loss function value = 4217.192928371764\n",
      "iteration 135 loss function value = 4207.680856633857\n",
      "iteration 136 loss function value = 4198.251231029231\n",
      "iteration 137 loss function value = 4188.902860303435\n",
      "iteration 138 loss function value = 4179.634574801748\n",
      "iteration 139 loss function value = 4170.445226048435\n",
      "GD accuracy: 0.8525\n",
      "GD recall: 0.7650262202501008\n",
      "GD precision: 0.9244455276626858\n",
      "GD F measure: 0.8372144354927713\n"
     ]
    }
   ],
   "source": [
    "#np.seterr(divide='ignore', invalid='ignore')\n",
    "model1 = logit(X, y ,add_intercept = True)\n",
    "loss1, betas1 = model1.fit(method = \"GD\", verbose = True, max_iter = 140, lr = 0.05, stop_condition = 0.00001 )\n",
    "print(\"GD accuracy:\", model1.accuracy(model1.X, model1.y))\n",
    "print(\"GD recall:\", model1.recall(model1.X, model1.y))\n",
    "print(\"GD precision:\", model1.precision(model1.X, model1.y))\n",
    "print(\"GD F measure:\", model1.f_measure(model1.X, model1.y))\n",
    "\n",
    "#print(betas1[-1])"
   ]
  },
  {
   "cell_type": "code",
   "execution_count": 33,
   "metadata": {},
   "outputs": [
    {
     "ename": "NameError",
     "evalue": "name 'X1_train' is not defined",
     "output_type": "error",
     "traceback": [
      "\u001b[1;31m---------------------------------------------------------------------------\u001b[0m",
      "\u001b[1;31mNameError\u001b[0m                                 Traceback (most recent call last)",
      "\u001b[1;32m<ipython-input-33-eca4238378fa>\u001b[0m in \u001b[0;36m<module>\u001b[1;34m\u001b[0m\n\u001b[1;32m----> 1\u001b[1;33m \u001b[0mmodel2\u001b[0m \u001b[1;33m=\u001b[0m \u001b[0mlogit\u001b[0m\u001b[1;33m(\u001b[0m\u001b[0mX1_train\u001b[0m\u001b[1;33m,\u001b[0m \u001b[0my1_train\u001b[0m \u001b[1;33m,\u001b[0m\u001b[0madd_intercept\u001b[0m \u001b[1;33m=\u001b[0m \u001b[1;32mTrue\u001b[0m\u001b[1;33m)\u001b[0m\u001b[1;33m\u001b[0m\u001b[1;33m\u001b[0m\u001b[0m\n\u001b[0m\u001b[0;32m      2\u001b[0m \u001b[0mloss2\u001b[0m\u001b[1;33m,\u001b[0m \u001b[0mbetas2\u001b[0m \u001b[1;33m=\u001b[0m \u001b[0mmodel2\u001b[0m\u001b[1;33m.\u001b[0m\u001b[0mfit\u001b[0m\u001b[1;33m(\u001b[0m\u001b[0mmethod\u001b[0m \u001b[1;33m=\u001b[0m \u001b[1;34m\"SGD\"\u001b[0m\u001b[1;33m,\u001b[0m \u001b[0mverbose\u001b[0m \u001b[1;33m=\u001b[0m \u001b[1;32mTrue\u001b[0m\u001b[1;33m,\u001b[0m \u001b[0mmax_iter\u001b[0m \u001b[1;33m=\u001b[0m \u001b[1;36m100\u001b[0m\u001b[1;33m,\u001b[0m \u001b[0mlr\u001b[0m \u001b[1;33m=\u001b[0m \u001b[1;36m0.01\u001b[0m\u001b[1;33m,\u001b[0m \u001b[0mstop_condition\u001b[0m \u001b[1;33m=\u001b[0m \u001b[1;36m0.00000001\u001b[0m\u001b[1;33m)\u001b[0m\u001b[1;33m\u001b[0m\u001b[1;33m\u001b[0m\u001b[0m\n\u001b[0;32m      3\u001b[0m \u001b[0mprint\u001b[0m\u001b[1;33m(\u001b[0m\u001b[1;34m\"SGD accuracy:\"\u001b[0m\u001b[1;33m,\u001b[0m \u001b[0mmodel2\u001b[0m\u001b[1;33m.\u001b[0m\u001b[0maccuracy\u001b[0m\u001b[1;33m(\u001b[0m\u001b[0mmodel2\u001b[0m\u001b[1;33m.\u001b[0m\u001b[0mX\u001b[0m\u001b[1;33m,\u001b[0m \u001b[0mmodel2\u001b[0m\u001b[1;33m.\u001b[0m\u001b[0my\u001b[0m\u001b[1;33m)\u001b[0m\u001b[1;33m)\u001b[0m\u001b[1;33m\u001b[0m\u001b[1;33m\u001b[0m\u001b[0m\n\u001b[0;32m      4\u001b[0m \u001b[0mprint\u001b[0m\u001b[1;33m(\u001b[0m\u001b[1;34m\"SGD recall:\"\u001b[0m\u001b[1;33m,\u001b[0m \u001b[0mmodel2\u001b[0m\u001b[1;33m.\u001b[0m\u001b[0mrecall\u001b[0m\u001b[1;33m(\u001b[0m\u001b[0mmodel2\u001b[0m\u001b[1;33m.\u001b[0m\u001b[0mX\u001b[0m\u001b[1;33m,\u001b[0m \u001b[0mmodel2\u001b[0m\u001b[1;33m.\u001b[0m\u001b[0my\u001b[0m\u001b[1;33m)\u001b[0m\u001b[1;33m)\u001b[0m\u001b[1;33m\u001b[0m\u001b[1;33m\u001b[0m\u001b[0m\n\u001b[0;32m      5\u001b[0m \u001b[0mprint\u001b[0m\u001b[1;33m(\u001b[0m\u001b[1;34m\"SGD precision:\"\u001b[0m\u001b[1;33m,\u001b[0m \u001b[0mmodel2\u001b[0m\u001b[1;33m.\u001b[0m\u001b[0mprecision\u001b[0m\u001b[1;33m(\u001b[0m\u001b[0mmodel2\u001b[0m\u001b[1;33m.\u001b[0m\u001b[0mX\u001b[0m\u001b[1;33m,\u001b[0m \u001b[0mmodel2\u001b[0m\u001b[1;33m.\u001b[0m\u001b[0my\u001b[0m\u001b[1;33m)\u001b[0m\u001b[1;33m)\u001b[0m\u001b[1;33m\u001b[0m\u001b[1;33m\u001b[0m\u001b[0m\n",
      "\u001b[1;31mNameError\u001b[0m: name 'X1_train' is not defined"
     ]
    }
   ],
   "source": [
    "model2 = logit(X1_train, y1_train ,add_intercept = True)\n",
    "loss2, betas2 = model2.fit(method = \"SGD\", verbose = True, max_iter = 100, lr = 0.01, stop_condition = 0.00000001)\n",
    "print(\"SGD accuracy:\", model2.accuracy(model2.X, model2.y))\n",
    "print(\"SGD recall:\", model2.recall(model2.X, model2.y))\n",
    "print(\"SGD precision:\", model2.precision(model2.X, model2.y))\n",
    "print(\"SGD F measure:\", model2.f_measure(model2.X, model2.y))"
   ]
  },
  {
   "cell_type": "code",
   "execution_count": 38,
   "metadata": {},
   "outputs": [
    {
     "ename": "KeyboardInterrupt",
     "evalue": "",
     "output_type": "error",
     "traceback": [
      "\u001b[1;31m---------------------------------------------------------------------------\u001b[0m",
      "\u001b[1;31mKeyboardInterrupt\u001b[0m                         Traceback (most recent call last)",
      "\u001b[1;32m<ipython-input-38-9107a8af7ab0>\u001b[0m in \u001b[0;36m<module>\u001b[1;34m\u001b[0m\n\u001b[0;32m      1\u001b[0m \u001b[0mmodel3\u001b[0m \u001b[1;33m=\u001b[0m \u001b[0mlogit\u001b[0m\u001b[1;33m(\u001b[0m\u001b[0mX\u001b[0m\u001b[1;33m,\u001b[0m \u001b[0my\u001b[0m\u001b[1;33m,\u001b[0m \u001b[0madd_intercept\u001b[0m \u001b[1;33m=\u001b[0m \u001b[1;32mTrue\u001b[0m\u001b[1;33m)\u001b[0m\u001b[1;33m\u001b[0m\u001b[1;33m\u001b[0m\u001b[0m\n\u001b[1;32m----> 2\u001b[1;33m \u001b[0mloss3\u001b[0m\u001b[1;33m,\u001b[0m \u001b[0mbetas3\u001b[0m \u001b[1;33m=\u001b[0m \u001b[0mmodel3\u001b[0m\u001b[1;33m.\u001b[0m\u001b[0mfit\u001b[0m\u001b[1;33m(\u001b[0m\u001b[0mmethod\u001b[0m \u001b[1;33m=\u001b[0m \u001b[1;34m\"IRLS\"\u001b[0m\u001b[1;33m,\u001b[0m \u001b[0mverbose\u001b[0m \u001b[1;33m=\u001b[0m \u001b[1;32mTrue\u001b[0m\u001b[1;33m,\u001b[0m \u001b[0mmax_iter\u001b[0m \u001b[1;33m=\u001b[0m \u001b[1;36m10\u001b[0m\u001b[1;33m,\u001b[0m \u001b[0mlr\u001b[0m \u001b[1;33m=\u001b[0m \u001b[1;36m0.01\u001b[0m\u001b[1;33m,\u001b[0m \u001b[0mstop_condition\u001b[0m \u001b[1;33m=\u001b[0m \u001b[1;36m0.0001\u001b[0m\u001b[1;33m)\u001b[0m\u001b[1;33m\u001b[0m\u001b[1;33m\u001b[0m\u001b[0m\n\u001b[0m\u001b[0;32m      3\u001b[0m \u001b[0mprint\u001b[0m\u001b[1;33m(\u001b[0m\u001b[1;34m\"IRLS accuracy:\"\u001b[0m\u001b[1;33m,\u001b[0m \u001b[0mmodel3\u001b[0m\u001b[1;33m.\u001b[0m\u001b[0maccuracy\u001b[0m\u001b[1;33m(\u001b[0m\u001b[0mmodel3\u001b[0m\u001b[1;33m.\u001b[0m\u001b[0mX\u001b[0m\u001b[1;33m,\u001b[0m \u001b[0mmodel3\u001b[0m\u001b[1;33m.\u001b[0m\u001b[0my\u001b[0m\u001b[1;33m)\u001b[0m\u001b[1;33m)\u001b[0m\u001b[1;33m\u001b[0m\u001b[1;33m\u001b[0m\u001b[0m\n\u001b[0;32m      4\u001b[0m \u001b[0mprint\u001b[0m\u001b[1;33m(\u001b[0m\u001b[1;34m\"IRLS recall:\"\u001b[0m\u001b[1;33m,\u001b[0m \u001b[0mmodel3\u001b[0m\u001b[1;33m.\u001b[0m\u001b[0mrecall\u001b[0m\u001b[1;33m(\u001b[0m\u001b[0mmodel3\u001b[0m\u001b[1;33m.\u001b[0m\u001b[0mX\u001b[0m\u001b[1;33m,\u001b[0m \u001b[0mmodel3\u001b[0m\u001b[1;33m.\u001b[0m\u001b[0my\u001b[0m\u001b[1;33m)\u001b[0m\u001b[1;33m)\u001b[0m\u001b[1;33m\u001b[0m\u001b[1;33m\u001b[0m\u001b[0m\n\u001b[0;32m      5\u001b[0m \u001b[0mprint\u001b[0m\u001b[1;33m(\u001b[0m\u001b[1;34m\"IRLS precision:\"\u001b[0m\u001b[1;33m,\u001b[0m \u001b[0mmodel3\u001b[0m\u001b[1;33m.\u001b[0m\u001b[0mprecision\u001b[0m\u001b[1;33m(\u001b[0m\u001b[0mmodel3\u001b[0m\u001b[1;33m.\u001b[0m\u001b[0mX\u001b[0m\u001b[1;33m,\u001b[0m \u001b[0mmodel3\u001b[0m\u001b[1;33m.\u001b[0m\u001b[0my\u001b[0m\u001b[1;33m)\u001b[0m\u001b[1;33m)\u001b[0m\u001b[1;33m\u001b[0m\u001b[1;33m\u001b[0m\u001b[0m\n",
      "\u001b[1;32m<ipython-input-31-693c15ba14da>\u001b[0m in \u001b[0;36mfit\u001b[1;34m(self, stop_condition, lr, method, verbose, max_iter)\u001b[0m\n\u001b[0;32m    196\u001b[0m                 \u001b[0mW\u001b[0m \u001b[1;33m=\u001b[0m \u001b[0mnp\u001b[0m\u001b[1;33m.\u001b[0m\u001b[0mdiag\u001b[0m\u001b[1;33m(\u001b[0m\u001b[0mnp\u001b[0m\u001b[1;33m.\u001b[0m\u001b[0mdiag\u001b[0m\u001b[1;33m(\u001b[0m\u001b[0mp\u001b[0m \u001b[1;33m@\u001b[0m \u001b[1;33m(\u001b[0m\u001b[1;36m1\u001b[0m \u001b[1;33m-\u001b[0m \u001b[0mp\u001b[0m\u001b[1;33m)\u001b[0m\u001b[1;33m.\u001b[0m\u001b[0mT\u001b[0m\u001b[1;33m)\u001b[0m\u001b[1;33m)\u001b[0m\u001b[1;33m\u001b[0m\u001b[1;33m\u001b[0m\u001b[0m\n\u001b[0;32m    197\u001b[0m                 \u001b[1;31m# T x 1 wector of transformed response variable\u001b[0m\u001b[1;33m\u001b[0m\u001b[1;33m\u001b[0m\u001b[1;33m\u001b[0m\u001b[0m\n\u001b[1;32m--> 198\u001b[1;33m                 \u001b[0mz\u001b[0m \u001b[1;33m=\u001b[0m \u001b[0mself\u001b[0m\u001b[1;33m.\u001b[0m\u001b[0mX\u001b[0m \u001b[1;33m@\u001b[0m \u001b[0mself\u001b[0m\u001b[1;33m.\u001b[0m\u001b[0mb\u001b[0m \u001b[1;33m+\u001b[0m \u001b[0mnp\u001b[0m\u001b[1;33m.\u001b[0m\u001b[0mlinalg\u001b[0m\u001b[1;33m.\u001b[0m\u001b[0minv\u001b[0m\u001b[1;33m(\u001b[0m\u001b[0mW\u001b[0m\u001b[1;33m)\u001b[0m \u001b[1;33m@\u001b[0m \u001b[1;33m(\u001b[0m\u001b[0mself\u001b[0m\u001b[1;33m.\u001b[0m\u001b[0my\u001b[0m \u001b[1;33m-\u001b[0m \u001b[0mp\u001b[0m\u001b[1;33m)\u001b[0m\u001b[1;33m\u001b[0m\u001b[1;33m\u001b[0m\u001b[0m\n\u001b[0m\u001b[0;32m    199\u001b[0m \u001b[1;33m\u001b[0m\u001b[0m\n\u001b[0;32m    200\u001b[0m                 \u001b[1;31m# updating beta\u001b[0m\u001b[1;33m\u001b[0m\u001b[1;33m\u001b[0m\u001b[1;33m\u001b[0m\u001b[0m\n",
      "\u001b[1;32m<__array_function__ internals>\u001b[0m in \u001b[0;36minv\u001b[1;34m(*args, **kwargs)\u001b[0m\n",
      "\u001b[1;32mc:\\users\\mmarz\\appdata\\local\\programs\\python\\python37\\lib\\site-packages\\numpy\\linalg\\linalg.py\u001b[0m in \u001b[0;36minv\u001b[1;34m(a)\u001b[0m\n\u001b[0;32m    549\u001b[0m     \u001b[0msignature\u001b[0m \u001b[1;33m=\u001b[0m \u001b[1;34m'D->D'\u001b[0m \u001b[1;32mif\u001b[0m \u001b[0misComplexType\u001b[0m\u001b[1;33m(\u001b[0m\u001b[0mt\u001b[0m\u001b[1;33m)\u001b[0m \u001b[1;32melse\u001b[0m \u001b[1;34m'd->d'\u001b[0m\u001b[1;33m\u001b[0m\u001b[1;33m\u001b[0m\u001b[0m\n\u001b[0;32m    550\u001b[0m     \u001b[0mextobj\u001b[0m \u001b[1;33m=\u001b[0m \u001b[0mget_linalg_error_extobj\u001b[0m\u001b[1;33m(\u001b[0m\u001b[0m_raise_linalgerror_singular\u001b[0m\u001b[1;33m)\u001b[0m\u001b[1;33m\u001b[0m\u001b[1;33m\u001b[0m\u001b[0m\n\u001b[1;32m--> 551\u001b[1;33m     \u001b[0mainv\u001b[0m \u001b[1;33m=\u001b[0m \u001b[0m_umath_linalg\u001b[0m\u001b[1;33m.\u001b[0m\u001b[0minv\u001b[0m\u001b[1;33m(\u001b[0m\u001b[0ma\u001b[0m\u001b[1;33m,\u001b[0m \u001b[0msignature\u001b[0m\u001b[1;33m=\u001b[0m\u001b[0msignature\u001b[0m\u001b[1;33m,\u001b[0m \u001b[0mextobj\u001b[0m\u001b[1;33m=\u001b[0m\u001b[0mextobj\u001b[0m\u001b[1;33m)\u001b[0m\u001b[1;33m\u001b[0m\u001b[1;33m\u001b[0m\u001b[0m\n\u001b[0m\u001b[0;32m    552\u001b[0m     \u001b[1;32mreturn\u001b[0m \u001b[0mwrap\u001b[0m\u001b[1;33m(\u001b[0m\u001b[0mainv\u001b[0m\u001b[1;33m.\u001b[0m\u001b[0mastype\u001b[0m\u001b[1;33m(\u001b[0m\u001b[0mresult_t\u001b[0m\u001b[1;33m,\u001b[0m \u001b[0mcopy\u001b[0m\u001b[1;33m=\u001b[0m\u001b[1;32mFalse\u001b[0m\u001b[1;33m)\u001b[0m\u001b[1;33m)\u001b[0m\u001b[1;33m\u001b[0m\u001b[1;33m\u001b[0m\u001b[0m\n\u001b[0;32m    553\u001b[0m \u001b[1;33m\u001b[0m\u001b[0m\n",
      "\u001b[1;31mKeyboardInterrupt\u001b[0m: "
     ]
    }
   ],
   "source": [
    "model3 = logit(X, y, add_intercept = True)\n",
    "loss3, betas3 = model3.fit(method = \"IRLS\", verbose = True, max_iter = 10, lr = 0.01, stop_condition = 0.0001)\n",
    "print(\"IRLS accuracy:\", model3.accuracy(model3.X, model3.y))\n",
    "print(\"IRLS recall:\", model3.recall(model3.X, model3.y))\n",
    "print(\"IRLS precision:\", model3.precision(model3.X, model3.y))\n",
    "print(\"IRLS F measure:\", model3.f_measure(model3.X, model3.y))"
   ]
  },
  {
   "cell_type": "code",
   "execution_count": 46,
   "metadata": {},
   "outputs": [
    {
     "data": {
      "text/plain": [
       "array([[ 1., 60., 70., ...,  0.,  1.,  0.],\n",
       "       [ 1., 50., 55., ...,  0.,  0.,  0.],\n",
       "       [ 1., 50., 60., ...,  1.,  0.,  0.],\n",
       "       ...,\n",
       "       [ 1., 50., 50., ...,  0.,  0.,  1.],\n",
       "       [ 1., 53., 60., ...,  0.,  1.,  0.],\n",
       "       [ 1., 70., 65., ...,  0.,  0.,  0.]])"
      ]
     },
     "execution_count": 46,
     "metadata": {},
     "output_type": "execute_result"
    }
   ],
   "source": [
    "model3.X"
   ]
  },
  {
   "cell_type": "code",
   "execution_count": 47,
   "metadata": {},
   "outputs": [
    {
     "name": "stderr",
     "output_type": "stream",
     "text": [
      "c:\\users\\mmarz\\appdata\\local\\programs\\python\\python37\\lib\\site-packages\\ipykernel_launcher.py:25: RuntimeWarning: overflow encountered in exp\n"
     ]
    },
    {
     "ename": "LinAlgError",
     "evalue": "Singular matrix",
     "output_type": "error",
     "traceback": [
      "\u001b[1;31m---------------------------------------------------------------------------\u001b[0m",
      "\u001b[1;31mLinAlgError\u001b[0m                               Traceback (most recent call last)",
      "\u001b[1;32m<ipython-input-47-7a6bc0310503>\u001b[0m in \u001b[0;36m<module>\u001b[1;34m\u001b[0m\n\u001b[0;32m      1\u001b[0m \u001b[0mmodel3\u001b[0m \u001b[1;33m=\u001b[0m \u001b[0mlogit\u001b[0m\u001b[1;33m(\u001b[0m\u001b[0mX1_train\u001b[0m\u001b[1;33m,\u001b[0m \u001b[0my1_train\u001b[0m\u001b[1;33m,\u001b[0m \u001b[0madd_intercept\u001b[0m \u001b[1;33m=\u001b[0m \u001b[1;32mFalse\u001b[0m\u001b[1;33m)\u001b[0m\u001b[1;33m\u001b[0m\u001b[1;33m\u001b[0m\u001b[0m\n\u001b[1;32m----> 2\u001b[1;33m \u001b[0mloss3\u001b[0m\u001b[1;33m,\u001b[0m \u001b[0mbetas3\u001b[0m \u001b[1;33m=\u001b[0m \u001b[0mmodel3\u001b[0m\u001b[1;33m.\u001b[0m\u001b[0mfit\u001b[0m\u001b[1;33m(\u001b[0m\u001b[0mmethod\u001b[0m \u001b[1;33m=\u001b[0m \u001b[1;34m\"IRLS3\"\u001b[0m\u001b[1;33m,\u001b[0m \u001b[0mverbose\u001b[0m \u001b[1;33m=\u001b[0m \u001b[1;32mTrue\u001b[0m\u001b[1;33m,\u001b[0m \u001b[0mmax_iter\u001b[0m \u001b[1;33m=\u001b[0m \u001b[1;36m10\u001b[0m\u001b[1;33m,\u001b[0m \u001b[0mlr\u001b[0m \u001b[1;33m=\u001b[0m \u001b[1;36m0.01\u001b[0m\u001b[1;33m,\u001b[0m \u001b[0mstop_condition\u001b[0m \u001b[1;33m=\u001b[0m \u001b[1;36m0.0001\u001b[0m\u001b[1;33m)\u001b[0m\u001b[1;33m\u001b[0m\u001b[1;33m\u001b[0m\u001b[0m\n\u001b[0m\u001b[0;32m      3\u001b[0m \u001b[0mprint\u001b[0m\u001b[1;33m(\u001b[0m\u001b[1;34m\"IRLS accuracy:\"\u001b[0m\u001b[1;33m,\u001b[0m \u001b[0mmodel3\u001b[0m\u001b[1;33m.\u001b[0m\u001b[0maccuracy\u001b[0m\u001b[1;33m(\u001b[0m\u001b[0mmodel3\u001b[0m\u001b[1;33m.\u001b[0m\u001b[0mX\u001b[0m\u001b[1;33m,\u001b[0m \u001b[0mmodel3\u001b[0m\u001b[1;33m.\u001b[0m\u001b[0my\u001b[0m\u001b[1;33m)\u001b[0m\u001b[1;33m)\u001b[0m\u001b[1;33m\u001b[0m\u001b[1;33m\u001b[0m\u001b[0m\n\u001b[0;32m      4\u001b[0m \u001b[0mprint\u001b[0m\u001b[1;33m(\u001b[0m\u001b[1;34m\"IRLS recall:\"\u001b[0m\u001b[1;33m,\u001b[0m \u001b[0mmodel3\u001b[0m\u001b[1;33m.\u001b[0m\u001b[0mrecall\u001b[0m\u001b[1;33m(\u001b[0m\u001b[0mmodel3\u001b[0m\u001b[1;33m.\u001b[0m\u001b[0mX\u001b[0m\u001b[1;33m,\u001b[0m \u001b[0mmodel3\u001b[0m\u001b[1;33m.\u001b[0m\u001b[0my\u001b[0m\u001b[1;33m)\u001b[0m\u001b[1;33m)\u001b[0m\u001b[1;33m\u001b[0m\u001b[1;33m\u001b[0m\u001b[0m\n\u001b[0;32m      5\u001b[0m \u001b[0mprint\u001b[0m\u001b[1;33m(\u001b[0m\u001b[1;34m\"IRLS precision:\"\u001b[0m\u001b[1;33m,\u001b[0m \u001b[0mmodel3\u001b[0m\u001b[1;33m.\u001b[0m\u001b[0mprecision\u001b[0m\u001b[1;33m(\u001b[0m\u001b[0mmodel3\u001b[0m\u001b[1;33m.\u001b[0m\u001b[0mX\u001b[0m\u001b[1;33m,\u001b[0m \u001b[0mmodel3\u001b[0m\u001b[1;33m.\u001b[0m\u001b[0my\u001b[0m\u001b[1;33m)\u001b[0m\u001b[1;33m)\u001b[0m\u001b[1;33m\u001b[0m\u001b[1;33m\u001b[0m\u001b[0m\n",
      "\u001b[1;32m<ipython-input-31-693c15ba14da>\u001b[0m in \u001b[0;36mfit\u001b[1;34m(self, stop_condition, lr, method, verbose, max_iter)\u001b[0m\n\u001b[0;32m    230\u001b[0m                 \u001b[0mX_temp\u001b[0m \u001b[1;33m=\u001b[0m \u001b[0mW\u001b[0m \u001b[1;33m*\u001b[0m \u001b[0mself\u001b[0m\u001b[1;33m.\u001b[0m\u001b[0mX\u001b[0m\u001b[1;33m\u001b[0m\u001b[1;33m\u001b[0m\u001b[0m\n\u001b[0;32m    231\u001b[0m                 \u001b[0mbeta_old\u001b[0m \u001b[1;33m=\u001b[0m \u001b[0mself\u001b[0m\u001b[1;33m.\u001b[0m\u001b[0mb\u001b[0m\u001b[1;33m\u001b[0m\u001b[1;33m\u001b[0m\u001b[0m\n\u001b[1;32m--> 232\u001b[1;33m                 \u001b[0mself\u001b[0m\u001b[1;33m.\u001b[0m\u001b[0mb\u001b[0m \u001b[1;33m=\u001b[0m \u001b[0mself\u001b[0m\u001b[1;33m.\u001b[0m\u001b[0mb\u001b[0m \u001b[1;33m+\u001b[0m \u001b[0mnp\u001b[0m\u001b[1;33m.\u001b[0m\u001b[0mlinalg\u001b[0m\u001b[1;33m.\u001b[0m\u001b[0minv\u001b[0m\u001b[1;33m(\u001b[0m\u001b[0mself\u001b[0m\u001b[1;33m.\u001b[0m\u001b[0mX\u001b[0m\u001b[1;33m.\u001b[0m\u001b[0mT\u001b[0m \u001b[1;33m@\u001b[0m \u001b[0mX_temp\u001b[0m\u001b[1;33m)\u001b[0m \u001b[1;33m@\u001b[0m \u001b[0mself\u001b[0m\u001b[1;33m.\u001b[0m\u001b[0mX\u001b[0m\u001b[1;33m.\u001b[0m\u001b[0mT\u001b[0m \u001b[1;33m@\u001b[0m \u001b[1;33m(\u001b[0m\u001b[0mself\u001b[0m\u001b[1;33m.\u001b[0m\u001b[0my\u001b[0m \u001b[1;33m-\u001b[0m \u001b[0mp\u001b[0m\u001b[1;33m)\u001b[0m\u001b[1;33m\u001b[0m\u001b[1;33m\u001b[0m\u001b[0m\n\u001b[0m\u001b[0;32m    233\u001b[0m                 \u001b[0mbetas\u001b[0m\u001b[1;33m.\u001b[0m\u001b[0mappend\u001b[0m\u001b[1;33m(\u001b[0m\u001b[0mself\u001b[0m\u001b[1;33m.\u001b[0m\u001b[0mb\u001b[0m\u001b[1;33m)\u001b[0m\u001b[1;33m\u001b[0m\u001b[1;33m\u001b[0m\u001b[0m\n\u001b[0;32m    234\u001b[0m                 \u001b[1;31m# updating condition\u001b[0m\u001b[1;33m\u001b[0m\u001b[1;33m\u001b[0m\u001b[1;33m\u001b[0m\u001b[0m\n",
      "\u001b[1;32m<__array_function__ internals>\u001b[0m in \u001b[0;36minv\u001b[1;34m(*args, **kwargs)\u001b[0m\n",
      "\u001b[1;32mc:\\users\\mmarz\\appdata\\local\\programs\\python\\python37\\lib\\site-packages\\numpy\\linalg\\linalg.py\u001b[0m in \u001b[0;36minv\u001b[1;34m(a)\u001b[0m\n\u001b[0;32m    549\u001b[0m     \u001b[0msignature\u001b[0m \u001b[1;33m=\u001b[0m \u001b[1;34m'D->D'\u001b[0m \u001b[1;32mif\u001b[0m \u001b[0misComplexType\u001b[0m\u001b[1;33m(\u001b[0m\u001b[0mt\u001b[0m\u001b[1;33m)\u001b[0m \u001b[1;32melse\u001b[0m \u001b[1;34m'd->d'\u001b[0m\u001b[1;33m\u001b[0m\u001b[1;33m\u001b[0m\u001b[0m\n\u001b[0;32m    550\u001b[0m     \u001b[0mextobj\u001b[0m \u001b[1;33m=\u001b[0m \u001b[0mget_linalg_error_extobj\u001b[0m\u001b[1;33m(\u001b[0m\u001b[0m_raise_linalgerror_singular\u001b[0m\u001b[1;33m)\u001b[0m\u001b[1;33m\u001b[0m\u001b[1;33m\u001b[0m\u001b[0m\n\u001b[1;32m--> 551\u001b[1;33m     \u001b[0mainv\u001b[0m \u001b[1;33m=\u001b[0m \u001b[0m_umath_linalg\u001b[0m\u001b[1;33m.\u001b[0m\u001b[0minv\u001b[0m\u001b[1;33m(\u001b[0m\u001b[0ma\u001b[0m\u001b[1;33m,\u001b[0m \u001b[0msignature\u001b[0m\u001b[1;33m=\u001b[0m\u001b[0msignature\u001b[0m\u001b[1;33m,\u001b[0m \u001b[0mextobj\u001b[0m\u001b[1;33m=\u001b[0m\u001b[0mextobj\u001b[0m\u001b[1;33m)\u001b[0m\u001b[1;33m\u001b[0m\u001b[1;33m\u001b[0m\u001b[0m\n\u001b[0m\u001b[0;32m    552\u001b[0m     \u001b[1;32mreturn\u001b[0m \u001b[0mwrap\u001b[0m\u001b[1;33m(\u001b[0m\u001b[0mainv\u001b[0m\u001b[1;33m.\u001b[0m\u001b[0mastype\u001b[0m\u001b[1;33m(\u001b[0m\u001b[0mresult_t\u001b[0m\u001b[1;33m,\u001b[0m \u001b[0mcopy\u001b[0m\u001b[1;33m=\u001b[0m\u001b[1;32mFalse\u001b[0m\u001b[1;33m)\u001b[0m\u001b[1;33m)\u001b[0m\u001b[1;33m\u001b[0m\u001b[1;33m\u001b[0m\u001b[0m\n\u001b[0;32m    553\u001b[0m \u001b[1;33m\u001b[0m\u001b[0m\n",
      "\u001b[1;32mc:\\users\\mmarz\\appdata\\local\\programs\\python\\python37\\lib\\site-packages\\numpy\\linalg\\linalg.py\u001b[0m in \u001b[0;36m_raise_linalgerror_singular\u001b[1;34m(err, flag)\u001b[0m\n\u001b[0;32m     95\u001b[0m \u001b[1;33m\u001b[0m\u001b[0m\n\u001b[0;32m     96\u001b[0m \u001b[1;32mdef\u001b[0m \u001b[0m_raise_linalgerror_singular\u001b[0m\u001b[1;33m(\u001b[0m\u001b[0merr\u001b[0m\u001b[1;33m,\u001b[0m \u001b[0mflag\u001b[0m\u001b[1;33m)\u001b[0m\u001b[1;33m:\u001b[0m\u001b[1;33m\u001b[0m\u001b[1;33m\u001b[0m\u001b[0m\n\u001b[1;32m---> 97\u001b[1;33m     \u001b[1;32mraise\u001b[0m \u001b[0mLinAlgError\u001b[0m\u001b[1;33m(\u001b[0m\u001b[1;34m\"Singular matrix\"\u001b[0m\u001b[1;33m)\u001b[0m\u001b[1;33m\u001b[0m\u001b[1;33m\u001b[0m\u001b[0m\n\u001b[0m\u001b[0;32m     98\u001b[0m \u001b[1;33m\u001b[0m\u001b[0m\n\u001b[0;32m     99\u001b[0m \u001b[1;32mdef\u001b[0m \u001b[0m_raise_linalgerror_nonposdef\u001b[0m\u001b[1;33m(\u001b[0m\u001b[0merr\u001b[0m\u001b[1;33m,\u001b[0m \u001b[0mflag\u001b[0m\u001b[1;33m)\u001b[0m\u001b[1;33m:\u001b[0m\u001b[1;33m\u001b[0m\u001b[1;33m\u001b[0m\u001b[0m\n",
      "\u001b[1;31mLinAlgError\u001b[0m: Singular matrix"
     ]
    }
   ],
   "source": [
    "model3 = logit(X1_train, y1_train, add_intercept = True)\n",
    "loss3, betas3 = model3.fit(method = \"IRLS3\", verbose = True, max_iter = 10, lr = 0.01, stop_condition = 0.0001)\n",
    "print(\"IRLS accuracy:\", model3.accuracy(model3.X, model3.y))\n",
    "print(\"IRLS recall:\", model3.recall(model3.X, model3.y))\n",
    "print(\"IRLS precision:\", model3.precision(model3.X, model3.y))\n",
    "print(\"IRLS F measure:\", model3.f_measure(model3.X, model3.y))"
   ]
  },
  {
   "cell_type": "code",
   "execution_count": 214,
   "metadata": {},
   "outputs": [
    {
     "name": "stdout",
     "output_type": "stream",
     "text": [
      "(3, 2) (112, 3)\n",
      "0.004244812608449361\n",
      "iteration 1 loss function value = -263.3469319750888\n",
      "(3, 2) (112, 3)\n",
      "0.004226889136442209\n",
      "iteration 2 loss function value = -264.2262490049628\n",
      "(3, 2) (112, 3)\n",
      "0.004209116464545004\n",
      "iteration 3 loss function value = -265.1072253545466\n",
      "(3, 2) (112, 3)\n",
      "0.004191492697569943\n",
      "iteration 4 loss function value = -265.9898434061578\n",
      "(3, 2) (112, 3)\n",
      "0.004174015971953638\n",
      "iteration 5 loss function value = -266.8740856882573\n",
      "(3, 2) (112, 3)\n",
      "0.004156684455101067\n",
      "iteration 6 loss function value = -267.75993487525653\n",
      "(3, 2) (112, 3)\n",
      "0.004139496344743989\n",
      "iteration 7 loss function value = -268.6473737872956\n",
      "(3, 2) (112, 3)\n",
      "0.004122449868317153\n",
      "iteration 8 loss function value = -269.5363853899944\n",
      "(3, 2) (112, 3)\n",
      "0.0041055432823481775\n",
      "iteration 9 loss function value = -270.426952794176\n",
      "(3, 2) (112, 3)\n",
      "0.004088774871863595\n",
      "iteration 10 loss function value = -271.31905925556396\n",
      "(3, 2) (112, 3)\n",
      "0.004072142949808557\n",
      "iteration 11 loss function value = -272.21268817445394\n",
      "(3, 2) (112, 3)\n",
      "0.00405564585648125\n",
      "iteration 12 loss function value = -273.10782309536063\n",
      "(3, 2) (112, 3)\n",
      "0.004039281958980655\n",
      "iteration 13 loss function value = -274.0044477066402\n",
      "(3, 2) (112, 3)\n",
      "0.00402304965066775\n",
      "iteration 14 loss function value = -274.90254584008983\n",
      "(3, 2) (112, 3)\n",
      "0.004006947350639889\n",
      "iteration 15 loss function value = -275.80210147052463\n",
      "(3, 2) (112, 3)\n",
      "0.00399097350321718\n",
      "iteration 16 loss function value = -276.70309871533135\n",
      "(3, 2) (112, 3)\n",
      "0.003975126577441451\n",
      "iteration 17 loss function value = -277.60552183400307\n",
      "(3, 2) (112, 3)\n",
      "0.0039594050665875844\n",
      "iteration 18 loss function value = -278.5093552276511\n",
      "(3, 2) (112, 3)\n",
      "0.0039438074876853545\n",
      "iteration 19 loss function value = -279.4145834384982\n",
      "(3, 2) (112, 3)\n",
      "0.003928332381053695\n",
      "iteration 20 loss function value = -280.3211911493525\n",
      "(3, 2) (112, 3)\n",
      "0.003912978309844735\n",
      "iteration 21 loss function value = -281.22916318306216\n",
      "(3, 2) (112, 3)\n",
      "0.0038977438595993\n",
      "iteration 22 loss function value = -282.1384845019525\n",
      "(3, 2) (112, 3)\n",
      "0.003882627637812873\n",
      "iteration 23 loss function value = -283.0491402072462\n",
      "(3, 2) (112, 3)\n",
      "0.0038676282735107133\n",
      "iteration 24 loss function value = -283.9611155384658\n",
      "(3, 2) (112, 3)\n",
      "0.0038527444168336973\n",
      "iteration 25 loss function value = -284.8743958728211\n",
      "(3, 2) (112, 3)\n",
      "0.0038379747386332406\n",
      "iteration 26 loss function value = -285.78896672458023\n",
      "(3, 2) (112, 3)\n",
      "0.0038233179300757284\n",
      "iteration 27 loss function value = -286.7048137444265\n",
      "(3, 2) (112, 3)\n",
      "0.0038087727022557603\n",
      "iteration 28 loss function value = -287.62192271880014\n",
      "(3, 2) (112, 3)\n",
      "0.003794337785818304\n",
      "iteration 29 loss function value = -288.54027956922704\n",
      "(3, 2) (112, 3)\n",
      "0.0037800119305895267\n",
      "iteration 30 loss function value = -289.4598703516337\n",
      "(3, 2) (112, 3)\n",
      "0.0037657939052156268\n",
      "iteration 31 loss function value = -290.38068125564956\n",
      "(3, 2) (112, 3)\n",
      "0.003751682496810455\n",
      "iteration 32 loss function value = -291.3026986038976\n",
      "(3, 2) (112, 3)\n",
      "0.0037376765106099364\n",
      "iteration 33 loss function value = -292.2259088512727\n",
      "(3, 2) (112, 3)\n",
      "0.0037237747696353\n",
      "iteration 34 loss function value = -293.1502985842091\n",
      "(3, 2) (112, 3)\n",
      "0.0037099761143637978\n",
      "iteration 35 loss function value = -294.07585451993754\n",
      "(3, 2) (112, 3)\n",
      "0.003696279402404778\n",
      "iteration 36 loss function value = -295.00256350573164\n",
      "(3, 2) (112, 3)\n",
      "0.003682683508186575\n",
      "iteration 37 loss function value = -295.93041251814566\n",
      "(3, 2) (112, 3)\n",
      "0.0036691873226459885\n",
      "iteration 38 loss function value = -296.85938866224126\n",
      "(3, 2) (112, 3)\n",
      "0.0036557897529284305\n",
      "iteration 39 loss function value = -297.7894791708079\n",
      "GD accuracy: 0.10714285714285714\n",
      "GD recall: 0.5283018867924528\n",
      "GD precision: 0.5283018867924528\n",
      "GD F measure: 0.5283018867924528\n"
     ]
    }
   ],
   "source": [
    "#np.seterr(divide='ignore', invalid='ignore')\n",
    "model_multi_1 = logit(X_multi_train, Y_multi_train ,add_intercept = True)\n",
    "loss_multi_1, betas_multi_1 = model_multi_1.fit(method = \"GD\", verbose = True, max_iter = 40, lr = 0.005, stop_condition = 0.00001 )\n",
    "print(\"GD accuracy:\", model_multi_1.accuracy(model_multi_1.X, model_multi_1.y))\n",
    "print(\"GD recall:\", model_multi_1.recall(model_multi_1.X, model_multi_1.y))\n",
    "print(\"GD precision:\", model_multi_1.precision(model_multi_1.X, model_multi_1.y))\n",
    "print(\"GD F measure:\", model_multi_1.f_measure(model_multi_1.X, model_multi_1.y))\n",
    "\n",
    "#print(betas1[-1])"
   ]
  },
  {
   "cell_type": "code",
   "execution_count": 215,
   "metadata": {},
   "outputs": [
    {
     "name": "stdout",
     "output_type": "stream",
     "text": [
      "0.00804212519196098\n",
      "iteration 1 loss function value = 268.8023273107559\n",
      "0.004529089670992998\n",
      "iteration 2 loss function value = 278.10332740716893\n",
      "0.002324101306026164\n",
      "iteration 3 loss function value = 287.9303580854822\n",
      "0.001408790515726595\n",
      "iteration 4 loss function value = 299.9770255390786\n",
      "0.001719435736246789\n",
      "iteration 5 loss function value = 315.8695593564507\n",
      "0.002015141619160097\n",
      "iteration 6 loss function value = 334.87921210321304\n",
      "0.002222443230319943\n",
      "iteration 7 loss function value = 355.8502264416003\n",
      "0.0023199370332149913\n",
      "iteration 8 loss function value = 377.76818270800186\n",
      "0.002328100914976225\n",
      "iteration 9 loss function value = 399.93112900849906\n",
      "0.002280330391739303\n",
      "iteration 10 loss function value = 421.9174387745422\n",
      "0.002204243754711037\n",
      "iteration 11 loss function value = 443.49803544160875\n",
      "0.0021173798769184727\n",
      "iteration 12 loss function value = 464.5603643749671\n",
      "0.0020293312310508353\n",
      "iteration 13 loss function value = 485.05788608736543\n",
      "0.001944774393991593\n",
      "iteration 14 loss function value = 504.9801240518581\n",
      "0.001865678595639745\n",
      "iteration 15 loss function value = 524.3357878110749\n",
      "0.0017926237184476355\n",
      "iteration 16 loss function value = 543.1434461640007\n",
      "0.0017255197495239286\n",
      "iteration 17 loss function value = 561.4263905644059\n",
      "0.0016639813059465918\n",
      "iteration 18 loss function value = 579.2097996100349\n",
      "0.0016075162011482632\n",
      "iteration 19 loss function value = 596.5191731995237\n",
      "0.0015556169374755634\n",
      "iteration 20 loss function value = 613.3794757338835\n",
      "0.0015078024643048686\n",
      "iteration 21 loss function value = 629.8146809471419\n",
      "0.0014636348792127288\n",
      "iteration 22 loss function value = 645.8475471525954\n",
      "0.0014227238098859791\n",
      "iteration 23 loss function value = 661.4995257794594\n",
      "0.001384725008346296\n",
      "iteration 24 loss function value = 676.7907470661471\n",
      "0.001349336476203221\n",
      "iteration 25 loss function value = 691.7400499063317\n",
      "0.0013162937775179318\n",
      "iteration 26 loss function value = 706.365036163977\n",
      "0.0012853653371275916\n",
      "iteration 27 loss function value = 720.6821375976834\n",
      "0.0012563480810452966\n",
      "iteration 28 loss function value = 734.7066882156752\n",
      "0.001229063551964561\n",
      "iteration 29 loss function value = 748.4529977289794\n",
      "0.0012033545228632963\n",
      "iteration 30 loss function value = 761.9344235244492\n",
      "0.0011790820807088187\n",
      "iteration 31 loss function value = 775.1634396714251\n",
      "0.0011561231316245166\n",
      "iteration 32 loss function value = 788.1517021599665\n",
      "0.0011343682734416608\n",
      "iteration 33 loss function value = 800.91010999778\n",
      "0.0011137199833953916\n",
      "iteration 34 loss function value = 813.4488620606794\n",
      "0.0010940910736690615\n",
      "iteration 35 loss function value = 825.7775097560389\n",
      "0.0010754033734521322\n",
      "iteration 36 loss function value = 837.9050056569813\n",
      "0.0010575866020956688\n",
      "iteration 37 loss function value = 849.8397483205174\n",
      "0.0010405774033991374\n",
      "iteration 38 loss function value = 861.5896235306624\n",
      "0.0010243185158292168\n",
      "iteration 39 loss function value = 873.1620422177853\n",
      "0.0010087580575779134\n",
      "iteration 40 loss function value = 884.563975304367\n",
      "0.0009938489088149476\n",
      "iteration 41 loss function value = 895.8019857195161\n",
      "0.0009795481763975814\n",
      "iteration 42 loss function value = 906.8822578126512\n",
      "0.0009658167287009847\n",
      "iteration 43 loss function value = 917.810624382592\n",
      "0.0009526187902413905\n",
      "iteration 44 loss function value = 928.5925915233738\n",
      "0.0009399215874233743\n",
      "iteration 45 loss function value = 939.233361472747\n",
      "0.000927695038121098\n",
      "iteration 46 loss function value = 949.7378536345851\n",
      "0.0009159114789452639\n",
      "iteration 47 loss function value = 960.1107239321275\n",
      "0.0009045454250020269\n",
      "iteration 48 loss function value = 970.3563826356027\n",
      "0.0008935733577418217\n",
      "iteration 49 loss function value = 980.4790107953008\n",
      "0.0008829735371551354\n",
      "iteration 50 loss function value = 990.4825753995826\n",
      "0.0008727258351302856\n",
      "iteration 51 loss function value = 1000.3708433666601\n",
      "0.0008628115872485802\n",
      "iteration 52 loss function value = 1010.147394469382\n",
      "0.000853213460685582\n",
      "iteration 53 loss function value = 1019.815633283009\n",
      "0.000843915336215982\n",
      "iteration 54 loss function value = 1029.3788002383371\n",
      "0.000834902202595956\n",
      "iteration 55 loss function value = 1038.8399818547543\n",
      "0.0008261600618355814\n",
      "iteration 56 loss function value = 1048.2021202211952\n",
      "0.0008176758440734822\n",
      "iteration 57 loss function value = 1057.4680217871512\n",
      "0.0008094373309354591\n",
      "iteration 58 loss function value = 1066.640365519881\n",
      "0.0008014330864051855\n",
      "iteration 59 loss function value = 1075.7217104794586\n",
      "0.0007936523943625103\n",
      "iteration 60 loss function value = 1084.714502858401\n",
      "0.000786085202047022\n",
      "iteration 61 loss function value = 1093.6210825286657\n",
      "0.0007787220688026513\n",
      "iteration 62 loss function value = 1102.4436891350474\n",
      "0.0007715541195323568\n",
      "iteration 63 loss function value = 1111.1844677705858\n",
      "0.0007645730023671408\n",
      "iteration 64 loss function value = 1119.8454742665901\n",
      "0.0007577708501069375\n",
      "iteration 65 loss function value = 1128.428680127018\n",
      "0.0007511402450474223\n",
      "iteration 66 loss function value = 1136.935977134346\n",
      "0.0007446741868495552\n",
      "iteration 67 loss function value = 1145.3691816522519\n",
      "0.0007383660631472236\n",
      "iteration 68 loss function value = 1153.7300386473166\n",
      "0.0007322096226237734\n",
      "iteration 69 loss function value = 1162.020225451388\n",
      "0.0007261989503191452\n",
      "iteration 70 loss function value = 1170.2413552831747\n",
      "0.0007203284449517063\n",
      "iteration 71 loss function value = 1178.394980547413\n",
      "0.0007145927980668844\n",
      "iteration 72 loss function value = 1186.482595926907\n",
      "0.0007089869748415806\n",
      "iteration 73 loss function value = 1194.5056412833574\n",
      "0.0007035061963916085\n",
      "iteration 74 loss function value = 1202.4655043797952\n",
      "0.0006981459234476191\n",
      "iteration 75 loss function value = 1210.3635234375884\n",
      "0.0006929018412747905\n",
      "iteration 76 loss function value = 1218.2009895401816\n",
      "0.0006877698457290135\n",
      "iteration 77 loss function value = 1225.979148892739\n",
      "0.0006827460303479066\n",
      "iteration 78 loss function value = 1233.6992049495543\n",
      "0.0006778266743897746\n",
      "iteration 79 loss function value = 1241.3623204166245\n",
      "0.0006730082317384648\n",
      "iteration 80 loss function value = 1248.9696191389755\n",
      "0.0006682873206018455\n",
      "iteration 81 loss function value = 1256.5221878796615\n",
      "0.0006636607139388586\n",
      "iteration 82 loss function value = 1264.0210779983086\n",
      "0.0006591253305534653\n",
      "iteration 83 loss function value = 1271.4673070353101\n",
      "0.0006546782268040867\n",
      "iteration 84 loss function value = 1278.861860208268\n",
      "0.0006503165888768985\n",
      "iteration 85 loss function value = 1286.2056918261555\n",
      "0.0006460377255802914\n",
      "iteration 86 loss function value = 1293.499726626253\n",
      "0.0006418390616180546\n",
      "iteration 87 loss function value = 1300.744861039505\n",
      "0.0006377181313057313\n",
      "iteration 88 loss function value = 1307.941964387946\n",
      "0.000633672572695499\n",
      "iteration 89 loss function value = 1315.0918800192098\n",
      "0.0006297001220791532\n",
      "iteration 90 loss function value = 1322.1954263810978\n",
      "0.0006257986088398192\n",
      "iteration 91 loss function value = 1329.253398041307\n",
      "0.0006219659506284817\n",
      "iteration 92 loss function value = 1336.2665666542239\n",
      "0.0006182001488402849\n",
      "iteration 93 loss function value = 1343.2356818788323\n",
      "0.000614499284368808\n",
      "iteration 94 loss function value = 1350.1614722503068\n",
      "0.0006108615136193792\n",
      "iteration 95 loss function value = 1357.0446460080361\n",
      "0.0006072850647620361\n",
      "iteration 96 loss function value = 1363.8858918835194\n",
      "0.0006037682342084906\n",
      "iteration 97 loss function value = 1370.6858798486332\n",
      "0.0006003093832963116\n",
      "iteration 98 loss function value = 1377.4452618287987\n",
      "0.0005969069351671344\n",
      "iteration 99 loss function value = 1384.1646723806662\n",
      "SGD accuracy: 0.30357142857142855\n",
      "SGD recall: 0.5894736842105263\n",
      "SGD precision: 0.5894736842105263\n",
      "SGD F measure: 0.5894736842105263\n"
     ]
    }
   ],
   "source": [
    "model_multi_2 = logit(X_multi_train, Y_multi_train ,add_intercept = True)\n",
    "loss_multi_2, betas_multi_2 = model_multi_2.fit(method = \"SGD\", verbose = True, max_iter = 100, lr = 0.01, stop_condition = 0.00000001)\n",
    "print(\"SGD accuracy:\", model_multi_2.accuracy(model_multi_2.X, model_multi_2.y))\n",
    "print(\"SGD recall:\", model_multi_2.recall(model_multi_2.X, model_multi_2.y))\n",
    "print(\"SGD precision:\", model_multi_2.precision(model_multi_1.X, model_multi_1.y))\n",
    "print(\"SGD F measure:\", model_multi_2.f_measure(model_multi_1.X, model_multi_1.y))"
   ]
  },
  {
   "cell_type": "code",
   "execution_count": 42,
   "metadata": {},
   "outputs": [
    {
     "data": {
      "text/plain": [
       "(426, 5)"
      ]
     },
     "execution_count": 42,
     "metadata": {},
     "output_type": "execute_result"
    }
   ],
   "source": [
    "model2.X.shape"
   ]
  },
  {
   "cell_type": "code",
   "execution_count": 118,
   "metadata": {},
   "outputs": [
    {
     "data": {
      "text/plain": [
       "0.09816091954022989"
      ]
     },
     "execution_count": 118,
     "metadata": {},
     "output_type": "execute_result"
    }
   ],
   "source": [
    "y1_train.mean()"
   ]
  },
  {
   "cell_type": "code",
   "execution_count": 119,
   "metadata": {},
   "outputs": [
    {
     "data": {
      "text/plain": [
       "0.09028256374913853"
      ]
     },
     "execution_count": 119,
     "metadata": {},
     "output_type": "execute_result"
    }
   ],
   "source": [
    "y1_test.mean()"
   ]
  },
  {
   "cell_type": "code",
   "execution_count": 43,
   "metadata": {},
   "outputs": [
    {
     "data": {
      "text/plain": [
       "array([[ 1.12697804,  1.8836361 ,  0.53816435, -1.15908311]])"
      ]
     },
     "execution_count": 43,
     "metadata": {},
     "output_type": "execute_result"
    }
   ],
   "source": [
    "betas2[-1].reshape(1,-1)[:,1:]"
   ]
  },
  {
   "cell_type": "code",
   "execution_count": 149,
   "metadata": {},
   "outputs": [
    {
     "name": "stdout",
     "output_type": "stream",
     "text": [
      "0.9038793103448276\n"
     ]
    },
    {
     "data": {
      "text/plain": [
       "array([[-1.92093266e-12, -1.88008283e-12, -1.86066965e-12,\n",
       "        -1.73261110e-12, -1.86054453e-12, -1.80848485e-12,\n",
       "        -1.23179421e-14, -1.14656623e-07, -2.63900412e-16,\n",
       "         1.18071756e-16, -7.73609476e-16, -1.31709861e-14,\n",
       "        -1.67427823e-15, -9.21501045e-16,  1.63446256e-15,\n",
       "        -7.53259397e-15, -2.06003973e-15]])"
      ]
     },
     "execution_count": 149,
     "metadata": {},
     "output_type": "execute_result"
    }
   ],
   "source": [
    "from sklearn.linear_model import LogisticRegression\n",
    "\n",
    "model = LogisticRegression(solver = \"lbfgs\", fit_intercept=True, max_iter=1000)\n",
    "model.fit(X1_train, y1_train)\n",
    "print(model.score(X1_train, y1_train))\n",
    "model.coef_"
   ]
  },
  {
   "cell_type": "code",
   "execution_count": 145,
   "metadata": {},
   "outputs": [
    {
     "name": "stdout",
     "output_type": "stream",
     "text": [
      "Optimization terminated successfully.\n",
      "         Current function value: 0.199986\n",
      "         Iterations 9\n"
     ]
    },
    {
     "data": {
      "text/plain": [
       "0.9206896551724137"
      ]
     },
     "execution_count": 145,
     "metadata": {},
     "output_type": "execute_result"
    }
   ],
   "source": [
    "from statsmodels.discrete.discrete_model import Logit\n",
    "\n",
    "#X = df.drop(\"chd\", axis = 1, inplace=False)\n",
    "#y = df.chd\n",
    "\n",
    "model = Logit(endog = y1_train, exog = X1_train)\n",
    "res = model.fit()\n",
    "np.sum((res.predict(X1_train) > 0.5) == y1_train) / X1_train.shape[0]"
   ]
  },
  {
   "cell_type": "code",
   "execution_count": 56,
   "metadata": {},
   "outputs": [
    {
     "data": {
      "text/plain": [
       "(569, 4)"
      ]
     },
     "execution_count": 56,
     "metadata": {},
     "output_type": "execute_result"
    }
   ],
   "source": [
    "X.shape"
   ]
  },
  {
   "cell_type": "code",
   "execution_count": 126,
   "metadata": {},
   "outputs": [
    {
     "data": {
      "image/png": "[encoded data removed]",
      "text/plain": [
       "<Figure size 576x432 with 1 Axes>"
      ]
     },
     "metadata": {
      "needs_background": "light"
     },
     "output_type": "display_data"
    }
   ],
   "source": [
    "from mpl_toolkits.mplot3d import Axes3D\n",
    "\n",
    "fig = plt.figure(figsize = (8,6))\n",
    "ax = Axes3D(fig)\n",
    "\n",
    "sequence_containing_x_vals1 = [i[0][0] for i in betas1]\n",
    "sequence_containing_y_vals1 = [i[1][0] for i in betas1]\n",
    "sequence_containing_z_vals1 = loss1\n",
    "\n",
    "sequence_containing_x_vals2 = [i[0][0] for i in betas2]\n",
    "sequence_containing_y_vals2 = [i[1][0] for i in betas2]\n",
    "sequence_containing_z_vals2 = loss2\n",
    "\n",
    "\n",
    "ax.scatter(sequence_containing_x_vals2, sequence_containing_y_vals2, sequence_containing_z_vals2, marker = \"o\",\n",
    "          color = \"blue\", s = 5, alpha =0.3)\n",
    "ax.scatter(sequence_containing_x_vals1, sequence_containing_y_vals1, sequence_containing_z_vals1, marker = \"o\",\n",
    "          color = \"green\", s = 40)\n",
    "\n",
    "plt.title(\"3D statter plot\")\n",
    "ax.set_xlabel(\"Beta 1\")\n",
    "ax.set_ylabel(\"Beta 2\")\n",
    "ax.set_zlabel(\"Values of loss function\")\n",
    "plt.legend([\"GD\", \"SGD\"])\n",
    "plt.show()"
   ]
  }
 ],
 "metadata": {
  "kernelspec": {
   "display_name": "Python 3",
   "language": "python",
   "name": "python3"
  },
  "language_info": {
   "codemirror_mode": {
    "name": "ipython",
    "version": 3
   },
   "file_extension": ".py",
   "mimetype": "text/x-python",
   "name": "python",
   "nbconvert_exporter": "python",
   "pygments_lexer": "ipython3",
   "version": "3.7.4"
  }
 },
 "nbformat": 4,
 "nbformat_minor": 2
}
