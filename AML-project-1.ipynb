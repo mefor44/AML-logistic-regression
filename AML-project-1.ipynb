{
 "cells": [
  {
   "cell_type": "code",
   "execution_count": 1,
   "metadata": {},
   "outputs": [],
   "source": [
    "import numpy as np\n",
    "import pandas as pd\n",
    "from sklearn.metrics import log_loss"
   ]
  },
  {
   "cell_type": "code",
   "execution_count": 188,
   "metadata": {},
   "outputs": [],
   "source": [
    "df = pd.read_csv(\"..//Labs//lab2_logistic_regression//SAheart.data\", sep = \",\")\n",
    "df = df.drop(\"row.names\", axis = 1)\n",
    "df[\"famhist_present\"] = pd.get_dummies(df.famhist)[\"Present\"] # famhist can be: present | absent\n",
    "df.drop(\"famhist\", axis = 1, inplace = True)\n",
    "df[\"intercept\"] = 1\n",
    "\n",
    "X = df.drop(\"chd\", axis = 1, inplace=False)\n",
    "y = df.chd"
   ]
  },
  {
   "cell_type": "code",
   "execution_count": 172,
   "metadata": {},
   "outputs": [],
   "source": [
    "df = pd.read_csv(\"data.simple.train.10000.csv\")\n",
    "X = df.iloc[:,:2]\n",
    "y = pd.get_dummies(df.cls, drop_first = True)"
   ]
  },
  {
   "cell_type": "code",
   "execution_count": null,
   "metadata": {},
   "outputs": [],
   "source": []
  },
  {
   "cell_type": "code",
   "execution_count": 20,
   "metadata": {},
   "outputs": [
    {
     "data": {
      "text/html": [
       "<div>\n",
       "<style scoped>\n",
       "    .dataframe tbody tr th:only-of-type {\n",
       "        vertical-align: middle;\n",
       "    }\n",
       "\n",
       "    .dataframe tbody tr th {\n",
       "        vertical-align: top;\n",
       "    }\n",
       "\n",
       "    .dataframe thead th {\n",
       "        text-align: right;\n",
       "    }\n",
       "</style>\n",
       "<table border=\"1\" class=\"dataframe\">\n",
       "  <thead>\n",
       "    <tr style=\"text-align: right;\">\n",
       "      <th></th>\n",
       "      <th>sbp</th>\n",
       "      <th>tobacco</th>\n",
       "      <th>ldl</th>\n",
       "      <th>adiposity</th>\n",
       "      <th>typea</th>\n",
       "      <th>obesity</th>\n",
       "      <th>alcohol</th>\n",
       "      <th>age</th>\n",
       "      <th>chd</th>\n",
       "      <th>famhist_present</th>\n",
       "      <th>intercept</th>\n",
       "    </tr>\n",
       "  </thead>\n",
       "  <tbody>\n",
       "    <tr>\n",
       "      <td>0</td>\n",
       "      <td>160</td>\n",
       "      <td>12.00</td>\n",
       "      <td>5.73</td>\n",
       "      <td>23.11</td>\n",
       "      <td>49</td>\n",
       "      <td>25.30</td>\n",
       "      <td>97.20</td>\n",
       "      <td>52</td>\n",
       "      <td>1</td>\n",
       "      <td>1</td>\n",
       "      <td>1</td>\n",
       "    </tr>\n",
       "    <tr>\n",
       "      <td>1</td>\n",
       "      <td>144</td>\n",
       "      <td>0.01</td>\n",
       "      <td>4.41</td>\n",
       "      <td>28.61</td>\n",
       "      <td>55</td>\n",
       "      <td>28.87</td>\n",
       "      <td>2.06</td>\n",
       "      <td>63</td>\n",
       "      <td>1</td>\n",
       "      <td>0</td>\n",
       "      <td>1</td>\n",
       "    </tr>\n",
       "    <tr>\n",
       "      <td>2</td>\n",
       "      <td>118</td>\n",
       "      <td>0.08</td>\n",
       "      <td>3.48</td>\n",
       "      <td>32.28</td>\n",
       "      <td>52</td>\n",
       "      <td>29.14</td>\n",
       "      <td>3.81</td>\n",
       "      <td>46</td>\n",
       "      <td>0</td>\n",
       "      <td>1</td>\n",
       "      <td>1</td>\n",
       "    </tr>\n",
       "    <tr>\n",
       "      <td>3</td>\n",
       "      <td>170</td>\n",
       "      <td>7.50</td>\n",
       "      <td>6.41</td>\n",
       "      <td>38.03</td>\n",
       "      <td>51</td>\n",
       "      <td>31.99</td>\n",
       "      <td>24.26</td>\n",
       "      <td>58</td>\n",
       "      <td>1</td>\n",
       "      <td>1</td>\n",
       "      <td>1</td>\n",
       "    </tr>\n",
       "    <tr>\n",
       "      <td>4</td>\n",
       "      <td>134</td>\n",
       "      <td>13.60</td>\n",
       "      <td>3.50</td>\n",
       "      <td>27.78</td>\n",
       "      <td>60</td>\n",
       "      <td>25.99</td>\n",
       "      <td>57.34</td>\n",
       "      <td>49</td>\n",
       "      <td>1</td>\n",
       "      <td>1</td>\n",
       "      <td>1</td>\n",
       "    </tr>\n",
       "  </tbody>\n",
       "</table>\n",
       "</div>"
      ],
      "text/plain": [
       "   sbp  tobacco   ldl  adiposity  typea  obesity  alcohol  age  chd  \\\n",
       "0  160    12.00  5.73      23.11     49    25.30    97.20   52    1   \n",
       "1  144     0.01  4.41      28.61     55    28.87     2.06   63    1   \n",
       "2  118     0.08  3.48      32.28     52    29.14     3.81   46    0   \n",
       "3  170     7.50  6.41      38.03     51    31.99    24.26   58    1   \n",
       "4  134    13.60  3.50      27.78     60    25.99    57.34   49    1   \n",
       "\n",
       "   famhist_present  intercept  \n",
       "0                1          1  \n",
       "1                0          1  \n",
       "2                1          1  \n",
       "3                1          1  \n",
       "4                1          1  "
      ]
     },
     "execution_count": 20,
     "metadata": {},
     "output_type": "execute_result"
    }
   ],
   "source": [
    "df.head()"
   ]
  },
  {
   "cell_type": "code",
   "execution_count": 189,
   "metadata": {},
   "outputs": [],
   "source": [
    "class logit():\n",
    "    def __init__(self, exog, endog):\n",
    "        self.y = endog # T x 1\n",
    "        self.X = exog # T x k\n",
    "        self.b = np.linalg.inv(self.X.T @ self.X) @ self.X.T @ self.y # k x 1, initialized with LS estimator\n",
    "    \n",
    "    def sigmoid(x):\n",
    "        return 1 / (1 + np.exp(-x))\n",
    "    \n",
    "    def cross_entrophy(y_true, y_pred):\n",
    "        return y_true * np.log(y_pred) + (1 - y_true) * np.log(1 - y_pred)\n",
    "    \n",
    "    \n",
    "    def cross_entrophy_der(X, y, b):\n",
    "        p_hat = 1 / (1 + np.exp( - X @ b)) # T x 1\n",
    "        return (p_hat - y) * X  # T x k\n",
    "    \n",
    "    def predict_proba(self, X):\n",
    "        return 1 / (1 + np.exp( - X @ self.b))\n",
    "        \n",
    "    def predict_y(self, X, threshold = 0.5):\n",
    "        p_hat = 1 / (1 + np.exp( - X @ self.b))\n",
    "        return np.array([1 if i[0] > threshold else 0 for i in p_hat]).reshape(-1,1)\n",
    "    \n",
    "    \n",
    "    def accuracy(self, X, y):\n",
    "        y_hat = logit.predict_y(self, X)\n",
    "        correct_num = np.sum(y_hat == y.reshape(-1,1))\n",
    "        return correct_num / X.shape[0]\n",
    "    \n",
    "    \n",
    "    def fit(self, stop_condition = 0.0001, lr = 0.0001, GD = True, SGD = False, batch_size = None, printe = False):\n",
    "        loss = []\n",
    "        b_updates = []\n",
    "        predicted = logit.predict_proba(self, self.X)\n",
    "        loss.append(logit.cross_entrophy(self.y, predicted))\n",
    "        cond = 1\n",
    "        i = 1\n",
    "        \n",
    "        if GD:\n",
    "            batch_size = self.X.shape[0]\n",
    "        elif SGD:\n",
    "            batch_size = 1\n",
    "        \n",
    "        while cond > stop_condition and i < 300:\n",
    "            \n",
    "            \n",
    "            nb = 0 #starter for batch\n",
    "            \n",
    "\n",
    "            while(nb < self.X.shape[0] and cond > stop_condition):\n",
    "                \n",
    "                #partitionig of dataset\n",
    "                x_part = self.X[nb:(nb + batch_size), :]\n",
    "                y_part = self.y[nb:(nb + batch_size), :]\n",
    "            \n",
    "                \n",
    "                nb = nb + batch_size\n",
    "                \n",
    "                \n",
    "                predicted = logit.predict_proba(self, x_part)\n",
    "                if SGD:\n",
    "                    gradient = logit.cross_entrophy_der(x_part, y_part, self.b).reshape(-1,1)\n",
    "                else:\n",
    "                    gradient = np.mean(logit.cross_entrophy_der(x_part, y_part, self.b), axis = 0).reshape(-1,1)\n",
    "                \n",
    "                # updating weights\n",
    "                beta_old = self.b\n",
    "                self.b = beta_old - lr * gradient\n",
    "                \n",
    "                # update the value of condition\n",
    "                cond = np.max(np.abs((beta_old - self.b) / beta_old))\n",
    "                \n",
    "        \n",
    "\n",
    "            # loss function after one full iteration\n",
    "            predicted = logit.predict_proba(self, self.X)\n",
    "            loss.append(logit.cross_entrophy(self.y, predicted))\n",
    "            \n",
    "            \n",
    "            if printe == True:\n",
    "                print(\"iteration\", i, \"loss function value =\", loss[-1])\n",
    "            i+=1\n",
    "\n",
    "        print(cond)\n",
    "        return loss\n",
    "    "
   ]
  },
  {
   "cell_type": "code",
   "execution_count": 192,
   "metadata": {},
   "outputs": [
    {
     "name": "stdout",
     "output_type": "stream",
     "text": [
      "0.0027982518441916236\n"
     ]
    },
    {
     "data": {
      "text/plain": [
       "0.696969696969697"
      ]
     },
     "execution_count": 192,
     "metadata": {},
     "output_type": "execute_result"
    }
   ],
   "source": [
    "model = logit(X.to_numpy(), y.to_numpy().reshape(-1,1))\n",
    "model.fit(batch_size = 20, printe = False)\n",
    "model.accuracy(model.X, model.y)\n"
   ]
  },
  {
   "cell_type": "code",
   "execution_count": 191,
   "metadata": {},
   "outputs": [
    {
     "name": "stdout",
     "output_type": "stream",
     "text": [
      "Optimization terminated successfully.\n",
      "         Current function value: 0.510974\n",
      "         Iterations 6\n"
     ]
    },
    {
     "data": {
      "text/plain": [
       "0.7337662337662337"
      ]
     },
     "execution_count": 191,
     "metadata": {},
     "output_type": "execute_result"
    }
   ],
   "source": [
    "from statsmodels.discrete.discrete_model import Logit\n",
    "\n",
    "#X = df.drop(\"chd\", axis = 1, inplace=False)\n",
    "#y = df.chd\n",
    "\n",
    "model = Logit(endog = y, exog = X)\n",
    "res = model.fit()\n",
    "np.sum((res.predict(X ) > 0.5) == y) / X.shape[0]"
   ]
  },
  {
   "cell_type": "code",
   "execution_count": null,
   "metadata": {},
   "outputs": [],
   "source": []
  },
  {
   "cell_type": "code",
   "execution_count": null,
   "metadata": {},
   "outputs": [],
   "source": []
  }
 ],
 "metadata": {
  "kernelspec": {
   "display_name": "Python 3",
   "language": "python",
   "name": "python3"
  },
  "language_info": {
   "codemirror_mode": {
    "name": "ipython",
    "version": 3
   },
   "file_extension": ".py",
   "mimetype": "text/x-python",
   "name": "python",
   "nbconvert_exporter": "python",
   "pygments_lexer": "ipython3",
   "version": "3.7.4"
  }
 },
 "nbformat": 4,
 "nbformat_minor": 2
}
